{
 "cells": [
  {
   "cell_type": "code",
   "execution_count": 78,
   "metadata": {
    "collapsed": false
   },
   "outputs": [],
   "source": [
    "import numpy as np\n",
    "import pandas as pd\n",
    "import matplotlib.pyplot as plot"
   ]
  },
  {
   "cell_type": "code",
   "execution_count": 3,
   "metadata": {
    "collapsed": false
   },
   "outputs": [],
   "source": [
    "weather = pd.read_csv(\"Graficos/weather.csv\")"
   ]
  },
  {
   "cell_type": "code",
   "execution_count": 4,
   "metadata": {
    "collapsed": false
   },
   "outputs": [
    {
     "data": {
      "text/html": [
       "<div>\n",
       "<table border=\"1\" class=\"dataframe\">\n",
       "  <thead>\n",
       "    <tr style=\"text-align: right;\">\n",
       "      <th></th>\n",
       "      <th>date</th>\n",
       "      <th>max_temperature_f</th>\n",
       "      <th>mean_temperature_f</th>\n",
       "      <th>min_temperature_f</th>\n",
       "      <th>max_dew_point_f</th>\n",
       "      <th>mean_dew_point_f</th>\n",
       "      <th>min_dew_point_f</th>\n",
       "      <th>max_humidity</th>\n",
       "      <th>mean_humidity</th>\n",
       "      <th>min_humidity</th>\n",
       "      <th>...</th>\n",
       "      <th>mean_visibility_miles</th>\n",
       "      <th>min_visibility_miles</th>\n",
       "      <th>max_wind_Speed_mph</th>\n",
       "      <th>mean_wind_speed_mph</th>\n",
       "      <th>max_gust_speed_mph</th>\n",
       "      <th>precipitation_inches</th>\n",
       "      <th>cloud_cover</th>\n",
       "      <th>events</th>\n",
       "      <th>wind_dir_degrees</th>\n",
       "      <th>zip_code</th>\n",
       "    </tr>\n",
       "  </thead>\n",
       "  <tbody>\n",
       "    <tr>\n",
       "      <th>0</th>\n",
       "      <td>8/29/2013</td>\n",
       "      <td>74.0</td>\n",
       "      <td>68.0</td>\n",
       "      <td>61.0</td>\n",
       "      <td>61.0</td>\n",
       "      <td>58.0</td>\n",
       "      <td>56.0</td>\n",
       "      <td>93.0</td>\n",
       "      <td>75.0</td>\n",
       "      <td>57.0</td>\n",
       "      <td>...</td>\n",
       "      <td>10.0</td>\n",
       "      <td>10.0</td>\n",
       "      <td>23.0</td>\n",
       "      <td>11.0</td>\n",
       "      <td>28.0</td>\n",
       "      <td>0</td>\n",
       "      <td>4.0</td>\n",
       "      <td>NaN</td>\n",
       "      <td>286.0</td>\n",
       "      <td>94107</td>\n",
       "    </tr>\n",
       "    <tr>\n",
       "      <th>1</th>\n",
       "      <td>8/30/2013</td>\n",
       "      <td>78.0</td>\n",
       "      <td>69.0</td>\n",
       "      <td>60.0</td>\n",
       "      <td>61.0</td>\n",
       "      <td>58.0</td>\n",
       "      <td>56.0</td>\n",
       "      <td>90.0</td>\n",
       "      <td>70.0</td>\n",
       "      <td>50.0</td>\n",
       "      <td>...</td>\n",
       "      <td>10.0</td>\n",
       "      <td>7.0</td>\n",
       "      <td>29.0</td>\n",
       "      <td>13.0</td>\n",
       "      <td>35.0</td>\n",
       "      <td>0</td>\n",
       "      <td>2.0</td>\n",
       "      <td>NaN</td>\n",
       "      <td>291.0</td>\n",
       "      <td>94107</td>\n",
       "    </tr>\n",
       "    <tr>\n",
       "      <th>2</th>\n",
       "      <td>8/31/2013</td>\n",
       "      <td>71.0</td>\n",
       "      <td>64.0</td>\n",
       "      <td>57.0</td>\n",
       "      <td>57.0</td>\n",
       "      <td>56.0</td>\n",
       "      <td>54.0</td>\n",
       "      <td>93.0</td>\n",
       "      <td>75.0</td>\n",
       "      <td>57.0</td>\n",
       "      <td>...</td>\n",
       "      <td>10.0</td>\n",
       "      <td>10.0</td>\n",
       "      <td>26.0</td>\n",
       "      <td>15.0</td>\n",
       "      <td>31.0</td>\n",
       "      <td>0</td>\n",
       "      <td>4.0</td>\n",
       "      <td>NaN</td>\n",
       "      <td>284.0</td>\n",
       "      <td>94107</td>\n",
       "    </tr>\n",
       "    <tr>\n",
       "      <th>3</th>\n",
       "      <td>9/1/2013</td>\n",
       "      <td>74.0</td>\n",
       "      <td>66.0</td>\n",
       "      <td>58.0</td>\n",
       "      <td>60.0</td>\n",
       "      <td>56.0</td>\n",
       "      <td>53.0</td>\n",
       "      <td>87.0</td>\n",
       "      <td>68.0</td>\n",
       "      <td>49.0</td>\n",
       "      <td>...</td>\n",
       "      <td>10.0</td>\n",
       "      <td>10.0</td>\n",
       "      <td>25.0</td>\n",
       "      <td>13.0</td>\n",
       "      <td>29.0</td>\n",
       "      <td>0</td>\n",
       "      <td>4.0</td>\n",
       "      <td>NaN</td>\n",
       "      <td>284.0</td>\n",
       "      <td>94107</td>\n",
       "    </tr>\n",
       "    <tr>\n",
       "      <th>4</th>\n",
       "      <td>9/2/2013</td>\n",
       "      <td>75.0</td>\n",
       "      <td>69.0</td>\n",
       "      <td>62.0</td>\n",
       "      <td>61.0</td>\n",
       "      <td>60.0</td>\n",
       "      <td>58.0</td>\n",
       "      <td>93.0</td>\n",
       "      <td>77.0</td>\n",
       "      <td>61.0</td>\n",
       "      <td>...</td>\n",
       "      <td>10.0</td>\n",
       "      <td>6.0</td>\n",
       "      <td>23.0</td>\n",
       "      <td>12.0</td>\n",
       "      <td>30.0</td>\n",
       "      <td>0</td>\n",
       "      <td>6.0</td>\n",
       "      <td>NaN</td>\n",
       "      <td>277.0</td>\n",
       "      <td>94107</td>\n",
       "    </tr>\n",
       "  </tbody>\n",
       "</table>\n",
       "<p>5 rows × 24 columns</p>\n",
       "</div>"
      ],
      "text/plain": [
       "        date  max_temperature_f  mean_temperature_f  min_temperature_f  \\\n",
       "0  8/29/2013               74.0                68.0               61.0   \n",
       "1  8/30/2013               78.0                69.0               60.0   \n",
       "2  8/31/2013               71.0                64.0               57.0   \n",
       "3   9/1/2013               74.0                66.0               58.0   \n",
       "4   9/2/2013               75.0                69.0               62.0   \n",
       "\n",
       "   max_dew_point_f  mean_dew_point_f  min_dew_point_f  max_humidity  \\\n",
       "0             61.0              58.0             56.0          93.0   \n",
       "1             61.0              58.0             56.0          90.0   \n",
       "2             57.0              56.0             54.0          93.0   \n",
       "3             60.0              56.0             53.0          87.0   \n",
       "4             61.0              60.0             58.0          93.0   \n",
       "\n",
       "   mean_humidity  min_humidity   ...     mean_visibility_miles  \\\n",
       "0           75.0          57.0   ...                      10.0   \n",
       "1           70.0          50.0   ...                      10.0   \n",
       "2           75.0          57.0   ...                      10.0   \n",
       "3           68.0          49.0   ...                      10.0   \n",
       "4           77.0          61.0   ...                      10.0   \n",
       "\n",
       "   min_visibility_miles  max_wind_Speed_mph  mean_wind_speed_mph  \\\n",
       "0                  10.0                23.0                 11.0   \n",
       "1                   7.0                29.0                 13.0   \n",
       "2                  10.0                26.0                 15.0   \n",
       "3                  10.0                25.0                 13.0   \n",
       "4                   6.0                23.0                 12.0   \n",
       "\n",
       "   max_gust_speed_mph  precipitation_inches  cloud_cover  events  \\\n",
       "0                28.0                     0          4.0     NaN   \n",
       "1                35.0                     0          2.0     NaN   \n",
       "2                31.0                     0          4.0     NaN   \n",
       "3                29.0                     0          4.0     NaN   \n",
       "4                30.0                     0          6.0     NaN   \n",
       "\n",
       "   wind_dir_degrees zip_code  \n",
       "0             286.0    94107  \n",
       "1             291.0    94107  \n",
       "2             284.0    94107  \n",
       "3             284.0    94107  \n",
       "4             277.0    94107  \n",
       "\n",
       "[5 rows x 24 columns]"
      ]
     },
     "execution_count": 4,
     "metadata": {},
     "output_type": "execute_result"
    }
   ],
   "source": [
    "weather.head()"
   ]
  },
  {
   "cell_type": "code",
   "execution_count": 7,
   "metadata": {
    "collapsed": false
   },
   "outputs": [
    {
     "name": "stdout",
     "output_type": "stream",
     "text": [
      "date\n",
      "max_temperature_f\n",
      "mean_temperature_f\n",
      "min_temperature_f\n",
      "max_dew_point_f\n",
      "mean_dew_point_f\n",
      "min_dew_point_f\n",
      "max_humidity\n",
      "mean_humidity\n",
      "min_humidity\n",
      "max_sea_level_pressure_inches\n",
      "mean_sea_level_pressure_inches\n",
      "min_sea_level_pressure_inches\n",
      "max_visibility_miles\n",
      "mean_visibility_miles\n",
      "min_visibility_miles\n",
      "max_wind_Speed_mph\n",
      "mean_wind_speed_mph\n",
      "max_gust_speed_mph\n",
      "precipitation_inches\n",
      "cloud_cover\n",
      "events\n",
      "wind_dir_degrees\n",
      "zip_code\n"
     ]
    }
   ],
   "source": [
    "for column in weather.columns.values:\n",
    "    print column"
   ]
  },
  {
   "cell_type": "code",
   "execution_count": 15,
   "metadata": {
    "collapsed": false,
    "scrolled": true
   },
   "outputs": [
    {
     "ename": "AttributeError",
     "evalue": "'DataFrame' object has no attribute 'scatter'",
     "output_type": "error",
     "traceback": [
      "\u001b[0;31m---------------------------------------------------------------------------\u001b[0m",
      "\u001b[0;31mAttributeError\u001b[0m                            Traceback (most recent call last)",
      "\u001b[0;32m<ipython-input-15-61ceb3bc984c>\u001b[0m in \u001b[0;36m<module>\u001b[0;34m()\u001b[0m\n\u001b[1;32m      1\u001b[0m \u001b[0mweather_mint_prec\u001b[0m\u001b[0;34m=\u001b[0m\u001b[0mweather\u001b[0m\u001b[0;34m[\u001b[0m\u001b[0;34m[\u001b[0m\u001b[0;34m'min_temperature_f'\u001b[0m\u001b[0;34m,\u001b[0m\u001b[0;34m'precipitation_inches'\u001b[0m\u001b[0;34m]\u001b[0m\u001b[0;34m]\u001b[0m\u001b[0;34m\u001b[0m\u001b[0m\n\u001b[1;32m      2\u001b[0m \u001b[0mget_ipython\u001b[0m\u001b[0;34m(\u001b[0m\u001b[0;34m)\u001b[0m\u001b[0;34m.\u001b[0m\u001b[0mmagic\u001b[0m\u001b[0;34m(\u001b[0m\u001b[0;34mu'matplotlib inline'\u001b[0m\u001b[0;34m)\u001b[0m\u001b[0;34m\u001b[0m\u001b[0m\n\u001b[0;32m----> 3\u001b[0;31m \u001b[0mweather_mint_prec\u001b[0m\u001b[0;34m.\u001b[0m\u001b[0mscatter\u001b[0m\u001b[0;34m(\u001b[0m\u001b[0;34m)\u001b[0m\u001b[0;34m\u001b[0m\u001b[0m\n\u001b[0m",
      "\u001b[0;32m/usr/local/lib/python2.7/dist-packages/pandas/core/generic.pyc\u001b[0m in \u001b[0;36m__getattr__\u001b[0;34m(self, name)\u001b[0m\n\u001b[1;32m   2742\u001b[0m             \u001b[0;32mif\u001b[0m \u001b[0mname\u001b[0m \u001b[0;32min\u001b[0m \u001b[0mself\u001b[0m\u001b[0;34m.\u001b[0m\u001b[0m_info_axis\u001b[0m\u001b[0;34m:\u001b[0m\u001b[0;34m\u001b[0m\u001b[0m\n\u001b[1;32m   2743\u001b[0m                 \u001b[0;32mreturn\u001b[0m \u001b[0mself\u001b[0m\u001b[0;34m[\u001b[0m\u001b[0mname\u001b[0m\u001b[0;34m]\u001b[0m\u001b[0;34m\u001b[0m\u001b[0m\n\u001b[0;32m-> 2744\u001b[0;31m             \u001b[0;32mreturn\u001b[0m \u001b[0mobject\u001b[0m\u001b[0;34m.\u001b[0m\u001b[0m__getattribute__\u001b[0m\u001b[0;34m(\u001b[0m\u001b[0mself\u001b[0m\u001b[0;34m,\u001b[0m \u001b[0mname\u001b[0m\u001b[0;34m)\u001b[0m\u001b[0;34m\u001b[0m\u001b[0m\n\u001b[0m\u001b[1;32m   2745\u001b[0m \u001b[0;34m\u001b[0m\u001b[0m\n\u001b[1;32m   2746\u001b[0m     \u001b[0;32mdef\u001b[0m \u001b[0m__setattr__\u001b[0m\u001b[0;34m(\u001b[0m\u001b[0mself\u001b[0m\u001b[0;34m,\u001b[0m \u001b[0mname\u001b[0m\u001b[0;34m,\u001b[0m \u001b[0mvalue\u001b[0m\u001b[0;34m)\u001b[0m\u001b[0;34m:\u001b[0m\u001b[0;34m\u001b[0m\u001b[0m\n",
      "\u001b[0;31mAttributeError\u001b[0m: 'DataFrame' object has no attribute 'scatter'"
     ]
    }
   ],
   "source": [
    "weather_mint_prec=weather[['min_temperature_f','precipitation_inches']]\n",
    "%matplotlib inline\n"
   ]
  },
  {
   "cell_type": "code",
   "execution_count": 16,
   "metadata": {
    "collapsed": true
   },
   "outputs": [],
   "source": [
    "trips=pd.read_csv(\"Graficos/trip.csv\")"
   ]
  },
  {
   "cell_type": "code",
   "execution_count": 17,
   "metadata": {
    "collapsed": true
   },
   "outputs": [],
   "source": [
    "trips_reducido=trips[:100]"
   ]
  },
  {
   "cell_type": "code",
   "execution_count": 18,
   "metadata": {
    "collapsed": false
   },
   "outputs": [
    {
     "data": {
      "text/html": [
       "<div>\n",
       "<table border=\"1\" class=\"dataframe\">\n",
       "  <thead>\n",
       "    <tr style=\"text-align: right;\">\n",
       "      <th></th>\n",
       "      <th>id</th>\n",
       "      <th>duration</th>\n",
       "      <th>start_date</th>\n",
       "      <th>start_station_name</th>\n",
       "      <th>start_station_id</th>\n",
       "      <th>end_date</th>\n",
       "      <th>end_station_name</th>\n",
       "      <th>end_station_id</th>\n",
       "      <th>bike_id</th>\n",
       "      <th>subscription_type</th>\n",
       "      <th>zip_code</th>\n",
       "    </tr>\n",
       "  </thead>\n",
       "  <tbody>\n",
       "    <tr>\n",
       "      <th>0</th>\n",
       "      <td>4576</td>\n",
       "      <td>63</td>\n",
       "      <td>8/29/2013 14:13</td>\n",
       "      <td>South Van Ness at Market</td>\n",
       "      <td>66</td>\n",
       "      <td>8/29/2013 14:14</td>\n",
       "      <td>South Van Ness at Market</td>\n",
       "      <td>66</td>\n",
       "      <td>520</td>\n",
       "      <td>Subscriber</td>\n",
       "      <td>94127</td>\n",
       "    </tr>\n",
       "    <tr>\n",
       "      <th>1</th>\n",
       "      <td>4607</td>\n",
       "      <td>70</td>\n",
       "      <td>8/29/2013 14:42</td>\n",
       "      <td>San Jose City Hall</td>\n",
       "      <td>10</td>\n",
       "      <td>8/29/2013 14:43</td>\n",
       "      <td>San Jose City Hall</td>\n",
       "      <td>10</td>\n",
       "      <td>661</td>\n",
       "      <td>Subscriber</td>\n",
       "      <td>95138</td>\n",
       "    </tr>\n",
       "    <tr>\n",
       "      <th>2</th>\n",
       "      <td>4130</td>\n",
       "      <td>71</td>\n",
       "      <td>8/29/2013 10:16</td>\n",
       "      <td>Mountain View City Hall</td>\n",
       "      <td>27</td>\n",
       "      <td>8/29/2013 10:17</td>\n",
       "      <td>Mountain View City Hall</td>\n",
       "      <td>27</td>\n",
       "      <td>48</td>\n",
       "      <td>Subscriber</td>\n",
       "      <td>97214</td>\n",
       "    </tr>\n",
       "    <tr>\n",
       "      <th>3</th>\n",
       "      <td>4251</td>\n",
       "      <td>77</td>\n",
       "      <td>8/29/2013 11:29</td>\n",
       "      <td>San Jose City Hall</td>\n",
       "      <td>10</td>\n",
       "      <td>8/29/2013 11:30</td>\n",
       "      <td>San Jose City Hall</td>\n",
       "      <td>10</td>\n",
       "      <td>26</td>\n",
       "      <td>Subscriber</td>\n",
       "      <td>95060</td>\n",
       "    </tr>\n",
       "    <tr>\n",
       "      <th>4</th>\n",
       "      <td>4299</td>\n",
       "      <td>83</td>\n",
       "      <td>8/29/2013 12:02</td>\n",
       "      <td>South Van Ness at Market</td>\n",
       "      <td>66</td>\n",
       "      <td>8/29/2013 12:04</td>\n",
       "      <td>Market at 10th</td>\n",
       "      <td>67</td>\n",
       "      <td>319</td>\n",
       "      <td>Subscriber</td>\n",
       "      <td>94103</td>\n",
       "    </tr>\n",
       "  </tbody>\n",
       "</table>\n",
       "</div>"
      ],
      "text/plain": [
       "     id  duration       start_date        start_station_name  \\\n",
       "0  4576        63  8/29/2013 14:13  South Van Ness at Market   \n",
       "1  4607        70  8/29/2013 14:42        San Jose City Hall   \n",
       "2  4130        71  8/29/2013 10:16   Mountain View City Hall   \n",
       "3  4251        77  8/29/2013 11:29        San Jose City Hall   \n",
       "4  4299        83  8/29/2013 12:02  South Van Ness at Market   \n",
       "\n",
       "   start_station_id         end_date          end_station_name  \\\n",
       "0                66  8/29/2013 14:14  South Van Ness at Market   \n",
       "1                10  8/29/2013 14:43        San Jose City Hall   \n",
       "2                27  8/29/2013 10:17   Mountain View City Hall   \n",
       "3                10  8/29/2013 11:30        San Jose City Hall   \n",
       "4                66  8/29/2013 12:04            Market at 10th   \n",
       "\n",
       "   end_station_id  bike_id subscription_type zip_code  \n",
       "0              66      520        Subscriber    94127  \n",
       "1              10      661        Subscriber    95138  \n",
       "2              27       48        Subscriber    97214  \n",
       "3              10       26        Subscriber    95060  \n",
       "4              67      319        Subscriber    94103  "
      ]
     },
     "execution_count": 18,
     "metadata": {},
     "output_type": "execute_result"
    }
   ],
   "source": [
    "trips.head()"
   ]
  },
  {
   "cell_type": "code",
   "execution_count": 19,
   "metadata": {
    "collapsed": false
   },
   "outputs": [
    {
     "data": {
      "text/html": [
       "<div>\n",
       "<table border=\"1\" class=\"dataframe\">\n",
       "  <thead>\n",
       "    <tr style=\"text-align: right;\">\n",
       "      <th></th>\n",
       "      <th>id</th>\n",
       "      <th>duration</th>\n",
       "      <th>start_date</th>\n",
       "      <th>start_station_name</th>\n",
       "      <th>start_station_id</th>\n",
       "      <th>end_date</th>\n",
       "      <th>end_station_name</th>\n",
       "      <th>end_station_id</th>\n",
       "      <th>bike_id</th>\n",
       "      <th>subscription_type</th>\n",
       "      <th>zip_code</th>\n",
       "    </tr>\n",
       "  </thead>\n",
       "  <tbody>\n",
       "    <tr>\n",
       "      <th>669954</th>\n",
       "      <td>432951</td>\n",
       "      <td>619</td>\n",
       "      <td>9/1/2014 4:21</td>\n",
       "      <td>Powell Street BART</td>\n",
       "      <td>39</td>\n",
       "      <td>9/1/2014 4:32</td>\n",
       "      <td>Townsend at 7th</td>\n",
       "      <td>65</td>\n",
       "      <td>335</td>\n",
       "      <td>Subscriber</td>\n",
       "      <td>94118</td>\n",
       "    </tr>\n",
       "    <tr>\n",
       "      <th>669955</th>\n",
       "      <td>432950</td>\n",
       "      <td>6712</td>\n",
       "      <td>9/1/2014 3:16</td>\n",
       "      <td>Harry Bridges Plaza (Ferry Building)</td>\n",
       "      <td>50</td>\n",
       "      <td>9/1/2014 5:08</td>\n",
       "      <td>San Francisco Caltrain (Townsend at 4th)</td>\n",
       "      <td>70</td>\n",
       "      <td>259</td>\n",
       "      <td>Customer</td>\n",
       "      <td>44100</td>\n",
       "    </tr>\n",
       "    <tr>\n",
       "      <th>669956</th>\n",
       "      <td>432949</td>\n",
       "      <td>538</td>\n",
       "      <td>9/1/2014 0:05</td>\n",
       "      <td>South Van Ness at Market</td>\n",
       "      <td>66</td>\n",
       "      <td>9/1/2014 0:14</td>\n",
       "      <td>5th at Howard</td>\n",
       "      <td>57</td>\n",
       "      <td>466</td>\n",
       "      <td>Customer</td>\n",
       "      <td>32</td>\n",
       "    </tr>\n",
       "    <tr>\n",
       "      <th>669957</th>\n",
       "      <td>432948</td>\n",
       "      <td>568</td>\n",
       "      <td>9/1/2014 0:05</td>\n",
       "      <td>South Van Ness at Market</td>\n",
       "      <td>66</td>\n",
       "      <td>9/1/2014 0:15</td>\n",
       "      <td>5th at Howard</td>\n",
       "      <td>57</td>\n",
       "      <td>461</td>\n",
       "      <td>Customer</td>\n",
       "      <td>32</td>\n",
       "    </tr>\n",
       "    <tr>\n",
       "      <th>669958</th>\n",
       "      <td>432947</td>\n",
       "      <td>569</td>\n",
       "      <td>9/1/2014 0:05</td>\n",
       "      <td>South Van Ness at Market</td>\n",
       "      <td>66</td>\n",
       "      <td>9/1/2014 0:15</td>\n",
       "      <td>5th at Howard</td>\n",
       "      <td>57</td>\n",
       "      <td>318</td>\n",
       "      <td>Customer</td>\n",
       "      <td>32</td>\n",
       "    </tr>\n",
       "  </tbody>\n",
       "</table>\n",
       "</div>"
      ],
      "text/plain": [
       "            id  duration     start_date                    start_station_name  \\\n",
       "669954  432951       619  9/1/2014 4:21                    Powell Street BART   \n",
       "669955  432950      6712  9/1/2014 3:16  Harry Bridges Plaza (Ferry Building)   \n",
       "669956  432949       538  9/1/2014 0:05              South Van Ness at Market   \n",
       "669957  432948       568  9/1/2014 0:05              South Van Ness at Market   \n",
       "669958  432947       569  9/1/2014 0:05              South Van Ness at Market   \n",
       "\n",
       "        start_station_id       end_date  \\\n",
       "669954                39  9/1/2014 4:32   \n",
       "669955                50  9/1/2014 5:08   \n",
       "669956                66  9/1/2014 0:14   \n",
       "669957                66  9/1/2014 0:15   \n",
       "669958                66  9/1/2014 0:15   \n",
       "\n",
       "                                end_station_name  end_station_id  bike_id  \\\n",
       "669954                           Townsend at 7th              65      335   \n",
       "669955  San Francisco Caltrain (Townsend at 4th)              70      259   \n",
       "669956                             5th at Howard              57      466   \n",
       "669957                             5th at Howard              57      461   \n",
       "669958                             5th at Howard              57      318   \n",
       "\n",
       "       subscription_type zip_code  \n",
       "669954        Subscriber    94118  \n",
       "669955          Customer    44100  \n",
       "669956          Customer       32  \n",
       "669957          Customer       32  \n",
       "669958          Customer       32  "
      ]
     },
     "execution_count": 19,
     "metadata": {},
     "output_type": "execute_result"
    }
   ],
   "source": [
    "trips.tail()"
   ]
  },
  {
   "cell_type": "code",
   "execution_count": 29,
   "metadata": {
    "collapsed": false
   },
   "outputs": [
    {
     "data": {
      "text/plain": [
       "id                    16443\n",
       "duration              16443\n",
       "start_date            16443\n",
       "start_station_name    16443\n",
       "start_station_id      16443\n",
       "end_date              16443\n",
       "end_station_name      16443\n",
       "end_station_id        16443\n",
       "bike_id               16443\n",
       "subscription_type     16443\n",
       "zip_code              15321\n",
       "dtype: int64"
      ]
     },
     "execution_count": 29,
     "metadata": {},
     "output_type": "execute_result"
    }
   ],
   "source": [
    "trips.sort_values('duration',ascending=False)\n",
    "trips[(trips['start_station_id']==trips['end_station_id']) & (trips['subscription_type']=='Customer') ].count()"
   ]
  },
  {
   "cell_type": "code",
   "execution_count": 42,
   "metadata": {
    "collapsed": false,
    "scrolled": true
   },
   "outputs": [
    {
     "data": {
      "text/plain": [
       "id                    123\n",
       "duration              123\n",
       "start_date            123\n",
       "start_station_name    123\n",
       "start_station_id      123\n",
       "end_date              123\n",
       "end_station_name      123\n",
       "end_station_id        123\n",
       "bike_id               123\n",
       "subscription_type     123\n",
       "zip_code              119\n",
       "dtype: int64"
      ]
     },
     "execution_count": 42,
     "metadata": {},
     "output_type": "execute_result"
    }
   ],
   "source": [
    "dur_promedio=trips[['duration']].mean()\n",
    "trips[trips['duration']==int(dur_promedio)].count()"
   ]
  },
  {
   "cell_type": "code",
   "execution_count": 101,
   "metadata": {
    "collapsed": false
   },
   "outputs": [
    {
     "data": {
      "text/plain": [
       "60"
      ]
     },
     "execution_count": 101,
     "metadata": {},
     "output_type": "execute_result"
    }
   ],
   "source": [
    "%matplotlib inline\n",
    "\n",
    "cantidad_duracion=trips[['duration','id']].groupby('duration').count()\n",
    "cantidad_duracion.index\n"
   ]
  },
  {
   "cell_type": "code",
   "execution_count": 106,
   "metadata": {
    "collapsed": false
   },
   "outputs": [
    {
     "data": {
      "text/plain": [
       "<matplotlib.collections.PathCollection at 0x7fb2454c61d0>"
      ]
     },
     "execution_count": 106,
     "metadata": {},
     "output_type": "execute_result"
    },
    {
     "data": {
      "image/png": "[encoded data removed]",
      "text/plain": [
       "<matplotlib.figure.Figure at 0x7fb2454dfd50>"
      ]
     },
     "metadata": {},
     "output_type": "display_data"
    }
   ],
   "source": [
    "plot.scatter(cantidad_duracion.loc[:,'id'],cantidad_duracion.index )"
   ]
  },
  {
   "cell_type": "code",
   "execution_count": 25,
   "metadata": {
    "collapsed": false
   },
   "outputs": [
    {
     "data": {
      "text/plain": [
       "id                    669959\n",
       "duration              669959\n",
       "start_date            669959\n",
       "start_station_name    669959\n",
       "start_station_id      669959\n",
       "end_date              669959\n",
       "end_station_name      669959\n",
       "end_station_id        669959\n",
       "bike_id               669959\n",
       "subscription_type     669959\n",
       "zip_code              663340\n",
       "dtype: int64"
      ]
     },
     "execution_count": 25,
     "metadata": {},
     "output_type": "execute_result"
    }
   ],
   "source": [
    "trips.count()"
   ]
  },
  {
   "cell_type": "code",
   "execution_count": null,
   "metadata": {
    "collapsed": true
   },
   "outputs": [],
   "source": [
    "#Viajes circulares\n",
    "#Viajes turistas\n",
    "#Viajes vs clima\n",
    "#Day commute\n",
    "#Feriados\n",
    "#Estaciones / rutas populares\n",
    "#Movimiento por ciudad\n",
    "#Viaje más largo\n",
    "#Customers vs Subscribers\n",
    "#"
   ]
  }
 ],
 "metadata": {
  "kernelspec": {
   "display_name": "Python 2",
   "language": "python",
   "name": "python2"
  },
  "language_info": {
   "codemirror_mode": {
    "name": "ipython",
    "version": 2
   },
   "file_extension": ".py",
   "mimetype": "text/x-python",
   "name": "python",
   "nbconvert_exporter": "python",
   "pygments_lexer": "ipython2",
   "version": "2.7.13"
  }
 },
 "nbformat": 4,
 "nbformat_minor": 2
}
