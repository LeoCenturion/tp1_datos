{
 "cells": [
  {
   "cell_type": "code",
   "execution_count": 1,
   "metadata": {
    "collapsed": false,
    "deletable": true,
    "editable": true
   },
   "outputs": [
    {
     "data": {
      "text/html": [
       "<script>requirejs.config({paths: { 'plotly': ['https://cdn.plot.ly/plotly-latest.min']},});if(!window.Plotly) {{require(['plotly'],function(plotly) {window.Plotly=plotly;});}}</script>"
      ],
      "text/vnd.plotly.v1+html": [
       "<script>requirejs.config({paths: { 'plotly': ['https://cdn.plot.ly/plotly-latest.min']},});if(!window.Plotly) {{require(['plotly'],function(plotly) {window.Plotly=plotly;});}}</script>"
      ]
     },
     "metadata": {},
     "output_type": "display_data"
    }
   ],
   "source": [
    "import numpy as np\n",
    "import pandas as pd\n",
    "from plotly.offline import download_plotlyjs, init_notebook_mode, plot, iplot\n",
    "import plotly\n",
    "plotly.offline.init_notebook_mode(connected=True)\n",
    "from plotly.graph_objs import *\n",
    "import datetime\n"
   ]
  },
  {
   "cell_type": "code",
   "execution_count": 2,
   "metadata": {
    "collapsed": false,
    "deletable": true,
    "editable": true
   },
   "outputs": [],
   "source": [
    "stations=pd.read_csv('./SetsDatos/station.csv')"
   ]
  },
  {
   "cell_type": "code",
   "execution_count": 3,
   "metadata": {
    "collapsed": false,
    "deletable": true,
    "editable": true
   },
   "outputs": [],
   "source": [
    "import pyspark\n",
    "\n",
    "try: \n",
    "    type(sc)\n",
    "except NameError:\n",
    "    sc = pyspark.SparkContext('local[*]')\n",
    "    \n",
    "import pyspark_csv as pycsv\n",
    "sc.addPyFile('pyspark_csv.py')"
   ]
  },
  {
   "cell_type": "code",
   "execution_count": 4,
   "metadata": {
    "collapsed": false,
    "deletable": true,
    "editable": true
   },
   "outputs": [],
   "source": [
    "import pyspark.sql as pysql\n",
    "\n",
    "sqlCtx = pysql.SQLContext(sc)\n",
    "\n",
    "trip_rdd=sc.textFile('./SetsDatos/trip.csv')\n",
    "trips_df =pycsv.csvToDataFrame(sqlCtx,trip_rdd)"
   ]
  },
  {
   "cell_type": "code",
   "execution_count": 5,
   "metadata": {
    "collapsed": false,
    "deletable": true,
    "editable": true
   },
   "outputs": [],
   "source": [
    "#el rdd de los trips\n",
    "trips_data=trips_df.rdd"
   ]
  },
  {
   "cell_type": "code",
   "execution_count": 6,
   "metadata": {
    "collapsed": false,
    "deletable": true,
    "editable": true
   },
   "outputs": [],
   "source": [
    "circular_trips=trips_data.filter(lambda x: x[4]==x[7])\\\n",
    "                        .map(lambda x:((x[3],x[6]),1))\\\n",
    "                        .reduceByKey(lambda x,y: x+y)\\\n",
    "                        .collect()"
   ]
  },
  {
   "cell_type": "code",
   "execution_count": 7,
   "metadata": {
    "collapsed": false,
    "deletable": true,
    "editable": true,
    "scrolled": true
   },
   "outputs": [],
   "source": [
    "circular_trips=sorted(circular_trips,lambda x,y: y[1]-x[1])"
   ]
  },
  {
   "cell_type": "markdown",
   "metadata": {
    "collapsed": false,
    "deletable": true,
    "editable": true
   },
   "source": [
    "## Cantidad de viajes circulares según estación"
   ]
  },
  {
   "cell_type": "code",
   "execution_count": 8,
   "metadata": {
    "collapsed": false,
    "deletable": true,
    "editable": true
   },
   "outputs": [],
   "source": [
    "\n",
    "def get_coordenates(stations_list):\n",
    "    \"\"\"in : a list of ((station_name,station_name),int)\n",
    "        out: a 2-column matrix with the lat and long of the stations\n",
    "    \"\"\"\n",
    "    lat_lon=[[],[]]\n",
    "    for trip,frec in circular_trips:\n",
    "        lat=stations.loc[stations.name==trip[0],'lat']\n",
    "        lon=stations.loc[stations.name==trip[0],'long']\n",
    "        lat_lon[0].append(lat)\n",
    "        lat_lon[1].append(lon)\n",
    "    return lat_lon"
   ]
  },
  {
   "cell_type": "code",
   "execution_count": 9,
   "metadata": {
    "collapsed": false,
    "deletable": true,
    "editable": true,
    "scrolled": true
   },
   "outputs": [
    {
     "data": {
      "application/vnd.plotly.v1+json": {
       "data": [
        {
         "lat": [
          [
           37.80477
          ],
          [
           37.795392
          ],
          [
           37.444521
          ],
          [
           37.786305
          ],
          [
           37.780526
          ],
          [
           37.794139
          ],
          [
           37.776619
          ],
          [
           37.799953
          ],
          [
           37.788446
          ],
          [
           37.78387100000001
          ],
          [
           37.787152
          ],
          [
           37.776617
          ],
          [
           37.394358
          ],
          [
           37.79728
          ],
          [
           37.798522
          ],
          [
           37.781039
          ],
          [
           37.782259
          ],
          [
           37.771058
          ],
          [
           37.7766
          ],
          [
           37.789625
          ],
          [
           37.781752
          ],
          [
           37.443988
          ],
          [
           37.330698
          ],
          [
           37.795001
          ],
          [
           37.774814
          ],
          [
           37.79146400000001
          ],
          [
           37.784878000000006
          ],
          [
           37.7913
          ],
          [
           37.790302
          ],
          [
           37.789756
          ],
          [
           37.77865
          ],
          [
           37.78697800000001
          ],
          [
           37.792251
          ],
          [
           37.794231
          ],
          [
           37.798541
          ],
          [
           37.348742
          ],
          [],
          [
           37.337391
          ],
          [
           37.332692
          ],
          [
           37.429082
          ],
          [
           37.781332
          ],
          [
           37.785299
          ],
          [
           37.333988
          ],
          [
           37.389218
          ],
          [
           37.336721
          ],
          [
           37.329732
          ],
          [
           37.39027700000001
          ],
          [
           37.335885
          ],
          [
           37.448598
          ],
          [
           37.385956
          ],
          [
           37.330165
          ],
          [
           37.400241
          ],
          [
           37.486078000000006
          ],
          [
           37.333798
          ],
          [],
          [
           37.40694000000001
          ],
          [
           37.342725
          ],
          [
           37.332808
          ],
          [
           37.333955
          ],
          [
           37.4256839
          ],
          [
           37.795425
          ],
          [
           37.339301
          ],
          [
           37.487616
          ],
          [
           37.331415
          ],
          [
           37.400443
          ],
          [
           37.352601
          ],
          [
           37.788975
          ],
          [
           37.484219
          ],
          [
           37.48537
          ],
          [
           37.481758
          ],
          [
           37.491269
          ],
          [
           37.487682
          ],
          []
         ],
         "lon": [
          [
           -122.403234
          ],
          [
           -122.394203
          ],
          [
           -122.163093
          ],
          [
           -122.404966
          ],
          [
           -122.39028799999998
          ],
          [
           -122.394434
          ],
          [
           -122.417385
          ],
          [
           -122.398525
          ],
          [
           -122.408499
          ],
          [
           -122.408433
          ],
          [
           -122.388013
          ],
          [
           -122.39526
          ],
          [
           -122.07671299999998
          ],
          [
           -122.398436
          ],
          [
           -122.407245
          ],
          [
           -122.411748
          ],
          [
           -122.392738
          ],
          [
           -122.402717
          ],
          [
           -122.39547
          ],
          [
           -122.400811
          ],
          [
           -122.405127
          ],
          [
           -122.164759
          ],
          [
           -121.888979
          ],
          [
           -122.39997
          ],
          [
           -122.418954
          ],
          [
           -122.391034
          ],
          [
           -122.401014
          ],
          [
           -122.399051
          ],
          [
           -122.390637
          ],
          [
           -122.394643
          ],
          [
           -122.418235
          ],
          [
           -122.398108
          ],
          [
           -122.39708600000002
          ],
          [
           -122.402923
          ],
          [
           -122.40086200000002
          ],
          [
           -121.894715
          ],
          [],
          [
           -121.886995
          ],
          [
           -121.900084
          ],
          [
           -122.142805
          ],
          [
           -122.418603
          ],
          [
           -122.39623600000002
          ],
          [
           -121.894902
          ],
          [
           -122.081896
          ],
          [
           -121.894074
          ],
          [
           -121.901782
          ],
          [
           -122.066553
          ],
          [
           -121.88566000000002
          ],
          [
           -122.159504
          ],
          [
           -122.083678
          ],
          [
           -121.885831
          ],
          [
           -122.099076
          ],
          [
           -122.232089
          ],
          [
           -121.886943
          ],
          [],
          [
           -122.106758
          ],
          [
           -121.895617
          ],
          [
           -121.883891
          ],
          [
           -121.877349
          ],
          [
           -122.13777749999998
          ],
          [
           -122.404767
          ],
          [
           -121.88993700000002
          ],
          [
           -122.229951
          ],
          [
           -121.8932
          ],
          [
           -122.108338
          ],
          [
           -121.905733
          ],
          [
           -122.403452
          ],
          [
           -122.227424
          ],
          [
           -122.203288
          ],
          [
           -122.226904
          ],
          [
           -122.236234
          ],
          [
           -122.223492
          ],
          []
         ],
         "marker": {
          "color": [
           "2092",
           "1733",
           "894",
           "724",
           "683",
           "668",
           "666",
           "620",
           "619",
           "614",
           "580",
           "533",
           "528",
           "522",
           "479",
           "436",
           "435",
           "425",
           "421",
           "405",
           "400",
           "396",
           "391",
           "384",
           "368",
           "358",
           "328",
           "325",
           "323",
           "275",
           "268",
           "257",
           "255",
           "248",
           "238",
           "230",
           "230",
           "229",
           "218",
           "213",
           "210",
           "206",
           "198",
           "197",
           "197",
           "191",
           "180",
           "178",
           "169",
           "161",
           "160",
           "160",
           "155",
           "149",
           "147",
           "133",
           "124",
           "110",
           "104",
           "90",
           "89",
           "85",
           "84",
           "78",
           "75",
           "67",
           "59",
           "54",
           "49",
           "38",
           "36",
           "21",
           "16"
          ],
          "colorscale": [
           [
            0,
            "rgb(150,150,255)"
           ],
           [
            1,
            "rgb(0, 0, 255)"
           ]
          ],
          "opacity": 1,
          "size": 9
         },
         "mode": "markers",
         "text": [
          "Embarcadero at Sansome \n 2092",
          "Harry Bridges Plaza (Ferry Building) \n 1733",
          "University and Emerson \n 894",
          "Market at 4th \n 724",
          "2nd at Townsend \n 683",
          "Steuart at Market \n 668",
          "Market at 10th \n 666",
          "Embarcadero at Vallejo \n 620",
          "Powell at Post (Union Square) \n 619",
          "Powell Street BART \n 614",
          "Embarcadero at Bryant \n 580",
          "San Francisco Caltrain (Townsend at 4th) \n 533",
          "Mountain View Caltrain Station \n 528",
          "Davis at Jackson \n 522",
          "Grant Avenue at Columbus Avenue \n 479",
          "Civic Center BART (7th at Market) \n 436",
          "2nd at South Park \n 435",
          "Townsend at 7th \n 425",
          "San Francisco Caltrain 2 (330 Townsend) \n 421",
          "Market at Sansome \n 405",
          "5th at Howard \n 400",
          "Palo Alto Caltrain Station \n 396",
          "San Jose Civic Center \n 391",
          "Clay at Battery \n 384",
          "South Van Ness at Market \n 368",
          "Embarcadero at Folsom \n 358",
          "Yerba Buena Center of the Arts (3rd @ Howard) \n 328",
          "Mechanics Plaza (Market at Battery) \n 325",
          "Spear at Folsom \n 323",
          "Temporary Transbay Terminal (Howard at Beale) \n 275",
          "San Francisco City Hall \n 268",
          "Howard at 2nd \n 257",
          "Beale at Market \n 255",
          "Commercial at Montgomery \n 248",
          "Broadway St at Battery St \n 238",
          "Japantown \n 230",
          "Washington at Kearny \n 230",
          "San Jose City Hall \n 229",
          "Arena Green / SAP Center \n 218",
          "California Ave Caltrain Station \n 213",
          "Golden Gate at Polk \n 210",
          "2nd at Folsom \n 206",
          "Santa Clara at Almaden \n 198",
          "Mountain View City Hall \n 197",
          "San Pedro Square \n 197",
          "San Jose Diridon Caltrain Station \n 191",
          "Evelyn Park and Ride \n 180",
          "MLK Library \n 178",
          "Cowper at University \n 169",
          "Castro Street and El Camino Real \n 161",
          "San Salvador at 1st \n 160",
          "Rengstorff Avenue / California Street \n 160",
          "Redwood City Caltrain Station \n 155",
          "Paseo de San Antonio \n 149",
          "Post at Kearny \n 147",
          "San Antonio Caltrain Station \n 133",
          "Ryland Park \n 124",
          "SJSU 4th at San Carlos \n 110",
          "SJSU - San Salvador at 9th \n 104",
          "Park at Olive \n 90",
          "Washington at Kearney \n 89",
          "St James Park \n 85",
          "San Mateo County Center \n 84",
          "Adobe on Almaden \n 78",
          "San Antonio Shopping Center \n 75",
          "Santa Clara County Civic Center \n 67",
          "Post at Kearney \n 59",
          "Redwood City Public Library \n 54",
          "Stanford in Redwood City \n 49",
          "Franklin at Maple \n 38",
          "Mezes Park \n 36",
          "Redwood City Medical Center \n 21",
          "Broadway at Main \n 16"
         ],
         "type": "scattermapbox"
        }
       ],
       "layout": {
        "autosize": false,
        "height": 800,
        "hovermode": "closest",
        "mapbox": {
         "accesstoken": "pk.eyJ1IjoibGVvY2VudHVyaW9uIiwiYSI6ImNqMGxsZnlyMTAwMDIzMm5vbXNidmtyOHEifQ.YqWBUbyhzglm38sJeRFl7A",
         "bearing": 0,
         "center": {
          "lat": 37.6158637,
          "lon": -122.192001
         },
         "pitch": 0,
         "zoom": 9
        },
        "updatemenus": [
         {
          "buttons": [
           {
            "args": [
             {
              "annotations[0].text": "San Francisco Bay",
              "mapbox.center.lat": 37.6158637,
              "mapbox.center.lon": -122.192001,
              "mapbox.zoom": 9
             }
            ],
            "label": "San Francisco Bay",
            "method": "relayout"
           },
           {
            "args": [
             {
              "annotations[0].text": "San Francisco",
              "mapbox.center.lat": 37.788925,
              "mapbox.center.lon": -122.403452,
              "mapbox.zoom": 12
             }
            ],
            "label": "San Francisco",
            "method": "relayout"
           },
           {
            "args": [
             {
              "annotations[0].text": "San Jose",
              "mapbox.center.lat": 37.339301,
              "mapbox.center.lon": -121.889937,
              "mapbox.zoom": 12
             }
            ],
            "label": "San Jose",
            "method": "relayout"
           },
           {
            "args": [
             {
              "annotations[0].text": "Redwood City",
              "mapbox.center.lat": 37.487682,
              "mapbox.center.lon": -122.223492,
              "mapbox.zoom": 12
             }
            ],
            "label": "Redwood City",
            "method": "relayout"
           },
           {
            "args": [
             {
              "annotations[0].text": "Palo Alto",
              "mapbox.center.lat": 37.444521,
              "mapbox.center.lon": -122.163093,
              "mapbox.zoom": 12
             }
            ],
            "label": "Palo Alto",
            "method": "relayout"
           },
           {
            "args": [
             {
              "annotations[0].text": "Mountain View",
              "mapbox.center.lat": 37.389218,
              "mapbox.center.lon": -122.081896,
              "mapbox.zoom": 12
             }
            ],
            "label": "Mountain View",
            "method": "relayout"
           }
          ],
          "x": 1,
          "y": 1
         }
        ],
        "width": 700
       }
      },
      "text/html": [
       "<div id=\"3400ecc9-c8ca-44c5-9c07-59cc43f75bf9\" style=\"height: 800px; width: 700px;\" class=\"plotly-graph-div\"></div><script type=\"text/javascript\">require([\"plotly\"], function(Plotly) { window.PLOTLYENV=window.PLOTLYENV || {};window.PLOTLYENV.BASE_URL=\"https://plot.ly\";Plotly.newPlot(\"3400ecc9-c8ca-44c5-9c07-59cc43f75bf9\", [{\"text\": [\"Embarcadero at Sansome \\n 2092\", \"Harry Bridges Plaza (Ferry Building) \\n 1733\", \"University and Emerson \\n 894\", \"Market at 4th \\n 724\", \"2nd at Townsend \\n 683\", \"Steuart at Market \\n 668\", \"Market at 10th \\n 666\", \"Embarcadero at Vallejo \\n 620\", \"Powell at Post (Union Square) \\n 619\", \"Powell Street BART \\n 614\", \"Embarcadero at Bryant \\n 580\", \"San Francisco Caltrain (Townsend at 4th) \\n 533\", \"Mountain View Caltrain Station \\n 528\", \"Davis at Jackson \\n 522\", \"Grant Avenue at Columbus Avenue \\n 479\", \"Civic Center BART (7th at Market) \\n 436\", \"2nd at South Park \\n 435\", \"Townsend at 7th \\n 425\", \"San Francisco Caltrain 2 (330 Townsend) \\n 421\", \"Market at Sansome \\n 405\", \"5th at Howard \\n 400\", \"Palo Alto Caltrain Station \\n 396\", \"San Jose Civic Center \\n 391\", \"Clay at Battery \\n 384\", \"South Van Ness at Market \\n 368\", \"Embarcadero at Folsom \\n 358\", \"Yerba Buena Center of the Arts (3rd @ Howard) \\n 328\", \"Mechanics Plaza (Market at Battery) \\n 325\", \"Spear at Folsom \\n 323\", \"Temporary Transbay Terminal (Howard at Beale) \\n 275\", \"San Francisco City Hall \\n 268\", \"Howard at 2nd \\n 257\", \"Beale at Market \\n 255\", \"Commercial at Montgomery \\n 248\", \"Broadway St at Battery St \\n 238\", \"Japantown \\n 230\", \"Washington at Kearny \\n 230\", \"San Jose City Hall \\n 229\", \"Arena Green / SAP Center \\n 218\", \"California Ave Caltrain Station \\n 213\", \"Golden Gate at Polk \\n 210\", \"2nd at Folsom \\n 206\", \"Santa Clara at Almaden \\n 198\", \"Mountain View City Hall \\n 197\", \"San Pedro Square \\n 197\", \"San Jose Diridon Caltrain Station \\n 191\", \"Evelyn Park and Ride \\n 180\", \"MLK Library \\n 178\", \"Cowper at University \\n 169\", \"Castro Street and El Camino Real \\n 161\", \"San Salvador at 1st \\n 160\", \"Rengstorff Avenue / California Street \\n 160\", \"Redwood City Caltrain Station \\n 155\", \"Paseo de San Antonio \\n 149\", \"Post at Kearny \\n 147\", \"San Antonio Caltrain Station \\n 133\", \"Ryland Park \\n 124\", \"SJSU 4th at San Carlos \\n 110\", \"SJSU - San Salvador at 9th \\n 104\", \"Park at Olive \\n 90\", \"Washington at Kearney \\n 89\", \"St James Park \\n 85\", \"San Mateo County Center \\n 84\", \"Adobe on Almaden \\n 78\", \"San Antonio Shopping Center \\n 75\", \"Santa Clara County Civic Center \\n 67\", \"Post at Kearney \\n 59\", \"Redwood City Public Library \\n 54\", \"Stanford in Redwood City \\n 49\", \"Franklin at Maple \\n 38\", \"Mezes Park \\n 36\", \"Redwood City Medical Center \\n 21\", \"Broadway at Main \\n 16\"], \"lon\": [[-122.403234], [-122.394203], [-122.163093], [-122.404966], [-122.39028799999998], [-122.394434], [-122.417385], [-122.398525], [-122.408499], [-122.408433], [-122.388013], [-122.39526], [-122.07671299999998], [-122.398436], [-122.407245], [-122.411748], [-122.392738], [-122.402717], [-122.39547], [-122.400811], [-122.405127], [-122.164759], [-121.888979], [-122.39997], [-122.418954], [-122.391034], [-122.401014], [-122.399051], [-122.390637], [-122.394643], [-122.418235], [-122.398108], [-122.39708600000002], [-122.402923], [-122.40086200000002], [-121.894715], [], [-121.886995], [-121.900084], [-122.142805], [-122.418603], [-122.39623600000002], [-121.894902], [-122.081896], [-121.894074], [-121.901782], [-122.066553], [-121.88566000000002], [-122.159504], [-122.083678], [-121.885831], [-122.099076], [-122.232089], [-121.886943], [], [-122.106758], [-121.895617], [-121.883891], [-121.877349], [-122.13777749999998], [-122.404767], [-121.88993700000002], [-122.229951], [-121.8932], [-122.108338], [-121.905733], [-122.403452], [-122.227424], [-122.203288], [-122.226904], [-122.236234], [-122.223492], []], \"marker\": {\"opacity\": 1, \"color\": [\"2092\", \"1733\", \"894\", \"724\", \"683\", \"668\", \"666\", \"620\", \"619\", \"614\", \"580\", \"533\", \"528\", \"522\", \"479\", \"436\", \"435\", \"425\", \"421\", \"405\", \"400\", \"396\", \"391\", \"384\", \"368\", \"358\", \"328\", \"325\", \"323\", \"275\", \"268\", \"257\", \"255\", \"248\", \"238\", \"230\", \"230\", \"229\", \"218\", \"213\", \"210\", \"206\", \"198\", \"197\", \"197\", \"191\", \"180\", \"178\", \"169\", \"161\", \"160\", \"160\", \"155\", \"149\", \"147\", \"133\", \"124\", \"110\", \"104\", \"90\", \"89\", \"85\", \"84\", \"78\", \"75\", \"67\", \"59\", \"54\", \"49\", \"38\", \"36\", \"21\", \"16\"], \"size\": 9, \"colorscale\": [[0, \"rgb(150,150,255)\"], [1, \"rgb(0, 0, 255)\"]]}, \"mode\": \"markers\", \"lat\": [[37.80477], [37.795392], [37.444521], [37.786305], [37.780526], [37.794139], [37.776619], [37.799953], [37.788446], [37.78387100000001], [37.787152], [37.776617], [37.394358], [37.79728], [37.798522], [37.781039], [37.782259], [37.771058], [37.7766], [37.789625], [37.781752], [37.443988], [37.330698], [37.795001], [37.774814], [37.79146400000001], [37.784878000000006], [37.7913], [37.790302], [37.789756], [37.77865], [37.78697800000001], [37.792251], [37.794231], [37.798541], [37.348742], [], [37.337391], [37.332692], [37.429082], [37.781332], [37.785299], [37.333988], [37.389218], [37.336721], [37.329732], [37.39027700000001], [37.335885], [37.448598], [37.385956], [37.330165], [37.400241], [37.486078000000006], [37.333798], [], [37.40694000000001], [37.342725], [37.332808], [37.333955], [37.4256839], [37.795425], [37.339301], [37.487616], [37.331415], [37.400443], [37.352601], [37.788975], [37.484219], [37.48537], [37.481758], [37.491269], [37.487682], []], \"type\": \"scattermapbox\"}], {\"autosize\": false, \"updatemenus\": [{\"buttons\": [{\"args\": [{\"mapbox.center.lon\": -122.192001, \"mapbox.zoom\": 9, \"annotations[0].text\": \"San Francisco Bay\", \"mapbox.center.lat\": 37.6158637}], \"method\": \"relayout\", \"label\": \"San Francisco Bay\"}, {\"args\": [{\"mapbox.center.lon\": -122.403452, \"mapbox.zoom\": 12, \"annotations[0].text\": \"San Francisco\", \"mapbox.center.lat\": 37.788925}], \"method\": \"relayout\", \"label\": \"San Francisco\"}, {\"args\": [{\"mapbox.center.lon\": -121.889937, \"mapbox.zoom\": 12, \"annotations[0].text\": \"San Jose\", \"mapbox.center.lat\": 37.339301}], \"method\": \"relayout\", \"label\": \"San Jose\"}, {\"args\": [{\"mapbox.center.lon\": -122.223492, \"mapbox.zoom\": 12, \"annotations[0].text\": \"Redwood City\", \"mapbox.center.lat\": 37.487682}], \"method\": \"relayout\", \"label\": \"Redwood City\"}, {\"args\": [{\"mapbox.center.lon\": -122.163093, \"mapbox.zoom\": 12, \"annotations[0].text\": \"Palo Alto\", \"mapbox.center.lat\": 37.444521}], \"method\": \"relayout\", \"label\": \"Palo Alto\"}, {\"args\": [{\"mapbox.center.lon\": -122.081896, \"mapbox.zoom\": 12, \"annotations[0].text\": \"Mountain View\", \"mapbox.center.lat\": 37.389218}], \"method\": \"relayout\", \"label\": \"Mountain View\"}], \"y\": 1, \"x\": 1}], \"height\": 800, \"width\": 700, \"mapbox\": {\"bearing\": 0, \"pitch\": 0, \"center\": {\"lat\": 37.6158637, \"lon\": -122.192001}, \"accesstoken\": \"pk.eyJ1IjoibGVvY2VudHVyaW9uIiwiYSI6ImNqMGxsZnlyMTAwMDIzMm5vbXNidmtyOHEifQ.YqWBUbyhzglm38sJeRFl7A\", \"zoom\": 9}, \"hovermode\": \"closest\"}, {\"linkText\": \"Export to plot.ly\", \"showLink\": true})});</script>"
      ],
      "text/vnd.plotly.v1+html": [
       "<div id=\"3400ecc9-c8ca-44c5-9c07-59cc43f75bf9\" style=\"height: 800px; width: 700px;\" class=\"plotly-graph-div\"></div><script type=\"text/javascript\">require([\"plotly\"], function(Plotly) { window.PLOTLYENV=window.PLOTLYENV || {};window.PLOTLYENV.BASE_URL=\"https://plot.ly\";Plotly.newPlot(\"3400ecc9-c8ca-44c5-9c07-59cc43f75bf9\", [{\"text\": [\"Embarcadero at Sansome \\n 2092\", \"Harry Bridges Plaza (Ferry Building) \\n 1733\", \"University and Emerson \\n 894\", \"Market at 4th \\n 724\", \"2nd at Townsend \\n 683\", \"Steuart at Market \\n 668\", \"Market at 10th \\n 666\", \"Embarcadero at Vallejo \\n 620\", \"Powell at Post (Union Square) \\n 619\", \"Powell Street BART \\n 614\", \"Embarcadero at Bryant \\n 580\", \"San Francisco Caltrain (Townsend at 4th) \\n 533\", \"Mountain View Caltrain Station \\n 528\", \"Davis at Jackson \\n 522\", \"Grant Avenue at Columbus Avenue \\n 479\", \"Civic Center BART (7th at Market) \\n 436\", \"2nd at South Park \\n 435\", \"Townsend at 7th \\n 425\", \"San Francisco Caltrain 2 (330 Townsend) \\n 421\", \"Market at Sansome \\n 405\", \"5th at Howard \\n 400\", \"Palo Alto Caltrain Station \\n 396\", \"San Jose Civic Center \\n 391\", \"Clay at Battery \\n 384\", \"South Van Ness at Market \\n 368\", \"Embarcadero at Folsom \\n 358\", \"Yerba Buena Center of the Arts (3rd @ Howard) \\n 328\", \"Mechanics Plaza (Market at Battery) \\n 325\", \"Spear at Folsom \\n 323\", \"Temporary Transbay Terminal (Howard at Beale) \\n 275\", \"San Francisco City Hall \\n 268\", \"Howard at 2nd \\n 257\", \"Beale at Market \\n 255\", \"Commercial at Montgomery \\n 248\", \"Broadway St at Battery St \\n 238\", \"Japantown \\n 230\", \"Washington at Kearny \\n 230\", \"San Jose City Hall \\n 229\", \"Arena Green / SAP Center \\n 218\", \"California Ave Caltrain Station \\n 213\", \"Golden Gate at Polk \\n 210\", \"2nd at Folsom \\n 206\", \"Santa Clara at Almaden \\n 198\", \"Mountain View City Hall \\n 197\", \"San Pedro Square \\n 197\", \"San Jose Diridon Caltrain Station \\n 191\", \"Evelyn Park and Ride \\n 180\", \"MLK Library \\n 178\", \"Cowper at University \\n 169\", \"Castro Street and El Camino Real \\n 161\", \"San Salvador at 1st \\n 160\", \"Rengstorff Avenue / California Street \\n 160\", \"Redwood City Caltrain Station \\n 155\", \"Paseo de San Antonio \\n 149\", \"Post at Kearny \\n 147\", \"San Antonio Caltrain Station \\n 133\", \"Ryland Park \\n 124\", \"SJSU 4th at San Carlos \\n 110\", \"SJSU - San Salvador at 9th \\n 104\", \"Park at Olive \\n 90\", \"Washington at Kearney \\n 89\", \"St James Park \\n 85\", \"San Mateo County Center \\n 84\", \"Adobe on Almaden \\n 78\", \"San Antonio Shopping Center \\n 75\", \"Santa Clara County Civic Center \\n 67\", \"Post at Kearney \\n 59\", \"Redwood City Public Library \\n 54\", \"Stanford in Redwood City \\n 49\", \"Franklin at Maple \\n 38\", \"Mezes Park \\n 36\", \"Redwood City Medical Center \\n 21\", \"Broadway at Main \\n 16\"], \"lon\": [[-122.403234], [-122.394203], [-122.163093], [-122.404966], [-122.39028799999998], [-122.394434], [-122.417385], [-122.398525], [-122.408499], [-122.408433], [-122.388013], [-122.39526], [-122.07671299999998], [-122.398436], [-122.407245], [-122.411748], [-122.392738], [-122.402717], [-122.39547], [-122.400811], [-122.405127], [-122.164759], [-121.888979], [-122.39997], [-122.418954], [-122.391034], [-122.401014], [-122.399051], [-122.390637], [-122.394643], [-122.418235], [-122.398108], [-122.39708600000002], [-122.402923], [-122.40086200000002], [-121.894715], [], [-121.886995], [-121.900084], [-122.142805], [-122.418603], [-122.39623600000002], [-121.894902], [-122.081896], [-121.894074], [-121.901782], [-122.066553], [-121.88566000000002], [-122.159504], [-122.083678], [-121.885831], [-122.099076], [-122.232089], [-121.886943], [], [-122.106758], [-121.895617], [-121.883891], [-121.877349], [-122.13777749999998], [-122.404767], [-121.88993700000002], [-122.229951], [-121.8932], [-122.108338], [-121.905733], [-122.403452], [-122.227424], [-122.203288], [-122.226904], [-122.236234], [-122.223492], []], \"marker\": {\"opacity\": 1, \"color\": [\"2092\", \"1733\", \"894\", \"724\", \"683\", \"668\", \"666\", \"620\", \"619\", \"614\", \"580\", \"533\", \"528\", \"522\", \"479\", \"436\", \"435\", \"425\", \"421\", \"405\", \"400\", \"396\", \"391\", \"384\", \"368\", \"358\", \"328\", \"325\", \"323\", \"275\", \"268\", \"257\", \"255\", \"248\", \"238\", \"230\", \"230\", \"229\", \"218\", \"213\", \"210\", \"206\", \"198\", \"197\", \"197\", \"191\", \"180\", \"178\", \"169\", \"161\", \"160\", \"160\", \"155\", \"149\", \"147\", \"133\", \"124\", \"110\", \"104\", \"90\", \"89\", \"85\", \"84\", \"78\", \"75\", \"67\", \"59\", \"54\", \"49\", \"38\", \"36\", \"21\", \"16\"], \"size\": 9, \"colorscale\": [[0, \"rgb(150,150,255)\"], [1, \"rgb(0, 0, 255)\"]]}, \"mode\": \"markers\", \"lat\": [[37.80477], [37.795392], [37.444521], [37.786305], [37.780526], [37.794139], [37.776619], [37.799953], [37.788446], [37.78387100000001], [37.787152], [37.776617], [37.394358], [37.79728], [37.798522], [37.781039], [37.782259], [37.771058], [37.7766], [37.789625], [37.781752], [37.443988], [37.330698], [37.795001], [37.774814], [37.79146400000001], [37.784878000000006], [37.7913], [37.790302], [37.789756], [37.77865], [37.78697800000001], [37.792251], [37.794231], [37.798541], [37.348742], [], [37.337391], [37.332692], [37.429082], [37.781332], [37.785299], [37.333988], [37.389218], [37.336721], [37.329732], [37.39027700000001], [37.335885], [37.448598], [37.385956], [37.330165], [37.400241], [37.486078000000006], [37.333798], [], [37.40694000000001], [37.342725], [37.332808], [37.333955], [37.4256839], [37.795425], [37.339301], [37.487616], [37.331415], [37.400443], [37.352601], [37.788975], [37.484219], [37.48537], [37.481758], [37.491269], [37.487682], []], \"type\": \"scattermapbox\"}], {\"autosize\": false, \"updatemenus\": [{\"buttons\": [{\"args\": [{\"mapbox.center.lon\": -122.192001, \"mapbox.zoom\": 9, \"annotations[0].text\": \"San Francisco Bay\", \"mapbox.center.lat\": 37.6158637}], \"method\": \"relayout\", \"label\": \"San Francisco Bay\"}, {\"args\": [{\"mapbox.center.lon\": -122.403452, \"mapbox.zoom\": 12, \"annotations[0].text\": \"San Francisco\", \"mapbox.center.lat\": 37.788925}], \"method\": \"relayout\", \"label\": \"San Francisco\"}, {\"args\": [{\"mapbox.center.lon\": -121.889937, \"mapbox.zoom\": 12, \"annotations[0].text\": \"San Jose\", \"mapbox.center.lat\": 37.339301}], \"method\": \"relayout\", \"label\": \"San Jose\"}, {\"args\": [{\"mapbox.center.lon\": -122.223492, \"mapbox.zoom\": 12, \"annotations[0].text\": \"Redwood City\", \"mapbox.center.lat\": 37.487682}], \"method\": \"relayout\", \"label\": \"Redwood City\"}, {\"args\": [{\"mapbox.center.lon\": -122.163093, \"mapbox.zoom\": 12, \"annotations[0].text\": \"Palo Alto\", \"mapbox.center.lat\": 37.444521}], \"method\": \"relayout\", \"label\": \"Palo Alto\"}, {\"args\": [{\"mapbox.center.lon\": -122.081896, \"mapbox.zoom\": 12, \"annotations[0].text\": \"Mountain View\", \"mapbox.center.lat\": 37.389218}], \"method\": \"relayout\", \"label\": \"Mountain View\"}], \"y\": 1, \"x\": 1}], \"height\": 800, \"width\": 700, \"mapbox\": {\"bearing\": 0, \"pitch\": 0, \"center\": {\"lat\": 37.6158637, \"lon\": -122.192001}, \"accesstoken\": \"pk.eyJ1IjoibGVvY2VudHVyaW9uIiwiYSI6ImNqMGxsZnlyMTAwMDIzMm5vbXNidmtyOHEifQ.YqWBUbyhzglm38sJeRFl7A\", \"zoom\": 9}, \"hovermode\": \"closest\"}, {\"linkText\": \"Export to plot.ly\", \"showLink\": true})});</script>"
      ]
     },
     "metadata": {},
     "output_type": "display_data"
    }
   ],
   "source": [
    "\n",
    "mapbox_access_token = 'pk.eyJ1IjoibGVvY2VudHVyaW9uIiwiYSI6ImNqMGxsZnlyMTAwMDIzMm5vbXNidmtyOHEifQ.YqWBUbyhzglm38sJeRFl7A'\n",
    "\n",
    "cities_coordenates=[((37.6158637,-122.192001),9,'San Francisco Bay'),((37.788925,-122.403452),12,'San Francisco'),\n",
    "                    ((37.339301,-121.889937),12,'San Jose') ,((37.487682,-122.223492),12,'Redwood City'),\n",
    "                    ((37.444521,-122.163093),12,'Palo Alto'),((37.389218,-122.081896),12,'Mountain View')]\n",
    "\n",
    "lat_long=get_coordenates(circular_trips)\n",
    "number_of_trips= ['{}'.format(frecuency) for trip,frecuency in circular_trips]\n",
    "data = Data([\n",
    "    Scattermapbox(\n",
    "        lat = lat_long[0],\n",
    "        lon = lat_long[1],\n",
    "        text =['{} \\n {}'.format(trip[0],frecuency) for trip,frecuency in circular_trips],\n",
    "        mode='markers',\n",
    "        marker = dict(\n",
    "            \n",
    "            color = number_of_trips,\n",
    "            colorscale = [[0,\"rgb(150,150,255)\"],[1,\"rgb(0, 0, 255)\"]],\n",
    "            opacity = 1,\n",
    "            size = 9,\n",
    "        )\n",
    "    )\n",
    "])\n",
    "cities=[]\n",
    "for coordenates,zoom,text in cities_coordenates:\n",
    "    city=dict(\n",
    "        args=[ { \n",
    "            'mapbox.center.lat':coordenates[0],\n",
    "            'mapbox.center.lon':coordenates[1],\n",
    "            'mapbox.zoom':zoom,\n",
    "            'annotations[0].text':text\n",
    "        } ],\n",
    "        label=text,\n",
    "        method='relayout'\n",
    "    )\n",
    "    cities.append(city)\n",
    "updatemenus=list([\n",
    "    dict(\n",
    "        buttons = cities,\n",
    "        x=1,\n",
    "        y=1\n",
    "    )\n",
    "])\n",
    "layout = Layout(\n",
    "    autosize=False,\n",
    "    width=700,\n",
    "    height=800,\n",
    "    hovermode='closest',\n",
    "    mapbox=dict(\n",
    "        accesstoken=mapbox_access_token,\n",
    "        bearing=0,\n",
    "        center=dict(\n",
    "            lat=37.6158637,\n",
    "            lon=-122.192001\n",
    "\n",
    "        ),\n",
    "        pitch=0,\n",
    "        zoom=9\n",
    "        ),\n",
    "    )\n",
    "layout['updatemenus'] = updatemenus\n",
    "fig = { 'data':data, 'layout':layout }\n",
    "iplot(fig)"
   ]
  },
  {
   "cell_type": "code",
   "execution_count": 10,
   "metadata": {
    "collapsed": false,
    "deletable": true,
    "editable": true
   },
   "outputs": [
    {
     "data": {
      "text/html": [
       "<div>\n",
       "<table border=\"1\" class=\"dataframe\">\n",
       "  <thead>\n",
       "    <tr style=\"text-align: right;\">\n",
       "      <th></th>\n",
       "      <th>id</th>\n",
       "      <th>name</th>\n",
       "      <th>lat</th>\n",
       "      <th>long</th>\n",
       "      <th>dock_count</th>\n",
       "      <th>city</th>\n",
       "      <th>installation_date</th>\n",
       "    </tr>\n",
       "  </thead>\n",
       "  <tbody>\n",
       "    <tr>\n",
       "      <th>20</th>\n",
       "      <td>27</td>\n",
       "      <td>Mountain View City Hall</td>\n",
       "      <td>37.389218</td>\n",
       "      <td>-122.081896</td>\n",
       "      <td>15</td>\n",
       "      <td>Mountain View</td>\n",
       "      <td>8/16/2013</td>\n",
       "    </tr>\n",
       "  </tbody>\n",
       "</table>\n",
       "</div>"
      ],
      "text/plain": [
       "    id                     name        lat        long  dock_count  \\\n",
       "20  27  Mountain View City Hall  37.389218 -122.081896          15   \n",
       "\n",
       "             city installation_date  \n",
       "20  Mountain View         8/16/2013  "
      ]
     },
     "execution_count": 10,
     "metadata": {},
     "output_type": "execute_result"
    }
   ],
   "source": [
    "stations[stations.name==\"Mountain View City Hall\"]"
   ]
  },
  {
   "cell_type": "code",
   "execution_count": 11,
   "metadata": {
    "collapsed": false,
    "deletable": true,
    "editable": true
   },
   "outputs": [],
   "source": [
    "trips=pd.read_csv('./SetsDatos/trip.csv')"
   ]
  },
  {
   "cell_type": "code",
   "execution_count": 12,
   "metadata": {
    "collapsed": false,
    "deletable": true,
    "editable": true
   },
   "outputs": [],
   "source": [
    "trips_by_subscription=trips.loc[trips.start_station_id==trips.end_station_id,['subscription_type','id']]\\\n",
    "        .groupby('subscription_type').count().id.values"
   ]
  },
  {
   "cell_type": "markdown",
   "metadata": {
    "deletable": true,
    "editable": true
   },
   "source": [
    "## Cantidad de viajes según tipo de subscripción"
   ]
  },
  {
   "cell_type": "code",
   "execution_count": 13,
   "metadata": {
    "collapsed": false,
    "deletable": true,
    "editable": true,
    "scrolled": true
   },
   "outputs": [
    {
     "data": {
      "text/plain": [
       "'file:///home/leonardo/Documents/Datos/tp1_datos/temp-plot.html'"
      ]
     },
     "execution_count": 13,
     "metadata": {},
     "output_type": "execute_result"
    }
   ],
   "source": [
    "\n",
    "\n",
    "fig = {\n",
    "  \"data\": [\n",
    "    {\n",
    "      \"values\": [trips_by_subscription[0],trips_by_subscription[1]],\n",
    "      \"labels\": [\n",
    "        \"Customers\",\n",
    "        \"Subscribers\",\n",
    "      ],\n",
    "      \"hoverinfo\":\"label+percent\",\n",
    "      \"hole\": .4,\n",
    "      \"type\": \"pie\"\n",
    "    }\n",
    "  ],\n",
    "  \"layout\": {\n",
    "        \"title\":\"Cantidad de viajes según tipo de subscipción\",\n",
    "        \"annotations\": [\n",
    "            {\n",
    "                \"font\": {\n",
    "                    \"size\": 20\n",
    "                },\n",
    "                \"showarrow\": False,\n",
    "                \"text\": \"Cantidad de \\n viajes\",\n",
    "                \"x\": 0.5,\n",
    "                \"y\": 0.5\n",
    "            }\n",
    "        ]\n",
    "    }\n",
    "}\n",
    "plot(fig)"
   ]
  },
  {
   "cell_type": "markdown",
   "metadata": {
    "deletable": true,
    "editable": true
   },
   "source": [
    "* Hay mayor cantidad de 'customers', lo que concuerda con nuestra suposición de que los viajes circulares son realizados por turistas."
   ]
  },
  {
   "cell_type": "markdown",
   "metadata": {
    "deletable": true,
    "editable": true
   },
   "source": [
    "## Cantidad de viajes según día de la semana"
   ]
  },
  {
   "cell_type": "code",
   "execution_count": 14,
   "metadata": {
    "collapsed": false,
    "deletable": true,
    "editable": true
   },
   "outputs": [],
   "source": [
    "trips.start_date=trips.start_date.map(lambda x: datetime.datetime.strptime(x, '%m/%d/%Y %H:%M') )"
   ]
  },
  {
   "cell_type": "code",
   "execution_count": 15,
   "metadata": {
    "collapsed": false,
    "deletable": true,
    "editable": true
   },
   "outputs": [],
   "source": [
    "trips['day_of_week']=trips.start_date.map(lambda x: x.dayofweek)\n",
    "trips_by_day_of_week=trips.loc[trips.start_station_id==trips.end_station_id,['subscription_type','id','day_of_week']]\\\n",
    "                    .groupby('day_of_week').count().id.values\n",
    "trips_by_day_of_week_subs=trips.loc[(trips.start_station_id==trips.end_station_id) & \\\n",
    "                        (trips.subscription_type=='Subscriber'),['subscription_type','id','day_of_week']]\\\n",
    "                        .groupby('day_of_week').count().id.values\n",
    "trips_by_day_of_week_cust=trips.loc[(trips.start_station_id==trips.end_station_id) & \\\n",
    "                        (trips.subscription_type=='Customer'),['subscription_type','id','day_of_week']]\\\n",
    "                        .groupby('day_of_week').count().id.values"
   ]
  },
  {
   "cell_type": "code",
   "execution_count": 16,
   "metadata": {
    "collapsed": true,
    "deletable": true,
    "editable": true
   },
   "outputs": [],
   "source": [
    "def plot_bars(labels,values,names):\n",
    "    data=[]\n",
    "    for i in range(len(labels)):\n",
    "        data.append(\n",
    "                  go.Bar(\n",
    "                    x=labels[i],\n",
    "                    y=values[i],\n",
    "                    name=names[i]\n",
    "            )\n",
    "        )\n",
    "\n",
    "    plot(data)\n"
   ]
  },
  {
   "cell_type": "code",
   "execution_count": 17,
   "metadata": {
    "collapsed": false,
    "deletable": true,
    "editable": true
   },
   "outputs": [
    {
     "ename": "NameError",
     "evalue": "global name 'go' is not defined",
     "output_type": "error",
     "traceback": [
      "\u001b[0;31m---------------------------------------------------------------------------\u001b[0m",
      "\u001b[0;31mNameError\u001b[0m                                 Traceback (most recent call last)",
      "\u001b[0;32m<ipython-input-17-37404546c260>\u001b[0m in \u001b[0;36m<module>\u001b[0;34m()\u001b[0m\n\u001b[1;32m      3\u001b[0m \u001b[0mvalues\u001b[0m\u001b[0;34m=\u001b[0m\u001b[0;34m[\u001b[0m\u001b[0mtrips_by_day_of_week\u001b[0m\u001b[0;34m,\u001b[0m\u001b[0mtrips_by_day_of_week_cust\u001b[0m\u001b[0;34m,\u001b[0m\u001b[0mtrips_by_day_of_week_subs\u001b[0m\u001b[0;34m]\u001b[0m\u001b[0;34m\u001b[0m\u001b[0m\n\u001b[1;32m      4\u001b[0m \u001b[0mnames\u001b[0m\u001b[0;34m=\u001b[0m\u001b[0;34m[\u001b[0m\u001b[0;34m'Total'\u001b[0m\u001b[0;34m,\u001b[0m\u001b[0;34m'Customers'\u001b[0m\u001b[0;34m,\u001b[0m\u001b[0;34m'Subscribers'\u001b[0m\u001b[0;34m]\u001b[0m\u001b[0;34m\u001b[0m\u001b[0m\n\u001b[0;32m----> 5\u001b[0;31m \u001b[0mplot_bars\u001b[0m\u001b[0;34m(\u001b[0m\u001b[0mlabels\u001b[0m\u001b[0;34m,\u001b[0m\u001b[0mvalues\u001b[0m\u001b[0;34m,\u001b[0m\u001b[0mnames\u001b[0m\u001b[0;34m)\u001b[0m\u001b[0;34m\u001b[0m\u001b[0m\n\u001b[0m",
      "\u001b[0;32m<ipython-input-16-9dd0b2433920>\u001b[0m in \u001b[0;36mplot_bars\u001b[0;34m(labels, values, names)\u001b[0m\n\u001b[1;32m      3\u001b[0m     \u001b[0;32mfor\u001b[0m \u001b[0mi\u001b[0m \u001b[0;32min\u001b[0m \u001b[0mrange\u001b[0m\u001b[0;34m(\u001b[0m\u001b[0mlen\u001b[0m\u001b[0;34m(\u001b[0m\u001b[0mlabels\u001b[0m\u001b[0;34m)\u001b[0m\u001b[0;34m)\u001b[0m\u001b[0;34m:\u001b[0m\u001b[0;34m\u001b[0m\u001b[0m\n\u001b[1;32m      4\u001b[0m         data.append(\n\u001b[0;32m----> 5\u001b[0;31m                   go.Bar(\n\u001b[0m\u001b[1;32m      6\u001b[0m                     \u001b[0mx\u001b[0m\u001b[0;34m=\u001b[0m\u001b[0mlabels\u001b[0m\u001b[0;34m[\u001b[0m\u001b[0mi\u001b[0m\u001b[0;34m]\u001b[0m\u001b[0;34m,\u001b[0m\u001b[0;34m\u001b[0m\u001b[0m\n\u001b[1;32m      7\u001b[0m                     \u001b[0my\u001b[0m\u001b[0;34m=\u001b[0m\u001b[0mvalues\u001b[0m\u001b[0;34m[\u001b[0m\u001b[0mi\u001b[0m\u001b[0;34m]\u001b[0m\u001b[0;34m,\u001b[0m\u001b[0;34m\u001b[0m\u001b[0m\n",
      "\u001b[0;31mNameError\u001b[0m: global name 'go' is not defined"
     ]
    }
   ],
   "source": [
    "dias=['Lunes', 'Martes', 'Miercoles','Jueves','Viernes','Sabado','Domingo']\n",
    "labels=[dias,dias,dias]\n",
    "values=[trips_by_day_of_week,trips_by_day_of_week_cust,trips_by_day_of_week_subs]\n",
    "names=['Total','Customers','Subscribers']\n",
    "plot_bars(labels,values,names)"
   ]
  },
  {
   "cell_type": "markdown",
   "metadata": {
    "deletable": true,
    "editable": true
   },
   "source": [
    "* La cantidad de viajes los fines de semana aumenta considerablemente. Además la diferencia entre subscribers y customers aumenta notablemente."
   ]
  },
  {
   "cell_type": "markdown",
   "metadata": {
    "deletable": true,
    "editable": true
   },
   "source": [
    "## Según mes"
   ]
  },
  {
   "cell_type": "code",
   "execution_count": null,
   "metadata": {
    "collapsed": false,
    "deletable": true,
    "editable": true
   },
   "outputs": [],
   "source": [
    "trips['start_month']=trips.start_date.map(lambda x: x.month)"
   ]
  },
  {
   "cell_type": "code",
   "execution_count": null,
   "metadata": {
    "collapsed": false,
    "deletable": true,
    "editable": true
   },
   "outputs": [],
   "source": [
    "trips_by_month=trips.loc[trips.start_station_id==trips.end_station_id,['subscription_type','id','start_month']]\\\n",
    "                    .groupby('start_month').count().id.values\n",
    "trips_by_month_subs=trips.loc[(trips.start_station_id==trips.end_station_id) & \\\n",
    "                        (trips.subscription_type=='Subscriber'),['subscription_type','id','start_month']]\\\n",
    "                        .groupby('start_month').count().id.values\n",
    "trips_by_month_cust=trips.loc[(trips.start_station_id==trips.end_station_id) & \\\n",
    "                        (trips.subscription_type=='Customer'),['subscription_type','id','start_month']]\\\n",
    "                        .groupby('start_month').count().id.values"
   ]
  },
  {
   "cell_type": "code",
   "execution_count": null,
   "metadata": {
    "collapsed": false,
    "deletable": true,
    "editable": true
   },
   "outputs": [],
   "source": [
    "meses=['Enero','Febrero','Marzo','Abril','Mayo','Junio','Julio','Agosto','Septiembre','Octubre','Noviembre','Diciembre']\n",
    "labels=[meses,meses,meses]\n",
    "values=[trips_by_month,trips_by_month_cust,trips_by_month_subs]\n",
    "names=['Total','Customers','Subscribers']\n",
    "plot_bars(labels,values,names)"
   ]
  },
  {
   "cell_type": "markdown",
   "metadata": {
    "deletable": true,
    "editable": true
   },
   "source": [
    "## Por hora"
   ]
  },
  {
   "cell_type": "code",
   "execution_count": null,
   "metadata": {
    "collapsed": false,
    "deletable": true,
    "editable": true
   },
   "outputs": [],
   "source": [
    "trips['start_hour']=trips.start_date.map(lambda x: x.hour)"
   ]
  },
  {
   "cell_type": "code",
   "execution_count": null,
   "metadata": {
    "collapsed": false,
    "deletable": true,
    "editable": true
   },
   "outputs": [],
   "source": [
    "trips_by_hour=trips.loc[trips.start_station_id==trips.end_station_id,['subscription_type','id','start_hour']]\\\n",
    "                    .groupby('start_hour').count().id.values\n",
    "trips_by_hour_subs=trips.loc[(trips.start_station_id==trips.end_station_id) & \\\n",
    "                        (trips.subscription_type=='Subscriber'),['subscription_type','id','start_hour']]\\\n",
    "                        .groupby('start_hour').count().id.values\n",
    "trips_by_hour_cust=trips.loc[(trips.start_station_id==trips.end_station_id) & \\\n",
    "                        (trips.subscription_type=='Customer'),['subscription_type','id','start_hour']]\\\n",
    "                        .groupby('start_hour').count().id.values"
   ]
  },
  {
   "cell_type": "code",
   "execution_count": null,
   "metadata": {
    "collapsed": false,
    "deletable": true,
    "editable": true
   },
   "outputs": [],
   "source": [
    "horas=range(24)\n",
    "labels=[horas,horas,horas]\n",
    "values=[trips_by_hour,trips_by_hour_cust,trips_by_hour_subs]\n",
    "names=['Total','Customers','Subscribers']\n",
    "plot_bars(labels,values,names)"
   ]
  },
  {
   "cell_type": "markdown",
   "metadata": {
    "deletable": true,
    "editable": true
   },
   "source": [
    "* ¿Parada para almorzar?"
   ]
  },
  {
   "cell_type": "markdown",
   "metadata": {
    "deletable": true,
    "editable": true
   },
   "source": [
    "## Según ciudad"
   ]
  },
  {
   "cell_type": "code",
   "execution_count": null,
   "metadata": {
    "collapsed": false,
    "deletable": true,
    "editable": true
   },
   "outputs": [],
   "source": [
    "trips['city']=trips.start_station_id.map(lambda x: stations.loc[stations.id==x,'city'].values[0] )"
   ]
  },
  {
   "cell_type": "code",
   "execution_count": null,
   "metadata": {
    "collapsed": false,
    "deletable": true,
    "editable": true
   },
   "outputs": [],
   "source": [
    "# trips_by_hour=trips.loc[trips.start_station_id==trips.end_station_id,['subscription_type','id','start_hour']]\\\n",
    "#                     .groupby('start_hour').count().id.values\n",
    "# trips_by_hour_subs=trips.loc[(trips.start_station_id==trips.end_station_id) & \\\n",
    "#                         (trips.subscription_type=='Subscriber'),['subscription_type','id','start_hour']]\\\n",
    "#                         .groupby('start_hour').count().id.values\n",
    "# trips_by_hour_cust=trips.loc[(trips.start_station_id==trips.end_station_id) & \\\n",
    "#                         (trips.subscription_type=='Customer'),['subscription_type','id','start_hour']]\\\n",
    "#                         .groupby('start_hour').count().id.values\n",
    "cities=['San Francisco','San Jose','Palo Alto','Redwood City','Mountain View']\n",
    "trips_by_city=[]\n",
    "trips_by_city_subs=[]\n",
    "trips_by_city_cust=[]\n",
    "for city in cities:\n",
    "    condition=(trips.start_station_id==trips.end_station_id)&(trips.city==city)\n",
    "    trips_by_city.append( trips.loc[condition,['id','city'] ].groupby('city').count().id.values[0])\n",
    "                         \n",
    "    condition=(trips.start_station_id==trips.end_station_id)&\\\n",
    "                    (trips.city==city)&(trips.subscription_type=='Subscriber')\n",
    "    trips_by_city_subs.append( trips.loc[condition,['subscription_type','id','city']]\\\n",
    "                        .groupby('city').count().id.values[0] )\n",
    "                         \n",
    "    condition=(trips.start_station_id==trips.end_station_id ) &\\\n",
    "                    (trips.city==city)&(trips.subscription_type=='Customer')\n",
    "    trips_by_city_cust.append( trips.loc[condition,['subscription_type','id','city']]\\\n",
    "                    .groupby('city').count().id.values[0] )"
   ]
  },
  {
   "cell_type": "code",
   "execution_count": null,
   "metadata": {
    "collapsed": false,
    "deletable": true,
    "editable": true,
    "scrolled": true
   },
   "outputs": [],
   "source": [
    "labels=[cities,cities,cities]\n",
    "values=[trips_by_city,trips_by_city_cust,trips_by_city_subs]\n",
    "names=['Total','Customers','Subscribers']\n",
    "plot_bars(labels,values,names)"
   ]
  },
  {
   "cell_type": "markdown",
   "metadata": {
    "collapsed": true,
    "deletable": true,
    "editable": true
   },
   "source": []
  },
  {
   "cell_type": "code",
   "execution_count": null,
   "metadata": {
    "collapsed": false,
    "deletable": true,
    "editable": true
   },
   "outputs": [],
   "source": [
    "values"
   ]
  },
  {
   "cell_type": "code",
   "execution_count": null,
   "metadata": {
    "collapsed": true,
    "deletable": true,
    "editable": true
   },
   "outputs": [],
   "source": []
  },
  {
   "cell_type": "code",
   "execution_count": null,
   "metadata": {
    "collapsed": true,
    "deletable": true,
    "editable": true
   },
   "outputs": [],
   "source": []
  }
 ],
 "metadata": {
  "kernelspec": {
   "display_name": "Python 2",
   "language": "python",
   "name": "python2"
  },
  "language_info": {
   "codemirror_mode": {
    "name": "ipython",
    "version": 2
   },
   "file_extension": ".py",
   "mimetype": "text/x-python",
   "name": "python",
   "nbconvert_exporter": "python",
   "pygments_lexer": "ipython2",
   "version": "2.7.13"
  }
 },
 "nbformat": 4,
 "nbformat_minor": 2
}
