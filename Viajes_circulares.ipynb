{
 "cells": [
  {
   "cell_type": "code",
   "execution_count": 3,
   "metadata": {
    "collapsed": true
   },
   "outputs": [],
   "source": [
    "import numpy as np\n",
    "import matplotlib.pyplot as plot\n",
    "import pandas as pd\n",
    "from plotly.offline import download_plotlyjs, init_notebook_mode, plot, iplot\n",
    "import plotly\n",
    "plotly.offline.init_notebook_mode()"
   ]
  },
  {
   "cell_type": "code",
   "execution_count": 97,
   "metadata": {
    "collapsed": true
   },
   "outputs": [],
   "source": [
    "stations=pd.read_csv('station.csv')"
   ]
  },
  {
   "cell_type": "code",
   "execution_count": 2,
   "metadata": {
    "collapsed": true
   },
   "outputs": [],
   "source": [
    "import pyspark\n",
    "\n",
    "try: \n",
    "    type(sc)\n",
    "except NameError:\n",
    "    sc = pyspark.SparkContext('local[*]')\n",
    "    \n",
    "import pyspark_csv as pycsv\n",
    "sc.addPyFile('pyspark_csv.py')"
   ]
  },
  {
   "cell_type": "code",
   "execution_count": 3,
   "metadata": {
    "collapsed": true
   },
   "outputs": [],
   "source": [
    "import pyspark.sql as pysql\n",
    "\n",
    "sqlCtx = pysql.SQLContext(sc)\n",
    "\n",
    "trip_rdd=sc.textFile('trip.csv')\n",
    "trips_df =pycsv.csvToDataFrame(sqlCtx,trip_rdd)"
   ]
  },
  {
   "cell_type": "code",
   "execution_count": 4,
   "metadata": {
    "collapsed": true
   },
   "outputs": [],
   "source": [
    "#el rdd de los trips\n",
    "trips_data=trips_df.rdd"
   ]
  },
  {
   "cell_type": "code",
   "execution_count": 9,
   "metadata": {
    "collapsed": false
   },
   "outputs": [],
   "source": [
    "circular_trips=trips_data.filter(lambda x: x[4]==x[7])\\\n",
    "                        .map(lambda x:((x[3],x[6]),1))\\\n",
    "                        .reduceByKey(lambda x,y: x+y)\\\n",
    "                        .collect()"
   ]
  },
  {
   "cell_type": "code",
   "execution_count": 12,
   "metadata": {
    "collapsed": false,
    "scrolled": true
   },
   "outputs": [],
   "source": [
    "circular_trips=sorted(circular_trips,lambda x,y: y[1]-x[1])"
   ]
  },
  {
   "cell_type": "markdown",
   "metadata": {
    "collapsed": false
   },
   "source": [
    "## Cantidad de viajes circulares según estación"
   ]
  },
  {
   "cell_type": "code",
   "execution_count": 29,
   "metadata": {
    "collapsed": false
   },
   "outputs": [],
   "source": [
    "\n",
    "def get_coordenates(stations_list):\n",
    "    \"\"\"in : a list of ((station_name,station_name),int)\n",
    "        out: a 2-column matrix with the lat and long of the stations\n",
    "    \"\"\"\n",
    "    lat_lon=[[],[]]\n",
    "    for trip,frec in circular_trips:\n",
    "        lat=stations.loc[stations.name==trip[0],'lat']\n",
    "        lon=stations.loc[stations.name==trip[0],'long']\n",
    "        lat_lon[0].append(lat)\n",
    "        lat_lon[1].append(lon)\n",
    "    return lat_lon"
   ]
  },
  {
   "cell_type": "code",
   "execution_count": 81,
   "metadata": {
    "collapsed": false,
    "scrolled": false
   },
   "outputs": [
    {
     "data": {
      "text/html": [
       "<iframe id=\"igraph\" scrolling=\"no\" style=\"border:none;\" seamless=\"seamless\" src=\"https://plot.ly/~leocenturion/144.embed\" height=\"800px\" width=\"700px\"></iframe>"
      ],
      "text/plain": [
       "<plotly.tools.PlotlyDisplay object>"
      ]
     },
     "execution_count": 81,
     "metadata": {},
     "output_type": "execute_result"
    }
   ],
   "source": [
    "import plotly.plotly as py\n",
    "from plotly.graph_objs import *\n",
    "mapbox_access_token = 'pk.eyJ1IjoibGVvY2VudHVyaW9uIiwiYSI6ImNqMGxsZnlyMTAwMDIzMm5vbXNidmtyOHEifQ.YqWBUbyhzglm38sJeRFl7A'\n",
    "\n",
    "cities_coordenates=[((37.6158637,-122.192001),9,'San Francisco Bay'),((37.788925,-122.403452),12,'San Francisco'),\n",
    "                    ((37.339301,-121.889937),12,'San Jose') ,((37.487682,-122.223492),12,'Redwood City'),\n",
    "                    ((37.444521,-122.163093),12,'Palo Alto'),((37.389218,-122.081896),12,'Mountain View')]\n",
    "\n",
    "lat_long=get_coordenates(circular_trips)\n",
    "number_of_trips= ['{}'.format(frecuency) for trip,frecuency in circular_trips]\n",
    "data = Data([\n",
    "    Scattermapbox(\n",
    "        lat = lat_long[0],\n",
    "        lon = lat_long[1],\n",
    "        text =['{} \\n {}'.format(trip[0],frecuency) for trip,frecuency in circular_trips],\n",
    "        mode='markers',\n",
    "        marker = dict(\n",
    "            \n",
    "            color = number_of_trips,\n",
    "            colorscale = [[0,\"rgb(150,150,255)\"],[1,\"rgb(0, 0, 255)\"]],\n",
    "            opacity = 1,\n",
    "            size = 9,\n",
    "        )\n",
    "    )\n",
    "])\n",
    "cities=[]\n",
    "for coordenates,zoom,text in cities_coordenates:\n",
    "    city=dict(\n",
    "        args=[ { \n",
    "            'mapbox.center.lat':coordenates[0],\n",
    "            'mapbox.center.lon':coordenates[1],\n",
    "            'mapbox.zoom':zoom,\n",
    "            'annotations[0].text':text\n",
    "        } ],\n",
    "        label=text,\n",
    "        method='relayout'\n",
    "    )\n",
    "    cities.append(city)\n",
    "updatemenus=list([\n",
    "    dict(\n",
    "        buttons = cities,\n",
    "        x=1,\n",
    "        y=1\n",
    "    )\n",
    "])\n",
    "layout = Layout(\n",
    "    autosize=False,\n",
    "    width=700,\n",
    "    height=800,\n",
    "    hovermode='closest',\n",
    "    mapbox=dict(\n",
    "        accesstoken=mapbox_access_token,\n",
    "        bearing=0,\n",
    "        center=dict(\n",
    "            lat=37.6158637,\n",
    "            lon=-122.192001\n",
    "\n",
    "        ),\n",
    "        pitch=0,\n",
    "        zoom=9\n",
    "        ),\n",
    "    )\n",
    "layout['updatemenus'] = updatemenus\n",
    "fig = { 'data':data, 'layout':layout }\n",
    "py.iplot(fig)"
   ]
  },
  {
   "cell_type": "code",
   "execution_count": 76,
   "metadata": {
    "collapsed": false
   },
   "outputs": [
    {
     "data": {
      "text/html": [
       "<div>\n",
       "<table border=\"1\" class=\"dataframe\">\n",
       "  <thead>\n",
       "    <tr style=\"text-align: right;\">\n",
       "      <th></th>\n",
       "      <th>id</th>\n",
       "      <th>name</th>\n",
       "      <th>lat</th>\n",
       "      <th>long</th>\n",
       "      <th>dock_count</th>\n",
       "      <th>city</th>\n",
       "      <th>installation_date</th>\n",
       "    </tr>\n",
       "  </thead>\n",
       "  <tbody>\n",
       "    <tr>\n",
       "      <th>20</th>\n",
       "      <td>27</td>\n",
       "      <td>Mountain View City Hall</td>\n",
       "      <td>37.389218</td>\n",
       "      <td>-122.081896</td>\n",
       "      <td>15</td>\n",
       "      <td>Mountain View</td>\n",
       "      <td>8/16/2013</td>\n",
       "    </tr>\n",
       "  </tbody>\n",
       "</table>\n",
       "</div>"
      ],
      "text/plain": [
       "    id                     name        lat        long  dock_count  \\\n",
       "20  27  Mountain View City Hall  37.389218 -122.081896          15   \n",
       "\n",
       "             city installation_date  \n",
       "20  Mountain View         8/16/2013  "
      ]
     },
     "execution_count": 76,
     "metadata": {},
     "output_type": "execute_result"
    }
   ],
   "source": [
    "stations[stations.name==\"Mountain View City Hall\"]"
   ]
  },
  {
   "cell_type": "code",
   "execution_count": 5,
   "metadata": {
    "collapsed": false
   },
   "outputs": [],
   "source": [
    "trips=pd.read_csv('trip.csv')"
   ]
  },
  {
   "cell_type": "code",
   "execution_count": 17,
   "metadata": {
    "collapsed": false
   },
   "outputs": [],
   "source": [
    "trips_by_subscription=trips.loc[trips.start_station_id==trips.end_station_id,['subscription_type','id']]\\\n",
    "        .groupby('subscription_type').count().id.values"
   ]
  },
  {
   "cell_type": "markdown",
   "metadata": {},
   "source": [
    "## Cantidad de viajes según tipo de subscripción"
   ]
  },
  {
   "cell_type": "code",
   "execution_count": 52,
   "metadata": {
    "collapsed": false
   },
   "outputs": [
    {
     "data": {
      "text/html": [
       "<iframe id=\"igraph\" scrolling=\"no\" style=\"border:none;\" seamless=\"seamless\" src=\"https://plot.ly/~leocenturion/172.embed\" height=\"525px\" width=\"100%\"></iframe>"
      ],
      "text/plain": [
       "<plotly.tools.PlotlyDisplay object>"
      ]
     },
     "execution_count": 52,
     "metadata": {},
     "output_type": "execute_result"
    }
   ],
   "source": [
    "import plotly.plotly as py\n",
    "import plotly.graph_objs as go\n",
    "\n",
    "fig = {\n",
    "  \"data\": [\n",
    "    {\n",
    "      \"values\": [trips_by_subscription[0],trips_by_subscription[1]],\n",
    "      \"labels\": [\n",
    "        \"Customers\",\n",
    "        \"Subscribers\",\n",
    "      ],\n",
    "      \"hoverinfo\":\"label+percent\",\n",
    "      \"hole\": .4,\n",
    "      \"type\": \"pie\"\n",
    "    }\n",
    "  ],\n",
    "  \"layout\": {\n",
    "        \"title\":\"Cantidad de viajes según tipo de subscipción\",\n",
    "        \"annotations\": [\n",
    "            {\n",
    "                \"font\": {\n",
    "                    \"size\": 20\n",
    "                },\n",
    "                \"showarrow\": False,\n",
    "                \"text\": \"Cantidad de \\n viajes\",\n",
    "                \"x\": 0.5,\n",
    "                \"y\": 0.5\n",
    "            }\n",
    "        ]\n",
    "    }\n",
    "}\n",
    "py.iplot(fig)"
   ]
  },
  {
   "cell_type": "markdown",
   "metadata": {},
   "source": [
    "* Hay mayor cantidad de 'customers', lo que concuerda con nuestra suposición de que los viajes circulares son realizados por turistas."
   ]
  },
  {
   "cell_type": "markdown",
   "metadata": {},
   "source": [
    "## Cantidad de viajes según día de la semana"
   ]
  },
  {
   "cell_type": "code",
   "execution_count": 36,
   "metadata": {
    "collapsed": false
   },
   "outputs": [],
   "source": [
    "import datetime\n",
    "trips.start_date=trips.start_date.map(lambda x: datetime.datetime.strptime(x, '%m/%d/%Y %H:%M') )"
   ]
  },
  {
   "cell_type": "code",
   "execution_count": 57,
   "metadata": {
    "collapsed": false
   },
   "outputs": [],
   "source": [
    "trips['day_of_week']=trips.start_date.map(lambda x: x.dayofweek)\n",
    "trips_by_day_of_week=trips.loc[trips.start_station_id==trips.end_station_id,['subscription_type','id','day_of_week']]\\\n",
    "                    .groupby('day_of_week').count().id.values\n",
    "trips_by_day_of_week_subs=trips.loc[(trips.start_station_id==trips.end_station_id) & \\\n",
    "                        (trips.subscription_type=='Subscriber'),['subscription_type','id','day_of_week']]\\\n",
    "                        .groupby('day_of_week').count().id.values\n",
    "trips_by_day_of_week_cust=trips.loc[(trips.start_station_id==trips.end_station_id) & \\\n",
    "                        (trips.subscription_type=='Customer'),['subscription_type','id','day_of_week']]\\\n",
    "                        .groupby('day_of_week').count().id.values"
   ]
  },
  {
   "cell_type": "code",
   "execution_count": 77,
   "metadata": {
    "collapsed": true
   },
   "outputs": [],
   "source": [
    "def plot_bars(labels,values,names):\n",
    "    data=[]\n",
    "    for i in range(len(labels)):\n",
    "        data.append(\n",
    "                  go.Bar(\n",
    "                    x=labels[i],\n",
    "                    y=values[i],\n",
    "                    name=names[i]\n",
    "            )\n",
    "        )\n",
    "    trace1=go.Bar(\n",
    "                x=labels[0],\n",
    "                y=trips_by_day_of_week,\n",
    "                name='Total'\n",
    "            )\n",
    "    trace2=go.Bar(\n",
    "                x=['Lunes', 'Martes', 'Miercoles','Jueves','Viernes','Sabado','Domingo'],\n",
    "                y=trips_by_day_of_week_subs,\n",
    "                name='Subscribers'\n",
    "            )\n",
    "    trace3=go.Bar(\n",
    "                x=['Lunes', 'Martes', 'Miercoles','Jueves','Viernes','Sabado','Domingo'],\n",
    "                y=trips_by_day_of_week_cust,\n",
    "                name='Customers'\n",
    "            )\n",
    "\n",
    "    data = [trace1,trace3,trace2]\n",
    "\n",
    "    iplot(data)\n"
   ]
  },
  {
   "cell_type": "code",
   "execution_count": 78,
   "metadata": {
    "collapsed": false
   },
   "outputs": [
    {
     "data": {
      "application/vnd.plotly.v1+json": {
       "data": [
        {
         "name": "Total",
         "type": "bar",
         "x": [
          "Lunes",
          "Martes",
          "Miercoles",
          "Jueves",
          "Viernes",
          "Sabado",
          "Domingo"
         ],
         "y": [
          2874,
          2647,
          2723,
          3082,
          3448,
          4601,
          4606
         ]
        },
        {
         "name": "Customers",
         "type": "bar",
         "x": [
          "Lunes",
          "Martes",
          "Miercoles",
          "Jueves",
          "Viernes",
          "Sabado",
          "Domingo"
         ],
         "y": [
          1745,
          1489,
          1574,
          1718,
          2198,
          3846,
          3873
         ]
        },
        {
         "name": "Subscribers",
         "type": "bar",
         "x": [
          "Lunes",
          "Martes",
          "Miercoles",
          "Jueves",
          "Viernes",
          "Sabado",
          "Domingo"
         ],
         "y": [
          1129,
          1158,
          1149,
          1364,
          1250,
          755,
          733
         ]
        }
       ],
       "layout": {}
      },
      "text/html": [
       "<div id=\"f2e4161c-7c47-495f-b39d-fc544d3ff531\" style=\"height: 525px; width: 100%;\" class=\"plotly-graph-div\"></div><script type=\"text/javascript\">require([\"plotly\"], function(Plotly) { window.PLOTLYENV=window.PLOTLYENV || {};window.PLOTLYENV.BASE_URL=\"https://plot.ly\";Plotly.newPlot(\"f2e4161c-7c47-495f-b39d-fc544d3ff531\", [{\"y\": [2874, 2647, 2723, 3082, 3448, 4601, 4606], \"x\": [\"Lunes\", \"Martes\", \"Miercoles\", \"Jueves\", \"Viernes\", \"Sabado\", \"Domingo\"], \"type\": \"bar\", \"name\": \"Total\"}, {\"y\": [1745, 1489, 1574, 1718, 2198, 3846, 3873], \"x\": [\"Lunes\", \"Martes\", \"Miercoles\", \"Jueves\", \"Viernes\", \"Sabado\", \"Domingo\"], \"type\": \"bar\", \"name\": \"Customers\"}, {\"y\": [1129, 1158, 1149, 1364, 1250, 755, 733], \"x\": [\"Lunes\", \"Martes\", \"Miercoles\", \"Jueves\", \"Viernes\", \"Sabado\", \"Domingo\"], \"type\": \"bar\", \"name\": \"Subscribers\"}], {}, {\"linkText\": \"Export to plot.ly\", \"showLink\": true})});</script>"
      ]
     },
     "metadata": {},
     "output_type": "display_data"
    }
   ],
   "source": [
    "dias=['Lunes', 'Martes', 'Miercoles','Jueves','Viernes','Sabado','Domingo']\n",
    "labels=[dias,dias,dias]\n",
    "values=[trips_by_day_of_week,trips_by_day_of_week_cust,trips_by_day_of_week_subs]\n",
    "names=['Total','Customers','Subscribers']\n",
    "plot_bars(labels,values,names)"
   ]
  },
  {
   "cell_type": "markdown",
   "metadata": {},
   "source": [
    "* La cantidad de viajes los fines de semana aumenta considerablemente. Además la diferencia entre subscribers y customers aumenta notablemente."
   ]
  },
  {
   "cell_type": "markdown",
   "metadata": {},
   "source": [
    "## Según mes"
   ]
  },
  {
   "cell_type": "code",
   "execution_count": 70,
   "metadata": {
    "collapsed": true
   },
   "outputs": [],
   "source": [
    "trips['start_month']=trips.start_date.map(lambda x: x.month)"
   ]
  },
  {
   "cell_type": "code",
   "execution_count": 72,
   "metadata": {
    "collapsed": false
   },
   "outputs": [],
   "source": [
    "trips_by_month=trips.loc[trips.start_station_id==trips.end_station_id,['subscription_type','id','start_month']]\\\n",
    "                    .groupby('start_month').count().id.values\n",
    "trips_by_month_subs=trips.loc[(trips.start_station_id==trips.end_station_id) & \\\n",
    "                        (trips.subscription_type=='Subscriber'),['subscription_type','id','start_month']]\\\n",
    "                        .groupby('start_month').count().id.values\n",
    "trips_by_month_cust=trips.loc[(trips.start_station_id==trips.end_station_id) & \\\n",
    "                        (trips.subscription_type=='Customer'),['subscription_type','id','start_month']]\\\n",
    "                        .groupby('start_month').count().id.values"
   ]
  },
  {
   "cell_type": "code",
   "execution_count": 80,
   "metadata": {
    "collapsed": false
   },
   "outputs": [
    {
     "data": {
      "application/vnd.plotly.v1+json": {
       "data": [
        {
         "name": "Total",
         "type": "bar",
         "x": [
          "Enero",
          "Febrero",
          "Marzo",
          "Abril",
          "Mayo",
          "Junio",
          "Julio",
          "Agosto",
          "Septiembre",
          "Octubre",
          "Noviembre",
          "Diciembre"
         ],
         "y": [
          1619,
          1344,
          1952,
          1807,
          2024,
          2068,
          2247,
          2485,
          2867,
          2365,
          1785,
          1418
         ]
        },
        {
         "name": "Customers",
         "type": "bar",
         "x": [
          "Enero",
          "Febrero",
          "Marzo",
          "Abril",
          "Mayo",
          "Junio",
          "Julio",
          "Agosto",
          "Septiembre",
          "Octubre",
          "Noviembre",
          "Diciembre"
         ],
         "y": [
          1061,
          896,
          1318,
          1227,
          1422,
          1475,
          1603,
          1726,
          2013,
          1565,
          1205,
          932
         ]
        },
        {
         "name": "Subscribers",
         "type": "bar",
         "x": [
          "Enero",
          "Febrero",
          "Marzo",
          "Abril",
          "Mayo",
          "Junio",
          "Julio",
          "Agosto",
          "Septiembre",
          "Octubre",
          "Noviembre",
          "Diciembre"
         ],
         "y": [
          558,
          448,
          634,
          580,
          602,
          593,
          644,
          759,
          854,
          800,
          580,
          486
         ]
        }
       ],
       "layout": {}
      },
      "text/html": [
       "<div id=\"a3dbb186-b88f-4851-ab16-6c43e236ae95\" style=\"height: 525px; width: 100%;\" class=\"plotly-graph-div\"></div><script type=\"text/javascript\">require([\"plotly\"], function(Plotly) { window.PLOTLYENV=window.PLOTLYENV || {};window.PLOTLYENV.BASE_URL=\"https://plot.ly\";Plotly.newPlot(\"a3dbb186-b88f-4851-ab16-6c43e236ae95\", [{\"y\": [1619, 1344, 1952, 1807, 2024, 2068, 2247, 2485, 2867, 2365, 1785, 1418], \"x\": [\"Enero\", \"Febrero\", \"Marzo\", \"Abril\", \"Mayo\", \"Junio\", \"Julio\", \"Agosto\", \"Septiembre\", \"Octubre\", \"Noviembre\", \"Diciembre\"], \"type\": \"bar\", \"name\": \"Total\"}, {\"y\": [1061, 896, 1318, 1227, 1422, 1475, 1603, 1726, 2013, 1565, 1205, 932], \"x\": [\"Enero\", \"Febrero\", \"Marzo\", \"Abril\", \"Mayo\", \"Junio\", \"Julio\", \"Agosto\", \"Septiembre\", \"Octubre\", \"Noviembre\", \"Diciembre\"], \"type\": \"bar\", \"name\": \"Customers\"}, {\"y\": [558, 448, 634, 580, 602, 593, 644, 759, 854, 800, 580, 486], \"x\": [\"Enero\", \"Febrero\", \"Marzo\", \"Abril\", \"Mayo\", \"Junio\", \"Julio\", \"Agosto\", \"Septiembre\", \"Octubre\", \"Noviembre\", \"Diciembre\"], \"type\": \"bar\", \"name\": \"Subscribers\"}], {}, {\"linkText\": \"Export to plot.ly\", \"showLink\": true})});</script>"
      ]
     },
     "metadata": {},
     "output_type": "display_data"
    }
   ],
   "source": [
    "meses=['Enero','Febrero','Marzo','Abril','Mayo','Junio','Julio','Agosto','Septiembre','Octubre','Noviembre','Diciembre']\n",
    "labels=[meses,meses,meses]\n",
    "values=[trips_by_month,trips_by_month_cust,trips_by_month_subs]\n",
    "names=['Total','Customers','Subscribers']\n",
    "plot_bars(labels,values,names)"
   ]
  },
  {
   "cell_type": "markdown",
   "metadata": {},
   "source": [
    "## Por hora"
   ]
  },
  {
   "cell_type": "code",
   "execution_count": 82,
   "metadata": {
    "collapsed": true
   },
   "outputs": [],
   "source": [
    "trips['start_hour']=trips.start_date.map(lambda x: x.hour)"
   ]
  },
  {
   "cell_type": "code",
   "execution_count": 83,
   "metadata": {
    "collapsed": true
   },
   "outputs": [],
   "source": [
    "trips_by_hour=trips.loc[trips.start_station_id==trips.end_station_id,['subscription_type','id','start_hour']]\\\n",
    "                    .groupby('start_hour').count().id.values\n",
    "trips_by_hour_subs=trips.loc[(trips.start_station_id==trips.end_station_id) & \\\n",
    "                        (trips.subscription_type=='Subscriber'),['subscription_type','id','start_hour']]\\\n",
    "                        .groupby('start_hour').count().id.values\n",
    "trips_by_hour_cust=trips.loc[(trips.start_station_id==trips.end_station_id) & \\\n",
    "                        (trips.subscription_type=='Customer'),['subscription_type','id','start_hour']]\\\n",
    "                        .groupby('start_hour').count().id.values"
   ]
  },
  {
   "cell_type": "code",
   "execution_count": 84,
   "metadata": {
    "collapsed": false
   },
   "outputs": [
    {
     "data": {
      "application/vnd.plotly.v1+json": {
       "data": [
        {
         "name": "Total",
         "type": "bar",
         "x": [
          0,
          1,
          2,
          3,
          4,
          5,
          6,
          7,
          8,
          9,
          10,
          11,
          12,
          13,
          14,
          15,
          16,
          17,
          18,
          19,
          20,
          21,
          22,
          23
         ],
         "y": [
          176,
          129,
          85,
          50,
          40,
          98,
          282,
          477,
          802,
          1180,
          1606,
          2058,
          2634,
          2263,
          2378,
          2220,
          2006,
          1580,
          1331,
          881,
          646,
          447,
          328,
          284
         ]
        },
        {
         "name": "Customers",
         "type": "bar",
         "x": [
          0,
          1,
          2,
          3,
          4,
          5,
          6,
          7,
          8,
          9,
          10,
          11,
          12,
          13,
          14,
          15,
          16,
          17,
          18,
          19,
          20,
          21,
          22,
          23
         ],
         "y": [
          127,
          113,
          68,
          45,
          26,
          65,
          167,
          274,
          372,
          743,
          1202,
          1554,
          1783,
          1600,
          1785,
          1650,
          1459,
          994,
          819,
          535,
          389,
          272,
          200,
          201
         ]
        },
        {
         "name": "Subscribers",
         "type": "bar",
         "x": [
          0,
          1,
          2,
          3,
          4,
          5,
          6,
          7,
          8,
          9,
          10,
          11,
          12,
          13,
          14,
          15,
          16,
          17,
          18,
          19,
          20,
          21,
          22,
          23
         ],
         "y": [
          49,
          16,
          17,
          5,
          14,
          33,
          115,
          203,
          430,
          437,
          404,
          504,
          851,
          663,
          593,
          570,
          547,
          586,
          512,
          346,
          257,
          175,
          128,
          83
         ]
        }
       ],
       "layout": {}
      },
      "text/html": [
       "<div id=\"0096a17f-70ea-420b-a1fa-a9b55280e2b0\" style=\"height: 525px; width: 100%;\" class=\"plotly-graph-div\"></div><script type=\"text/javascript\">require([\"plotly\"], function(Plotly) { window.PLOTLYENV=window.PLOTLYENV || {};window.PLOTLYENV.BASE_URL=\"https://plot.ly\";Plotly.newPlot(\"0096a17f-70ea-420b-a1fa-a9b55280e2b0\", [{\"y\": [176, 129, 85, 50, 40, 98, 282, 477, 802, 1180, 1606, 2058, 2634, 2263, 2378, 2220, 2006, 1580, 1331, 881, 646, 447, 328, 284], \"x\": [0, 1, 2, 3, 4, 5, 6, 7, 8, 9, 10, 11, 12, 13, 14, 15, 16, 17, 18, 19, 20, 21, 22, 23], \"type\": \"bar\", \"name\": \"Total\"}, {\"y\": [127, 113, 68, 45, 26, 65, 167, 274, 372, 743, 1202, 1554, 1783, 1600, 1785, 1650, 1459, 994, 819, 535, 389, 272, 200, 201], \"x\": [0, 1, 2, 3, 4, 5, 6, 7, 8, 9, 10, 11, 12, 13, 14, 15, 16, 17, 18, 19, 20, 21, 22, 23], \"type\": \"bar\", \"name\": \"Customers\"}, {\"y\": [49, 16, 17, 5, 14, 33, 115, 203, 430, 437, 404, 504, 851, 663, 593, 570, 547, 586, 512, 346, 257, 175, 128, 83], \"x\": [0, 1, 2, 3, 4, 5, 6, 7, 8, 9, 10, 11, 12, 13, 14, 15, 16, 17, 18, 19, 20, 21, 22, 23], \"type\": \"bar\", \"name\": \"Subscribers\"}], {}, {\"linkText\": \"Export to plot.ly\", \"showLink\": true})});</script>"
      ]
     },
     "metadata": {},
     "output_type": "display_data"
    }
   ],
   "source": [
    "horas=range(24)\n",
    "labels=[horas,horas,horas]\n",
    "values=[trips_by_hour,trips_by_hour_cust,trips_by_hour_subs]\n",
    "names=['Total','Customers','Subscribers']\n",
    "plot_bars(labels,values,names)"
   ]
  },
  {
   "cell_type": "markdown",
   "metadata": {},
   "source": [
    "* ¿Parada para almorzar?"
   ]
  },
  {
   "cell_type": "markdown",
   "metadata": {},
   "source": [
    "## Según ciudad"
   ]
  },
  {
   "cell_type": "code",
   "execution_count": 102,
   "metadata": {
    "collapsed": false
   },
   "outputs": [],
   "source": [
    "trips['city']=trips.start_station_id.map(lambda x: stations.loc[stations.id==x,'city'].values[0] )"
   ]
  },
  {
   "cell_type": "code",
   "execution_count": 111,
   "metadata": {
    "collapsed": false
   },
   "outputs": [],
   "source": [
    "# trips_by_hour=trips.loc[trips.start_station_id==trips.end_station_id,['subscription_type','id','start_hour']]\\\n",
    "#                     .groupby('start_hour').count().id.values\n",
    "# trips_by_hour_subs=trips.loc[(trips.start_station_id==trips.end_station_id) & \\\n",
    "#                         (trips.subscription_type=='Subscriber'),['subscription_type','id','start_hour']]\\\n",
    "#                         .groupby('start_hour').count().id.values\n",
    "# trips_by_hour_cust=trips.loc[(trips.start_station_id==trips.end_station_id) & \\\n",
    "#                         (trips.subscription_type=='Customer'),['subscription_type','id','start_hour']]\\\n",
    "#                         .groupby('start_hour').count().id.values\n",
    "cities=['San Francisco','San Jose','Palo Alto','Redwood City','Mountain View']\n",
    "trips_by_city=[]\n",
    "trips_by_city_subs=[]\n",
    "trips_by_city_cust=[]\n",
    "for city in cities:\n",
    "    condition=(trips.start_station_id==trips.end_station_id)&(trips.city==city)\n",
    "    trips_by_city.append( trips.loc[condition,['id','city'] ].groupby('city').count().id.values[0])\n",
    "                         \n",
    "    condition=(trips.start_station_id==trips.end_station_id)&\\\n",
    "                    (trips.city==city)&(trips.subscription_type=='Subscriber')\n",
    "    trips_by_city_subs.append( trips.loc[condition,['subscription_type','id','city']]\\\n",
    "                        .groupby('city').count().id.values[0] )\n",
    "                         \n",
    "    condition=(trips.start_station_id==trips.end_station_id ) &\\\n",
    "                    (trips.city==city)&(trips.subscription_type=='Customer')\n",
    "    trips_by_city_cust.append( trips.loc[condition,['subscription_type','id','city']]\\\n",
    "                    .groupby('city').count().id.values[0] )"
   ]
  },
  {
   "cell_type": "code",
   "execution_count": 113,
   "metadata": {
    "collapsed": false
   },
   "outputs": [
    {
     "data": {
      "application/vnd.plotly.v1+json": {
       "data": [
        {
         "name": "Total",
         "type": "bar",
         "x": [
          "San Francisco",
          "San Jose",
          "Palo Alto",
          "Redwood City",
          "Mountain View"
         ],
         "y": [
          17623,
          2709,
          1762,
          453,
          1434
         ]
        },
        {
         "name": "Customers",
         "type": "bar",
         "x": [
          "San Francisco",
          "San Jose",
          "Palo Alto",
          "Redwood City",
          "Mountain View"
         ],
         "y": [
          11831,
          1725,
          1530,
          260,
          1097
         ]
        },
        {
         "name": "Subscribers",
         "type": "bar",
         "x": [
          "San Francisco",
          "San Jose",
          "Palo Alto",
          "Redwood City",
          "Mountain View"
         ],
         "y": [
          5792,
          984,
          232,
          193,
          337
         ]
        }
       ],
       "layout": {}
      },
      "text/html": [
       "<div id=\"64aeedfd-cbcb-4baf-bade-90981e4d571a\" style=\"height: 525px; width: 100%;\" class=\"plotly-graph-div\"></div><script type=\"text/javascript\">require([\"plotly\"], function(Plotly) { window.PLOTLYENV=window.PLOTLYENV || {};window.PLOTLYENV.BASE_URL=\"https://plot.ly\";Plotly.newPlot(\"64aeedfd-cbcb-4baf-bade-90981e4d571a\", [{\"y\": [17623, 2709, 1762, 453, 1434], \"x\": [\"San Francisco\", \"San Jose\", \"Palo Alto\", \"Redwood City\", \"Mountain View\"], \"type\": \"bar\", \"name\": \"Total\"}, {\"y\": [11831, 1725, 1530, 260, 1097], \"x\": [\"San Francisco\", \"San Jose\", \"Palo Alto\", \"Redwood City\", \"Mountain View\"], \"type\": \"bar\", \"name\": \"Customers\"}, {\"y\": [5792, 984, 232, 193, 337], \"x\": [\"San Francisco\", \"San Jose\", \"Palo Alto\", \"Redwood City\", \"Mountain View\"], \"type\": \"bar\", \"name\": \"Subscribers\"}], {}, {\"linkText\": \"Export to plot.ly\", \"showLink\": true})});</script>"
      ]
     },
     "metadata": {},
     "output_type": "display_data"
    }
   ],
   "source": [
    "labels=[cities,cities,cities]\n",
    "values=[trips_by_city,trips_by_city_cust,trips_by_city_subs]\n",
    "names=['Total','Customers','Subscribers']\n",
    "plot_bars(labels,values,names)"
   ]
  },
  {
   "cell_type": "code",
   "execution_count": null,
   "metadata": {
    "collapsed": true
   },
   "outputs": [],
   "source": []
  }
 ],
 "metadata": {
  "kernelspec": {
   "display_name": "Python 2",
   "language": "python",
   "name": "python2"
  },
  "language_info": {
   "codemirror_mode": {
    "name": "ipython",
    "version": 2
   },
   "file_extension": ".py",
   "mimetype": "text/x-python",
   "name": "python",
   "nbconvert_exporter": "python",
   "pygments_lexer": "ipython2",
   "version": "2.7.13"
  }
 },
 "nbformat": 4,
 "nbformat_minor": 2
}
