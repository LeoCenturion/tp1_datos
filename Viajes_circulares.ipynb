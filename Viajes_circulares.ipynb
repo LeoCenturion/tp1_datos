{
 "cells": [
  {
   "cell_type": "code",
   "execution_count": 1,
   "metadata": {
    "collapsed": true
   },
   "outputs": [],
   "source": [
    "import numpy as np\n",
    "import matplotlib.pyplot as plot\n",
    "import pandas as pd\n"
   ]
  },
  {
   "cell_type": "code",
   "execution_count": 14,
   "metadata": {
    "collapsed": true
   },
   "outputs": [],
   "source": [
    "stations=pd.read_csv('station.csv')"
   ]
  },
  {
   "cell_type": "code",
   "execution_count": 2,
   "metadata": {
    "collapsed": true
   },
   "outputs": [],
   "source": [
    "import pyspark\n",
    "\n",
    "try: \n",
    "    type(sc)\n",
    "except NameError:\n",
    "    sc = pyspark.SparkContext('local[*]')\n",
    "    \n",
    "import pyspark_csv as pycsv\n",
    "sc.addPyFile('pyspark_csv.py')"
   ]
  },
  {
   "cell_type": "code",
   "execution_count": 3,
   "metadata": {
    "collapsed": true
   },
   "outputs": [],
   "source": [
    "import pyspark.sql as pysql\n",
    "\n",
    "sqlCtx = pysql.SQLContext(sc)\n",
    "\n",
    "trip_rdd=sc.textFile('trip.csv')\n",
    "trips_df =pycsv.csvToDataFrame(sqlCtx,trip_rdd)"
   ]
  },
  {
   "cell_type": "code",
   "execution_count": 4,
   "metadata": {
    "collapsed": true
   },
   "outputs": [],
   "source": [
    "#el rdd de los trips\n",
    "trips_data=trips_df.rdd"
   ]
  },
  {
   "cell_type": "code",
   "execution_count": 9,
   "metadata": {
    "collapsed": false
   },
   "outputs": [],
   "source": [
    "circular_trips=trips_data.filter(lambda x: x[4]==x[7])\\\n",
    "                        .map(lambda x:((x[3],x[6]),1))\\\n",
    "                        .reduceByKey(lambda x,y: x+y)\\\n",
    "                        .collect()"
   ]
  },
  {
   "cell_type": "code",
   "execution_count": 12,
   "metadata": {
    "collapsed": false,
    "scrolled": true
   },
   "outputs": [],
   "source": [
    "circular_trips=sorted(circular_trips,lambda x,y: y[1]-x[1])"
   ]
  },
  {
   "cell_type": "code",
   "execution_count": 20,
   "metadata": {
    "collapsed": false
   },
   "outputs": [
    {
     "data": {
      "text/plain": [
       "[[], []]"
      ]
     },
     "execution_count": 20,
     "metadata": {},
     "output_type": "execute_result"
    }
   ],
   "source": [
    "lat_lon"
   ]
  },
  {
   "cell_type": "code",
   "execution_count": 29,
   "metadata": {
    "collapsed": false
   },
   "outputs": [],
   "source": [
    "\n",
    "def get_coordenates(stations_list):\n",
    "    \"\"\"in : a list of ((station_name,station_name),int)\n",
    "        out: a 2-column matrix with the lat and long of the stations\n",
    "    \"\"\"\n",
    "    lat_lon=[[],[]]\n",
    "    for trip,frec in circular_trips:\n",
    "        lat=stations.loc[stations.name==trip[0],'lat']\n",
    "        lon=stations.loc[stations.name==trip[0],'long']\n",
    "        lat_lon[0].append(lat)\n",
    "        lat_lon[1].append(lon)\n",
    "    return lat_lon"
   ]
  },
  {
   "cell_type": "code",
   "execution_count": 81,
   "metadata": {
    "collapsed": false,
    "scrolled": false
   },
   "outputs": [
    {
     "data": {
      "text/html": [
       "<iframe id=\"igraph\" scrolling=\"no\" style=\"border:none;\" seamless=\"seamless\" src=\"https://plot.ly/~leocenturion/144.embed\" height=\"800px\" width=\"700px\"></iframe>"
      ],
      "text/plain": [
       "<plotly.tools.PlotlyDisplay object>"
      ]
     },
     "execution_count": 81,
     "metadata": {},
     "output_type": "execute_result"
    }
   ],
   "source": [
    "import plotly.plotly as py\n",
    "from plotly.graph_objs import *\n",
    "mapbox_access_token = 'pk.eyJ1IjoibGVvY2VudHVyaW9uIiwiYSI6ImNqMGxsZnlyMTAwMDIzMm5vbXNidmtyOHEifQ.YqWBUbyhzglm38sJeRFl7A'\n",
    "\n",
    "cities_coordenates=[((37.6158637,-122.192001),9,'San Francisco Bay'),((37.788925,-122.403452),12,'San Francisco'),\n",
    "                    ((37.339301,-121.889937),12,'San Jose') ,((37.487682,-122.223492),12,'Redwood City'),\n",
    "                    ((37.444521,-122.163093),12,'Palo Alto'),((37.389218,-122.081896),12,'Mountain View')]\n",
    "\n",
    "lat_long=get_coordenates(circular_trips)\n",
    "number_of_trips= ['{}'.format(frecuency) for trip,frecuency in circular_trips]\n",
    "data = Data([\n",
    "    Scattermapbox(\n",
    "        lat = lat_long[0],\n",
    "        lon = lat_long[1],\n",
    "        text =['{} \\n {}'.format(trip[0],frecuency) for trip,frecuency in circular_trips],\n",
    "        mode='markers',\n",
    "        marker = dict(\n",
    "            \n",
    "            color = number_of_trips,\n",
    "            colorscale = [[0,\"rgb(150,150,255)\"],[1,\"rgb(0, 0, 255)\"]],\n",
    "            opacity = 1,\n",
    "            size = 9,\n",
    "        )\n",
    "    )\n",
    "])\n",
    "cities=[]\n",
    "for coordenates,zoom,text in cities_coordenates:\n",
    "    city=dict(\n",
    "        args=[ { \n",
    "            'mapbox.center.lat':coordenates[0],\n",
    "            'mapbox.center.lon':coordenates[1],\n",
    "            'mapbox.zoom':zoom,\n",
    "            'annotations[0].text':text\n",
    "        } ],\n",
    "        label=text,\n",
    "        method='relayout'\n",
    "    )\n",
    "    cities.append(city)\n",
    "updatemenus=list([\n",
    "    dict(\n",
    "        buttons = cities,\n",
    "        x=1,\n",
    "        y=1\n",
    "    )\n",
    "])\n",
    "layout = Layout(\n",
    "    autosize=False,\n",
    "    width=700,\n",
    "    height=800,\n",
    "    hovermode='closest',\n",
    "    mapbox=dict(\n",
    "        accesstoken=mapbox_access_token,\n",
    "        bearing=0,\n",
    "        center=dict(\n",
    "            lat=37.6158637,\n",
    "            lon=-122.192001\n",
    "\n",
    "        ),\n",
    "        pitch=0,\n",
    "        zoom=9\n",
    "        ),\n",
    "    )\n",
    "layout['updatemenus'] = updatemenus\n",
    "fig = { 'data':data, 'layout':layout }\n",
    "py.iplot(fig)"
   ]
  },
  {
   "cell_type": "code",
   "execution_count": 76,
   "metadata": {
    "collapsed": false
   },
   "outputs": [
    {
     "data": {
      "text/html": [
       "<div>\n",
       "<table border=\"1\" class=\"dataframe\">\n",
       "  <thead>\n",
       "    <tr style=\"text-align: right;\">\n",
       "      <th></th>\n",
       "      <th>id</th>\n",
       "      <th>name</th>\n",
       "      <th>lat</th>\n",
       "      <th>long</th>\n",
       "      <th>dock_count</th>\n",
       "      <th>city</th>\n",
       "      <th>installation_date</th>\n",
       "    </tr>\n",
       "  </thead>\n",
       "  <tbody>\n",
       "    <tr>\n",
       "      <th>20</th>\n",
       "      <td>27</td>\n",
       "      <td>Mountain View City Hall</td>\n",
       "      <td>37.389218</td>\n",
       "      <td>-122.081896</td>\n",
       "      <td>15</td>\n",
       "      <td>Mountain View</td>\n",
       "      <td>8/16/2013</td>\n",
       "    </tr>\n",
       "  </tbody>\n",
       "</table>\n",
       "</div>"
      ],
      "text/plain": [
       "    id                     name        lat        long  dock_count  \\\n",
       "20  27  Mountain View City Hall  37.389218 -122.081896          15   \n",
       "\n",
       "             city installation_date  \n",
       "20  Mountain View         8/16/2013  "
      ]
     },
     "execution_count": 76,
     "metadata": {},
     "output_type": "execute_result"
    }
   ],
   "source": [
    "stations[stations.name==\"Mountain View City Hall\"]"
   ]
  },
  {
   "cell_type": "code",
   "execution_count": null,
   "metadata": {
    "collapsed": true
   },
   "outputs": [],
   "source": []
  }
 ],
 "metadata": {
  "kernelspec": {
   "display_name": "Python 2",
   "language": "python",
   "name": "python2"
  },
  "language_info": {
   "codemirror_mode": {
    "name": "ipython",
    "version": 2
   },
   "file_extension": ".py",
   "mimetype": "text/x-python",
   "name": "python",
   "nbconvert_exporter": "python",
   "pygments_lexer": "ipython2",
   "version": "2.7.13"
  }
 },
 "nbformat": 4,
 "nbformat_minor": 2
}
