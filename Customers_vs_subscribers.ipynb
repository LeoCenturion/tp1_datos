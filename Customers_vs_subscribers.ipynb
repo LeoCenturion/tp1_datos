{
 "cells": [
  {
   "cell_type": "code",
   "execution_count": 30,
   "metadata": {
    "collapsed": true
   },
   "outputs": [],
   "source": [
    "import numpy as np\n",
    "import matplotlib.pyplot as plot\n",
    "import pandas as pd"
   ]
  },
  {
   "cell_type": "code",
   "execution_count": 22,
   "metadata": {
    "collapsed": false
   },
   "outputs": [],
   "source": [
    "trips_all=pd.read_csv(\"trip.csv\")\n",
    "trips=trips_all.loc[trips_all.start_date.str.contains('8/'+'\\S'+'/2014')]"
   ]
  },
  {
   "cell_type": "code",
   "execution_count": 23,
   "metadata": {
    "collapsed": true
   },
   "outputs": [],
   "source": [
    "# Total de viajes\n",
    "viajes_total=trips['id'].count()\n",
    "\n"
   ]
  },
  {
   "cell_type": "code",
   "execution_count": 25,
   "metadata": {
    "collapsed": false
   },
   "outputs": [
    {
     "data": {
      "text/plain": [
       "array(['Subscriber', 'Customer'], dtype=object)"
      ]
     },
     "execution_count": 25,
     "metadata": {},
     "output_type": "execute_result"
    }
   ],
   "source": [
    "#tipos de viajantes\n",
    "trips['subscription_type'].unique()"
   ]
  },
  {
   "cell_type": "code",
   "execution_count": 26,
   "metadata": {
    "collapsed": true
   },
   "outputs": [],
   "source": [
    "viajes_subscribers=trips[trips['subscription_type']=='Subscriber']['id'].count()\n",
    "viajes_customers=trips[trips['subscription_type']=='Customer']['id'].count()\n"
   ]
  },
  {
   "cell_type": "code",
   "execution_count": 27,
   "metadata": {
    "collapsed": true
   },
   "outputs": [],
   "source": [
    "subscribers_percentage= viajes_subscribers.astype(float)/viajes_total.astype(float)\n",
    "customers_percentage= viajes_customers.astype(float)/viajes_total.astype(float) "
   ]
  },
  {
   "cell_type": "code",
   "execution_count": 32,
   "metadata": {
    "collapsed": false,
    "scrolled": true
   },
   "outputs": [
    {
     "data": {
      "image/png": "[encoded data removed]",
      "text/plain": [
       "<matplotlib.figure.Figure at 0x7fb4e2a76350>"
      ]
     },
     "metadata": {},
     "output_type": "display_data"
    }
   ],
   "source": [
    "%matplotlib inline\n",
    "plot.figure()\n",
    "users=['total','subscribers','customers']\n",
    "cantidad=[viajes_total,viajes_subscribers,viajes_customers]\n",
    "pos = np.arange(len(users))\n",
    "\n",
    "bars=plot.bar(pos,cantidad)\n",
    "plot.xticks(pos,users)\n",
    "plot.ylabel('viajes realizados')\n",
    "\n",
    "plot.tick_params(top='off', bottom='off', left='off', right='off', labelleft='off', labelbottom='on')\n",
    "\n",
    "for spine in plot.gca().spines.values():\n",
    "    spine.set_visible(False)\n",
    "\n",
    "# make one bar a contrasting color\n",
    "\n",
    "bars[0].set_color('#1F77B4')\n",
    "bars[1].set_color('#9AA0A6')\n",
    "bars[2].set_color('#9AA0A6')\n",
    "\n",
    "# soften all labels by turning grey\n",
    "plot.xticks(pos, users, alpha=0.8)\n",
    "    \n",
    "# direct label each bar with Y axis values\n",
    "for bar in bars:\n",
    "    plot.gca().text(bar.get_x() + bar.get_width()/2, bar.get_height() - bar.get_height()*0.40 , str(int(bar.get_height())) ,ha='center', color='w', fontsize=11,zorder=20)\n",
    "    \n",
    "plot.show()\n",
    "\n",
    "\n"
   ]
  },
  {
   "cell_type": "code",
   "execution_count": 34,
   "metadata": {
    "collapsed": true
   },
   "outputs": [],
   "source": [
    "duracion_promedio=trips['duration'].mean()\n",
    "duracion_promedio_subs=trips[trips['subscription_type']=='Subscriber']['duration'].mean()        \n",
    "duracion_promedio_cust=trips[trips['subscription_type']=='Customer']['duration'].mean()   "
   ]
  },
  {
   "cell_type": "code",
   "execution_count": 36,
   "metadata": {
    "collapsed": false
   },
   "outputs": [
    {
     "data": {
      "image/png": "[encoded data removed]",
      "text/plain": [
       "<matplotlib.figure.Figure at 0x7fb4d9f8c510>"
      ]
     },
     "metadata": {},
     "output_type": "display_data"
    }
   ],
   "source": [
    "%matplotlib inline\n",
    "plot.figure()\n",
    "\n",
    "users=['total','subscribers','customers']\n",
    "\n",
    "duracion=[duracion_promedio/60,duracion_promedio_subs/60,duracion_promedio_cust/60 ]\n",
    "pos = np.arange(len(users))\n",
    "\n",
    "bars=plot.bar(pos,duracion)\n",
    "plot.xticks(pos,users)\n",
    "plot.title('duracion promedio (min)')\n",
    "\n",
    "plot.tick_params(top='off', bottom='off', left='off', right='off', labelleft='off', labelbottom='on')\n",
    "\n",
    "for spine in plot.gca().spines.values():\n",
    "    spine.set_visible(False)\n",
    "\n",
    "# make one bar a contrasting color\n",
    "\n",
    "bars[0].set_color('#1F77B4')\n",
    "bars[1].set_color('#9AA0A6')\n",
    "bars[2].set_color('#9AA0A6')\n",
    "\n",
    "# soften all labels by turning grey\n",
    "plot.xticks(pos, users, alpha=0.8)\n",
    "    \n",
    "# direct label each bar with Y axis values\n",
    "for bar in bars:\n",
    "    plot.gca().text(bar.get_x() + bar.get_width()/2, bar.get_height() - bar.get_height()*0.40 , str(int(bar.get_height())) ,ha='center', color='w', fontsize=11,zorder=20)\n"
   ]
  },
  {
   "cell_type": "code",
   "execution_count": null,
   "metadata": {
    "collapsed": true
   },
   "outputs": [],
   "source": []
  }
 ],
 "metadata": {
  "kernelspec": {
   "display_name": "Python 2",
   "language": "python",
   "name": "python2"
  },
  "language_info": {
   "codemirror_mode": {
    "name": "ipython",
    "version": 2
   },
   "file_extension": ".py",
   "mimetype": "text/x-python",
   "name": "python",
   "nbconvert_exporter": "python",
   "pygments_lexer": "ipython2",
   "version": "2.7.13"
  }
 },
 "nbformat": 4,
 "nbformat_minor": 2
}
