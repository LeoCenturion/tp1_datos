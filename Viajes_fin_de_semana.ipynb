{
 "cells": [
  {
   "cell_type": "code",
   "execution_count": 4,
   "metadata": {
    "collapsed": true,
    "deletable": true,
    "editable": true
   },
   "outputs": [],
   "source": [
    "import numpy as np\n",
    "import matplotlib.pyplot as plot\n",
    "import pandas as pd\n",
    "import datetime as dt"
   ]
  },
  {
   "cell_type": "code",
   "execution_count": 5,
   "metadata": {
    "collapsed": false,
    "deletable": true,
    "editable": true
   },
   "outputs": [
    {
     "data": {
      "text/html": [
       "<div>\n",
       "<table border=\"1\" class=\"dataframe\">\n",
       "  <thead>\n",
       "    <tr style=\"text-align: right;\">\n",
       "      <th></th>\n",
       "      <th>id</th>\n",
       "      <th>duration</th>\n",
       "      <th>start_date</th>\n",
       "      <th>start_station_name</th>\n",
       "      <th>start_station_id</th>\n",
       "      <th>end_date</th>\n",
       "      <th>end_station_name</th>\n",
       "      <th>end_station_id</th>\n",
       "      <th>bike_id</th>\n",
       "      <th>subscription_type</th>\n",
       "      <th>zip_code</th>\n",
       "    </tr>\n",
       "  </thead>\n",
       "  <tbody>\n",
       "    <tr>\n",
       "      <th>283460</th>\n",
       "      <td>243090</td>\n",
       "      <td>186</td>\n",
       "      <td>4/9/2014 23:33</td>\n",
       "      <td>Commercial at Montgomery</td>\n",
       "      <td>45</td>\n",
       "      <td>4/9/2014 23:36</td>\n",
       "      <td>Market at Sansome</td>\n",
       "      <td>77</td>\n",
       "      <td>397</td>\n",
       "      <td>Subscriber</td>\n",
       "      <td>94112</td>\n",
       "    </tr>\n",
       "    <tr>\n",
       "      <th>283461</th>\n",
       "      <td>243089</td>\n",
       "      <td>184</td>\n",
       "      <td>4/9/2014 23:32</td>\n",
       "      <td>Redwood City Caltrain Station</td>\n",
       "      <td>22</td>\n",
       "      <td>4/9/2014 23:35</td>\n",
       "      <td>Mezes Park</td>\n",
       "      <td>83</td>\n",
       "      <td>216</td>\n",
       "      <td>Subscriber</td>\n",
       "      <td>94063</td>\n",
       "    </tr>\n",
       "    <tr>\n",
       "      <th>283462</th>\n",
       "      <td>243088</td>\n",
       "      <td>765</td>\n",
       "      <td>4/9/2014 23:31</td>\n",
       "      <td>Embarcadero at Sansome</td>\n",
       "      <td>60</td>\n",
       "      <td>4/9/2014 23:43</td>\n",
       "      <td>Market at 4th</td>\n",
       "      <td>76</td>\n",
       "      <td>267</td>\n",
       "      <td>Subscriber</td>\n",
       "      <td>94108</td>\n",
       "    </tr>\n",
       "    <tr>\n",
       "      <th>283463</th>\n",
       "      <td>243087</td>\n",
       "      <td>1006</td>\n",
       "      <td>4/9/2014 23:29</td>\n",
       "      <td>San Francisco Caltrain (Townsend at 4th)</td>\n",
       "      <td>70</td>\n",
       "      <td>4/9/2014 23:46</td>\n",
       "      <td>San Francisco Caltrain (Townsend at 4th)</td>\n",
       "      <td>70</td>\n",
       "      <td>512</td>\n",
       "      <td>Customer</td>\n",
       "      <td>94127</td>\n",
       "    </tr>\n",
       "    <tr>\n",
       "      <th>283464</th>\n",
       "      <td>243086</td>\n",
       "      <td>328</td>\n",
       "      <td>4/9/2014 23:21</td>\n",
       "      <td>Steuart at Market</td>\n",
       "      <td>74</td>\n",
       "      <td>4/9/2014 23:26</td>\n",
       "      <td>Davis at Jackson</td>\n",
       "      <td>42</td>\n",
       "      <td>620</td>\n",
       "      <td>Subscriber</td>\n",
       "      <td>94111</td>\n",
       "    </tr>\n",
       "  </tbody>\n",
       "</table>\n",
       "</div>"
      ],
      "text/plain": [
       "            id  duration      start_date  \\\n",
       "283460  243090       186  4/9/2014 23:33   \n",
       "283461  243089       184  4/9/2014 23:32   \n",
       "283462  243088       765  4/9/2014 23:31   \n",
       "283463  243087      1006  4/9/2014 23:29   \n",
       "283464  243086       328  4/9/2014 23:21   \n",
       "\n",
       "                              start_station_name  start_station_id  \\\n",
       "283460                  Commercial at Montgomery                45   \n",
       "283461             Redwood City Caltrain Station                22   \n",
       "283462                    Embarcadero at Sansome                60   \n",
       "283463  San Francisco Caltrain (Townsend at 4th)                70   \n",
       "283464                         Steuart at Market                74   \n",
       "\n",
       "              end_date                          end_station_name  \\\n",
       "283460  4/9/2014 23:36                         Market at Sansome   \n",
       "283461  4/9/2014 23:35                                Mezes Park   \n",
       "283462  4/9/2014 23:43                             Market at 4th   \n",
       "283463  4/9/2014 23:46  San Francisco Caltrain (Townsend at 4th)   \n",
       "283464  4/9/2014 23:26                          Davis at Jackson   \n",
       "\n",
       "        end_station_id  bike_id subscription_type zip_code  \n",
       "283460              77      397        Subscriber    94112  \n",
       "283461              83      216        Subscriber    94063  \n",
       "283462              76      267        Subscriber    94108  \n",
       "283463              70      512          Customer    94127  \n",
       "283464              42      620        Subscriber    94111  "
      ]
     },
     "execution_count": 5,
     "metadata": {},
     "output_type": "execute_result"
    }
   ],
   "source": [
    "trips_all=pd.read_csv(\"trip.csv\")\n",
    "trips=trips_all.loc[trips_all.start_date.str.contains('4/'+'\\S'+'/2014')]\n",
    "trips.head()"
   ]
  },
  {
   "cell_type": "code",
   "execution_count": 6,
   "metadata": {
    "collapsed": false,
    "deletable": true,
    "editable": true
   },
   "outputs": [
    {
     "name": "stderr",
     "output_type": "stream",
     "text": [
      "/usr/local/lib/python2.7/dist-packages/ipykernel/__main__.py:1: SettingWithCopyWarning: \n",
      "A value is trying to be set on a copy of a slice from a DataFrame.\n",
      "Try using .loc[row_indexer,col_indexer] = value instead\n",
      "\n",
      "See the caveats in the documentation: http://pandas.pydata.org/pandas-docs/stable/indexing.html#indexing-view-versus-copy\n",
      "  if __name__ == '__main__':\n",
      "/usr/local/lib/python2.7/dist-packages/ipykernel/__main__.py:2: SettingWithCopyWarning: \n",
      "A value is trying to be set on a copy of a slice from a DataFrame.\n",
      "Try using .loc[row_indexer,col_indexer] = value instead\n",
      "\n",
      "See the caveats in the documentation: http://pandas.pydata.org/pandas-docs/stable/indexing.html#indexing-view-versus-copy\n",
      "  from ipykernel import kernelapp as app\n",
      "/usr/local/lib/python2.7/dist-packages/ipykernel/__main__.py:3: SettingWithCopyWarning: \n",
      "A value is trying to be set on a copy of a slice from a DataFrame.\n",
      "Try using .loc[row_indexer,col_indexer] = value instead\n",
      "\n",
      "See the caveats in the documentation: http://pandas.pydata.org/pandas-docs/stable/indexing.html#indexing-view-versus-copy\n",
      "  app.launch_new_instance()\n"
     ]
    },
    {
     "data": {
      "text/html": [
       "<div>\n",
       "<table border=\"1\" class=\"dataframe\">\n",
       "  <thead>\n",
       "    <tr style=\"text-align: right;\">\n",
       "      <th></th>\n",
       "      <th>id</th>\n",
       "      <th>duration</th>\n",
       "      <th>start_date</th>\n",
       "      <th>start_station_name</th>\n",
       "      <th>start_station_id</th>\n",
       "      <th>end_date</th>\n",
       "      <th>end_station_name</th>\n",
       "      <th>end_station_id</th>\n",
       "      <th>bike_id</th>\n",
       "      <th>subscription_type</th>\n",
       "      <th>zip_code</th>\n",
       "      <th>dayofweek</th>\n",
       "      <th>numero_mes</th>\n",
       "    </tr>\n",
       "  </thead>\n",
       "  <tbody>\n",
       "    <tr>\n",
       "      <th>283460</th>\n",
       "      <td>243090</td>\n",
       "      <td>186</td>\n",
       "      <td>2014-04-09 23:33:00</td>\n",
       "      <td>Commercial at Montgomery</td>\n",
       "      <td>45</td>\n",
       "      <td>4/9/2014 23:36</td>\n",
       "      <td>Market at Sansome</td>\n",
       "      <td>77</td>\n",
       "      <td>397</td>\n",
       "      <td>Subscriber</td>\n",
       "      <td>94112</td>\n",
       "      <td>2</td>\n",
       "      <td>4</td>\n",
       "    </tr>\n",
       "    <tr>\n",
       "      <th>283461</th>\n",
       "      <td>243089</td>\n",
       "      <td>184</td>\n",
       "      <td>2014-04-09 23:32:00</td>\n",
       "      <td>Redwood City Caltrain Station</td>\n",
       "      <td>22</td>\n",
       "      <td>4/9/2014 23:35</td>\n",
       "      <td>Mezes Park</td>\n",
       "      <td>83</td>\n",
       "      <td>216</td>\n",
       "      <td>Subscriber</td>\n",
       "      <td>94063</td>\n",
       "      <td>2</td>\n",
       "      <td>4</td>\n",
       "    </tr>\n",
       "    <tr>\n",
       "      <th>283462</th>\n",
       "      <td>243088</td>\n",
       "      <td>765</td>\n",
       "      <td>2014-04-09 23:31:00</td>\n",
       "      <td>Embarcadero at Sansome</td>\n",
       "      <td>60</td>\n",
       "      <td>4/9/2014 23:43</td>\n",
       "      <td>Market at 4th</td>\n",
       "      <td>76</td>\n",
       "      <td>267</td>\n",
       "      <td>Subscriber</td>\n",
       "      <td>94108</td>\n",
       "      <td>2</td>\n",
       "      <td>4</td>\n",
       "    </tr>\n",
       "    <tr>\n",
       "      <th>283463</th>\n",
       "      <td>243087</td>\n",
       "      <td>1006</td>\n",
       "      <td>2014-04-09 23:29:00</td>\n",
       "      <td>San Francisco Caltrain (Townsend at 4th)</td>\n",
       "      <td>70</td>\n",
       "      <td>4/9/2014 23:46</td>\n",
       "      <td>San Francisco Caltrain (Townsend at 4th)</td>\n",
       "      <td>70</td>\n",
       "      <td>512</td>\n",
       "      <td>Customer</td>\n",
       "      <td>94127</td>\n",
       "      <td>2</td>\n",
       "      <td>4</td>\n",
       "    </tr>\n",
       "    <tr>\n",
       "      <th>283464</th>\n",
       "      <td>243086</td>\n",
       "      <td>328</td>\n",
       "      <td>2014-04-09 23:21:00</td>\n",
       "      <td>Steuart at Market</td>\n",
       "      <td>74</td>\n",
       "      <td>4/9/2014 23:26</td>\n",
       "      <td>Davis at Jackson</td>\n",
       "      <td>42</td>\n",
       "      <td>620</td>\n",
       "      <td>Subscriber</td>\n",
       "      <td>94111</td>\n",
       "      <td>2</td>\n",
       "      <td>4</td>\n",
       "    </tr>\n",
       "  </tbody>\n",
       "</table>\n",
       "</div>"
      ],
      "text/plain": [
       "            id  duration          start_date  \\\n",
       "283460  243090       186 2014-04-09 23:33:00   \n",
       "283461  243089       184 2014-04-09 23:32:00   \n",
       "283462  243088       765 2014-04-09 23:31:00   \n",
       "283463  243087      1006 2014-04-09 23:29:00   \n",
       "283464  243086       328 2014-04-09 23:21:00   \n",
       "\n",
       "                              start_station_name  start_station_id  \\\n",
       "283460                  Commercial at Montgomery                45   \n",
       "283461             Redwood City Caltrain Station                22   \n",
       "283462                    Embarcadero at Sansome                60   \n",
       "283463  San Francisco Caltrain (Townsend at 4th)                70   \n",
       "283464                         Steuart at Market                74   \n",
       "\n",
       "              end_date                          end_station_name  \\\n",
       "283460  4/9/2014 23:36                         Market at Sansome   \n",
       "283461  4/9/2014 23:35                                Mezes Park   \n",
       "283462  4/9/2014 23:43                             Market at 4th   \n",
       "283463  4/9/2014 23:46  San Francisco Caltrain (Townsend at 4th)   \n",
       "283464  4/9/2014 23:26                          Davis at Jackson   \n",
       "\n",
       "        end_station_id  bike_id subscription_type zip_code  dayofweek  \\\n",
       "283460              77      397        Subscriber    94112          2   \n",
       "283461              83      216        Subscriber    94063          2   \n",
       "283462              76      267        Subscriber    94108          2   \n",
       "283463              70      512          Customer    94127          2   \n",
       "283464              42      620        Subscriber    94111          2   \n",
       "\n",
       "        numero_mes  \n",
       "283460           4  \n",
       "283461           4  \n",
       "283462           4  \n",
       "283463           4  \n",
       "283464           4  "
      ]
     },
     "execution_count": 6,
     "metadata": {},
     "output_type": "execute_result"
    }
   ],
   "source": [
    "trips['start_date'] = pd.to_datetime((trips['start_date']))\n",
    "trips['dayofweek'] = trips.start_date.dt.dayofweek #nro 5 es sabado, 6 es domingo\n",
    "trips['numero_mes'] = trips.start_date.dt.month\n",
    "trips.head()"
   ]
  },
  {
   "cell_type": "code",
   "execution_count": 7,
   "metadata": {
    "collapsed": false,
    "deletable": true,
    "editable": true
   },
   "outputs": [],
   "source": [
    "trips_weekend = trips[(trips['dayofweek']==5) | (trips['dayofweek']==6)]\n",
    "#trips_weekend_6 = trips[(trips['dayofweek']==6)]\n",
    "#trips_weekend = pd.concat([trips_weekend_5, trips_weekend_6], axis=0)"
   ]
  },
  {
   "cell_type": "code",
   "execution_count": 8,
   "metadata": {
    "collapsed": false,
    "deletable": true,
    "editable": true
   },
   "outputs": [],
   "source": [
    "viajes_total=trips_weekend['id'].count()\n",
    "viajes_subscribers=trips_weekend[trips_weekend['subscription_type']=='Subscriber']['id'].count()\n",
    "viajes_customers=trips_weekend[trips_weekend['subscription_type']=='Customer']['id'].count()"
   ]
  },
  {
   "cell_type": "code",
   "execution_count": 126,
   "metadata": {
    "collapsed": false,
    "deletable": true,
    "editable": true
   },
   "outputs": [
    {
     "data": {
      "image/png": "[encoded data removed]",
      "text/plain": [
       "<matplotlib.figure.Figure at 0x7fd37b5811d0>"
      ]
     },
     "metadata": {},
     "output_type": "display_data"
    }
   ],
   "source": [
    "%matplotlib inline\n",
    "plot.figure()\n",
    "users=['total','subscribers','customers']\n",
    "cantidad=[viajes_total,viajes_subscribers,viajes_customers]\n",
    "pos = np.arange(len(users))\n",
    "\n",
    "bars=plot.bar(pos,cantidad)\n",
    "plot.xticks(pos,users)\n",
    "plot.ylabel('viajes realizados')\n",
    "\n",
    "plot.tick_params(top='off', bottom='off', left='off', right='off', labelleft='off', labelbottom='on')\n",
    "\n",
    "for spine in plot.gca().spines.values():\n",
    "    spine.set_visible(False)\n",
    "\n",
    "# make one bar a contrasting color\n",
    "\n",
    "bars[0].set_color('#1F77B4')\n",
    "bars[1].set_color('#9AA0A6')\n",
    "bars[2].set_color('#9AA0A6')\n",
    "\n",
    "# soften all labels by turning grey\n",
    "plot.xticks(pos, users, alpha=0.8)\n",
    "    \n",
    "# direct label each bar with Y axis values\n",
    "for bar in bars:\n",
    "    plot.gca().text(bar.get_x() + bar.get_width()/2, bar.get_height() - bar.get_height()*0.40 , str(int(bar.get_height())) ,ha='center', color='w', fontsize=11,zorder=20)\n",
    "    \n",
    "plot.show()"
   ]
  },
  {
   "cell_type": "code",
   "execution_count": 32,
   "metadata": {
    "collapsed": false,
    "deletable": true,
    "editable": true
   },
   "outputs": [],
   "source": [
    "#Ahora porcentaje total del archivo:\n",
    "trips_all['start_date'] = pd.to_datetime((trips_all['start_date']))\n",
    "trips_all['dayofweek'] = trips_all.start_date.dt.dayofweek\n",
    "trips_all['numero_mes'] = trips_all.start_date.dt.month\n",
    "trips_all = trips_all[(trips_all['dayofweek']==5) | (trips_all['dayofweek']==6)]\n",
    "\n",
    "trips_S = trips_all[(trips_all['subscription_type']=='Subscriber')]\n",
    "trips_C = trips_all[(trips_all['subscription_type']=='Customer')]\n",
    "\n",
    "#viajes_total_S=trips_S[trips_S['numero_mes']==1]['id'].count()\n",
    "#viajes_total_C=trips_C[trips_C['numero_mes']==1]['id'].count()\n",
    "#viajes_total_S, viajes_total_C\n",
    "#hay que unir los que tienen cada mes\n",
    "#hay que hacer una lista? o hay forma de juntarlos? creo que hay que hacer calve-valor\n",
    "\n",
    "#Grafico con puntitos, de bicicletas usadas por S y C en fin de semana. Puede ser por hora o solo por mes directo\n",
    "cantidad_viajes_S=trips_S[['numero_mes','id']].groupby('numero_mes').count()\n",
    "cantidad_viajes_C=trips_C[['numero_mes','id']].groupby('numero_mes').count()\n",
    "cantidad_viajes_totales = trips_all[['numero_mes','id']].groupby('numero_mes').count()\n",
    "\n",
    "\n",
    "#viajes_total=trips_weekend['id'].count()\n",
    "#viajes_subscribers=trips_weekend[trips_weekend['subscription_type']=='Subscriber']['id'].count()\n",
    "#viajes_customers=trips_weekend[trips_weekend['subscription_type']=='Customer']['id'].count()\n",
    "\n",
    "#porcentaje_subscribers = viajes_subscribers*100/viajes_total\n",
    "#porcentaje_customers = viajes_customers*100/viajes_total\n",
    "#print 'Porcentaje suscriptores: ',porcentaje_subscribers,'\\nPorcentaje no suscriptores: ', porcentaje_customers\n"
   ]
  },
  {
   "cell_type": "code",
   "execution_count": 33,
   "metadata": {
    "collapsed": false,
    "deletable": true,
    "editable": true
   },
   "outputs": [
    {
     "data": {
      "text/plain": [
       "<matplotlib.collections.PathCollection at 0x7fd3824b8390>"
      ]
     },
     "execution_count": 33,
     "metadata": {},
     "output_type": "execute_result"
    },
    {
     "data": {
      "image/png": "[encoded data removed]",
      "text/plain": [
       "<matplotlib.figure.Figure at 0x7fd37e79b210>"
      ]
     },
     "metadata": {},
     "output_type": "display_data"
    }
   ],
   "source": [
    "plot.scatter(cantidad_viajes_S.index, cantidad_viajes_S.loc[:,'id'])\n",
    "#plot.scatter(meses,cantidad_viajes_en_mes )"
   ]
  },
  {
   "cell_type": "code",
   "execution_count": 34,
   "metadata": {
    "collapsed": false,
    "deletable": true,
    "editable": true
   },
   "outputs": [
    {
     "data": {
      "text/plain": [
       "Int64Index([1, 2, 3, 4, 5, 6, 7, 8, 9, 10, 11, 12], dtype='int64', name=u'numero_mes')"
      ]
     },
     "execution_count": 34,
     "metadata": {},
     "output_type": "execute_result"
    },
    {
     "data": {
      "image/png": "[encoded data removed]",
      "text/plain": [
       "<matplotlib.figure.Figure at 0x7fd37e1d45d0>"
      ]
     },
     "metadata": {},
     "output_type": "display_data"
    }
   ],
   "source": [
    "plot.scatter(cantidad_viajes_C.index, cantidad_viajes_C.loc[:,'id'])\n",
    "cantidad_viajes_C.index"
   ]
  },
  {
   "cell_type": "code",
   "execution_count": null,
   "metadata": {
    "collapsed": false,
    "deletable": true,
    "editable": true
   },
   "outputs": [],
   "source": []
  },
  {
   "cell_type": "code",
   "execution_count": 35,
   "metadata": {
    "collapsed": false,
    "deletable": true,
    "editable": true
   },
   "outputs": [
    {
     "data": {
      "image/png": "[encoded data removed]",
      "text/plain": [
       "<matplotlib.figure.Figure at 0x7fd37e789e10>"
      ]
     },
     "metadata": {},
     "output_type": "display_data"
    }
   ],
   "source": [
    "X = np.arange(len(cantidad_viajes_C.index))\n",
    "Y1 = cantidad_viajes_C.loc[:,'id']\n",
    "Y2 = cantidad_viajes_S.loc[:,'id']\n",
    "\n",
    "plot.axes([0.025, 0.025, 1.5, 1.5])\n",
    "plot.bar(X, Y1, facecolor='#9999ff', edgecolor='white', align=\"center\", alpha=.5) #no subscriptos\n",
    "plot.bar(X, -Y2, facecolor='#ff9999', edgecolor='white', align=\"center\", alpha=.5) #subscriptos\n",
    "\n",
    "for x, y in zip(X, Y1):\n",
    "    plot.text(x + 0.4, y + 0.05, '%.2f' % y, ha='right', va= 'bottom')\n",
    "\n",
    "for x, y in zip(X, Y2):\n",
    "    plot.text(x + 0.4, -y - 0.05, '%.2f' % y, ha='right', va= 'top')\n",
    "\n",
    "\n",
    "plot.xlim(-.5,len(cantidad_viajes_C.index)-0.5)\n",
    "plot.xticks(X, cantidad_viajes_C.index)\n",
    "\n",
    "plot.ylim(-5500, 7000) #solo para que quede lindo, igual deberia ser segun los valores blabla..\n",
    "plot.yticks(())\n",
    "\n",
    "plot.show()"
   ]
  },
  {
   "cell_type": "code",
   "execution_count": 133,
   "metadata": {
    "collapsed": false,
    "deletable": true,
    "editable": true
   },
   "outputs": [
    {
     "data": {
      "image/png": "[encoded data removed]",
      "text/plain": [
       "<matplotlib.figure.Figure at 0x7fd37b5ad610>"
      ]
     },
     "metadata": {},
     "output_type": "display_data"
    }
   ],
   "source": [
    "from numpy import ma\n",
    "\n",
    "X = np.arange(len(cantidad_viajes_C.index))\n",
    "Y1 = cantidad_viajes_C.loc[:,'id']\n",
    "Y2 = cantidad_viajes_S.loc[:,'id']\n",
    "Y3 = cantidad_viajes_totales.loc[:,'id']\n",
    "\n",
    "plot.axes([0.025, 0.025, 1, 1])\n",
    "#plot.bar(X + 0.25, Y3, width = 0.5, align=\"center\")\n",
    "plot.bar(X - 0.12, Y1, facecolor='#9999ff', edgecolor='white',  alpha=.5, width = 0.25, align=\"center\", label=\"Customers\") #no subscriptos, azul #alpha es la opacidad\n",
    "plot.bar(X + 0.00, Y2, facecolor='#ff9999', edgecolor='white',  alpha=.5, width = 0.25, label=\"Subscriber\") #subscriptos, rojo\n",
    "\n",
    "\n",
    "#for x, y in zip(X, Y1):\n",
    "#    plot.text(x + 0.4, y + 0.05, '%.2f' % y, ha='right', va= 'bottom')\n",
    "\n",
    "#for x, y in zip(X, Y2):\n",
    "#    plot.text(x + 0.4, y + 0.05, '%.2f' % y, ha='right', va= 'top')\n",
    "\n",
    "plot.xlim(-.5,len(cantidad_viajes_C.index)-0.5)\n",
    "plot.xticks(X, cantidad_viajes_C.index, fontsize = 13)\n",
    "plot.xlabel('Numero de mes', fontsize = 15)\n",
    "\n",
    "plot.ylim(0, 5400) #solo para que quede lindo, igual deberia ser segun los valores blabla..\n",
    "plot.yticks(())\n",
    "plot.ylabel('Cantidad de viajes', fontsize = 15)\n",
    "\n",
    "plot.title('Cantidad de viajes en fin de semana\\n', fontsize = 18)\n",
    "\n",
    "plot.legend(loc=\"upper left\")\n",
    "plot.show()"
   ]
  },
  {
   "cell_type": "code",
   "execution_count": null,
   "metadata": {
    "collapsed": true
   },
   "outputs": [],
   "source": []
  }
 ],
 "metadata": {
  "kernelspec": {
   "display_name": "Python 2",
   "language": "python",
   "name": "python2"
  },
  "language_info": {
   "codemirror_mode": {
    "name": "ipython",
    "version": 2
   },
   "file_extension": ".py",
   "mimetype": "text/x-python",
   "name": "python",
   "nbconvert_exporter": "python",
   "pygments_lexer": "ipython2",
   "version": "2.7.6"
  }
 },
 "nbformat": 4,
 "nbformat_minor": 2
}
