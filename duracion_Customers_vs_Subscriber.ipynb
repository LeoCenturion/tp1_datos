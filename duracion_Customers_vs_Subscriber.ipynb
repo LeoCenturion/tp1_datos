{
 "cells": [
  {
   "cell_type": "code",
   "execution_count": 6,
   "metadata": {
    "collapsed": true
   },
   "outputs": [],
   "source": [
    "import numpy as np\n",
    "import matplotlib.pyplot as plot\n",
    "import pandas as pd"
   ]
  },
  {
   "cell_type": "code",
   "execution_count": 7,
   "metadata": {
    "collapsed": true
   },
   "outputs": [],
   "source": [
    "trips_all=pd.read_csv(\"trip.csv\")\n",
    "trips=trips_all.loc[trips_all.start_date.str.contains('4/'+'\\S'+'/2014')]"
   ]
  },
  {
   "cell_type": "code",
   "execution_count": 59,
   "metadata": {
    "collapsed": true
   },
   "outputs": [],
   "source": [
    "trips_S = trips[trips['subscription_type']=='Subscriber']\n",
    "trips_C = trips[trips['subscription_type']=='Customer']"
   ]
  },
  {
   "cell_type": "code",
   "execution_count": 30,
   "metadata": {
    "collapsed": false
   },
   "outputs": [],
   "source": [
    "cantidad_viajes_S=trips_S[['duration','id']].groupby('duration').count()\n",
    "cantidad_viajes_C=trips_C[['duration','id']].groupby('duration').count()\n",
    "cantidad_viajes_totales = trips_all[['duration','id']].groupby('duration').count()"
   ]
  },
  {
   "cell_type": "code",
   "execution_count": 32,
   "metadata": {
    "collapsed": true
   },
   "outputs": [],
   "source": [
    "cantidad_viajes_S1=trips_S[['duration','id']].groupby('duration')\n",
    "cantidad_viajes_C1=trips_C[['duration','id']].groupby('duration')\n",
    "cantidad_viajes_totales1 = trips_all[['duration','id']].groupby('duration')"
   ]
  },
  {
   "cell_type": "code",
   "execution_count": 88,
   "metadata": {
    "collapsed": false
   },
   "outputs": [
    {
     "data": {
      "text/plain": [
       "644771"
      ]
     },
     "execution_count": 88,
     "metadata": {},
     "output_type": "execute_result"
    }
   ],
   "source": [
    "trips_S['duration'].max()\n",
    "trips_C['duration'].max()"
   ]
  },
  {
   "cell_type": "code",
   "execution_count": 106,
   "metadata": {
    "collapsed": false
   },
   "outputs": [
    {
     "data": {
      "text/plain": [
       "3224"
      ]
     },
     "execution_count": 106,
     "metadata": {},
     "output_type": "execute_result"
    }
   ],
   "source": [
    "trips_S2 = trips_S.groupby(pd.cut(trips_S.duration, range(0,trips_C['duration'].max()+200, 200))).size() #agrupa cada 200 seg, o sea 3.33 minutos\n",
    "#trips_S2 es una Serie\n",
    "cantidad_S2 = trips_S2.count()\n",
    "cantidad_S2"
   ]
  },
  {
   "cell_type": "code",
   "execution_count": 107,
   "metadata": {
    "collapsed": false
   },
   "outputs": [
    {
     "data": {
      "text/plain": [
       "3224"
      ]
     },
     "execution_count": 107,
     "metadata": {},
     "output_type": "execute_result"
    }
   ],
   "source": [
    "trips_C2 = trips_C.groupby(pd.cut(trips_C.duration, range(0,trips_C['duration'].max()+200, 200))).size() #agrupa cada 200 seg, o sea 3.33 minutos\n",
    "#trips_S2 es una Serie\n",
    "cantidad_C2 = trips_C2.count()\n",
    "cantidad_C2"
   ]
  },
  {
   "cell_type": "code",
   "execution_count": 113,
   "metadata": {
    "collapsed": false
   },
   "outputs": [
    {
     "data": {
      "image/png": "[encoded data removed]",
      "text/plain": [
       "<matplotlib.figure.Figure at 0x7faa7567cc90>"
      ]
     },
     "metadata": {},
     "output_type": "display_data"
    }
   ],
   "source": [
    "###########################################################################\n",
    "#FALTA PONER LAS LEYENDAS DE X E Y, LOS NUMEROS #PUSE LIMITE EN X...\n",
    "\n",
    "from numpy import ma\n",
    "%matplotlib inline\n",
    "X=np.arange(cantidad_S2)\n",
    "Y1=trips_S2\n",
    "Y2=trips_C2\n",
    "\n",
    "plot.axes([0.025, 0.025, 1.5, 1.5])\n",
    "plot.bar(X , Y1, facecolor='#ff007f', label=\"Subscriber\")\n",
    "plot.bar(X , Y2, alpha=.5, label=\"Customers\")\n",
    "\n",
    "plot.xlim(-.5,100)\n",
    "#plot.xticks(trips_S2.index, fontsize = 13)\n",
    "plot.xlabel('Duracion', fontsize = 15)\n",
    "\n",
    "plot.ylim(0, 2300) #solo para que quede lindo, igual deberia ser segun los valores blabla..\n",
    "#plot.yticks((Y))\n",
    "plot.ylabel('Cantidad de viajes', fontsize = 15)\n",
    "\n",
    "plot.title('Cantidad de viajes por duracion (agrupado de a 3.3 minutos)\\n', fontsize = 18)\n",
    "\n",
    "plot.legend(loc=\"upper right\")\n",
    "plot.show()"
   ]
  },
  {
   "cell_type": "code",
   "execution_count": 108,
   "metadata": {
    "collapsed": true
   },
   "outputs": [],
   "source": [
    "trips_S3 = trips_S.groupby(pd.cut(trips_S.duration, range(0,trips_C['duration'].max()+3600, 3600))).size() #agrupa cada 1hs\n",
    "cantidad_S3 = trips_S3.count()"
   ]
  },
  {
   "cell_type": "code",
   "execution_count": 109,
   "metadata": {
    "collapsed": true
   },
   "outputs": [],
   "source": [
    "trips_C3 = trips_C.groupby(pd.cut(trips_C.duration, range(0,trips_C['duration'].max()+3600, 3600))).size() #agrupa cada 1hs\n",
    "cantidad_C3 = trips_C3.count()"
   ]
  },
  {
   "cell_type": "code",
   "execution_count": 123,
   "metadata": {
    "collapsed": false,
    "scrolled": false
   },
   "outputs": [
    {
     "data": {
      "image/png": "[encoded data removed]",
      "text/plain": [
       "<matplotlib.figure.Figure at 0x7faa6ff18210>"
      ]
     },
     "metadata": {},
     "output_type": "display_data"
    }
   ],
   "source": [
    "\n",
    "from numpy import ma\n",
    "%matplotlib inline\n",
    "X=np.arange(cantidad_S3)\n",
    "Y1=trips_S3\n",
    "Y2=trips_C3\n",
    "\n",
    "plot.axes([0.025, 0.025, 1.5, 1.5])\n",
    "plot.bar(X , Y1, facecolor='#ff007f', label=\"Subscriber\")\n",
    "plot.bar(X , Y2, alpha=.5, label=\"Customers\")\n",
    "\n",
    "\n",
    "plot.xticks(X, fontsize = 13)\n",
    "plot.xlim(-.5,24+0.5)\n",
    "plot.xlabel('Duracion', fontsize = 15)\n",
    "\n",
    "plot.ylim(0, 6700) #solo para que quede lindo, igual deberia ser segun los valores blabla..\n",
    "#plot.yticks((Y))\n",
    "plot.ylabel('Cantidad de viajes', fontsize = 15)\n",
    "\n",
    "plot.title('Cantidad de viajes por duracion (por hora)\\n', fontsize = 18)\n",
    "\n",
    "plot.legend(loc=\"upper right\")\n",
    "plot.show()"
   ]
  },
  {
   "cell_type": "code",
   "execution_count": null,
   "metadata": {
    "collapsed": true
   },
   "outputs": [],
   "source": []
  }
 ],
 "metadata": {
  "kernelspec": {
   "display_name": "Python 2",
   "language": "python",
   "name": "python2"
  },
  "language_info": {
   "codemirror_mode": {
    "name": "ipython",
    "version": 2
   },
   "file_extension": ".py",
   "mimetype": "text/x-python",
   "name": "python",
   "nbconvert_exporter": "python",
   "pygments_lexer": "ipython2",
   "version": "2.7.6"
  }
 },
 "nbformat": 4,
 "nbformat_minor": 2
}
