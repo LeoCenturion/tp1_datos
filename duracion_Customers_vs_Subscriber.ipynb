{
 "cells": [
  {
   "cell_type": "code",
   "execution_count": 6,
   "metadata": {
    "collapsed": true
   },
   "outputs": [],
   "source": [
    "import numpy as np\n",
    "import matplotlib.pyplot as plot\n",
    "import pandas as pd"
   ]
  },
  {
   "cell_type": "code",
   "execution_count": 7,
   "metadata": {
    "collapsed": true
   },
   "outputs": [],
   "source": [
    "trips_all=pd.read_csv(\"trip.csv\")\n",
    "trips=trips_all.loc[trips_all.start_date.str.contains('4/'+'\\S'+'/2014')]"
   ]
  },
  {
   "cell_type": "code",
   "execution_count": 59,
   "metadata": {
    "collapsed": true
   },
   "outputs": [],
   "source": [
    "trips_S = trips[trips['subscription_type']=='Subscriber']\n",
    "trips_C = trips[trips['subscription_type']=='Customer']"
   ]
  },
  {
   "cell_type": "code",
   "execution_count": 30,
   "metadata": {
    "collapsed": false
   },
   "outputs": [],
   "source": [
    "cantidad_viajes_S=trips_S[['duration','id']].groupby('duration').count()\n",
    "cantidad_viajes_C=trips_C[['duration','id']].groupby('duration').count()\n",
    "cantidad_viajes_totales = trips_all[['duration','id']].groupby('duration').count()"
   ]
  },
  {
   "cell_type": "code",
   "execution_count": 32,
   "metadata": {
    "collapsed": true
   },
   "outputs": [],
   "source": [
    "cantidad_viajes_S1=trips_S[['duration','id']].groupby('duration')\n",
    "cantidad_viajes_C1=trips_C[['duration','id']].groupby('duration')\n",
    "cantidad_viajes_totales1 = trips_all[['duration','id']].groupby('duration')"
   ]
  },
  {
   "cell_type": "code",
   "execution_count": 88,
   "metadata": {
    "collapsed": false
   },
   "outputs": [
    {
     "data": {
      "text/plain": [
       "644771"
      ]
     },
     "execution_count": 88,
     "metadata": {},
     "output_type": "execute_result"
    }
   ],
   "source": [
    "trips_S['duration'].max()\n",
    "trips_C['duration'].max()"
   ]
  },
  {
   "cell_type": "code",
   "execution_count": 89,
   "metadata": {
    "collapsed": false
   },
   "outputs": [
    {
     "data": {
      "text/plain": [
       "3224"
      ]
     },
     "execution_count": 89,
     "metadata": {},
     "output_type": "execute_result"
    }
   ],
   "source": [
    "trips_S2 = trips_S.groupby(pd.cut(trips_S.duration, range(0,trips_C['duration'].max()+200, 200))).size() #agrupa cada 200 seg, o sea 3.33 minutos\n",
    "#trips_S2 es una Serie\n",
    "cantidad_S2 = trips_S2.count()\n",
    "cantidad_S2"
   ]
  },
  {
   "cell_type": "code",
   "execution_count": 90,
   "metadata": {
    "collapsed": false
   },
   "outputs": [
    {
     "data": {
      "text/plain": [
       "3224"
      ]
     },
     "execution_count": 90,
     "metadata": {},
     "output_type": "execute_result"
    }
   ],
   "source": [
    "trips_C2 = trips_C.groupby(pd.cut(trips_C.duration, range(0,trips_C['duration'].max()+200, 200))).size() #agrupa cada 200 seg, o sea 3.33 minutos\n",
    "#trips_S2 es una Serie\n",
    "cantidad_C2 = trips_C2.count()\n",
    "cantidad_C2"
   ]
  },
  {
   "cell_type": "code",
   "execution_count": 97,
   "metadata": {
    "collapsed": false
   },
   "outputs": [
    {
     "data": {
      "image/png": "[encoded data removed]",
      "text/plain": [
       "<matplotlib.figure.Figure at 0x7faa6d439d50>"
      ]
     },
     "metadata": {},
     "output_type": "display_data"
    }
   ],
   "source": [
    "###########################################################################\n",
    "#FALTA PONER LAS LEYENDAS DE X E Y, LOS NUMEROS #PUSE LIMITE EN X...\n",
    "\n",
    "from numpy import ma\n",
    "%matplotlib inline\n",
    "X=np.arange(cantidad_S2)\n",
    "Y1=trips_S2\n",
    "Y2=trips_C2\n",
    "\n",
    "plot.axes([0.025, 0.025, 1.5, 1.5])\n",
    "plot.bar(X , Y1, facecolor='#ff007f', label=\"Subscriber\")\n",
    "plot.bar(X , Y2, alpha=.5, label=\"Customers\")\n",
    "\n",
    "plot.xlim(-.5,100)\n",
    "#plot.xticks(trips_S2.index, fontsize = 13)\n",
    "plot.xlabel('Duracion', fontsize = 15)\n",
    "\n",
    "plot.ylim(0, 2300) #solo para que quede lindo, igual deberia ser segun los valores blabla..\n",
    "#plot.yticks((Y))\n",
    "plot.ylabel('Cantidad de viajes', fontsize = 15)\n",
    "\n",
    "plot.title('Cantidad de viajes por duracion\\n', fontsize = 18)\n",
    "\n",
    "plot.legend(loc=\"upper right\")\n",
    "plot.show()"
   ]
  },
  {
   "cell_type": "code",
   "execution_count": 29,
   "metadata": {
    "collapsed": false
   },
   "outputs": [
    {
     "ename": "AssertionError",
     "evalue": "incompatible sizes: argument 'height' must be length 966 or scalar",
     "output_type": "error",
     "traceback": [
      "\u001b[0;31m---------------------------------------------------------------------------\u001b[0m",
      "\u001b[0;31mAssertionError\u001b[0m                            Traceback (most recent call last)",
      "\u001b[0;32m<ipython-input-29-690bb7b0b17f>\u001b[0m in \u001b[0;36m<module>\u001b[0;34m()\u001b[0m\n\u001b[1;32m     10\u001b[0m \u001b[0;31m#plot.bar(X + 0.25, Y3, width = 0.5, align=\"center\")\u001b[0m\u001b[0;34m\u001b[0m\u001b[0;34m\u001b[0m\u001b[0m\n\u001b[1;32m     11\u001b[0m \u001b[0;31m#plot.bar(X - 0.12, Y1, facecolor='#9999ff', edgecolor='white',  alpha=.5, width = 0.25, align=\"center\", label=\"Customers\") #no subscriptos, azul #alpha es la opacidad\u001b[0m\u001b[0;34m\u001b[0m\u001b[0;34m\u001b[0m\u001b[0m\n\u001b[0;32m---> 12\u001b[0;31m \u001b[0mplot\u001b[0m\u001b[0;34m.\u001b[0m\u001b[0mbar\u001b[0m\u001b[0;34m(\u001b[0m\u001b[0mX\u001b[0m \u001b[0;34m,\u001b[0m \u001b[0mY2\u001b[0m\u001b[0;34m,\u001b[0m \u001b[0mfacecolor\u001b[0m\u001b[0;34m=\u001b[0m\u001b[0;34m'#ff9999'\u001b[0m\u001b[0;34m,\u001b[0m \u001b[0medgecolor\u001b[0m\u001b[0;34m=\u001b[0m\u001b[0;34m'white'\u001b[0m\u001b[0;34m,\u001b[0m  \u001b[0malpha\u001b[0m\u001b[0;34m=\u001b[0m\u001b[0;36m.5\u001b[0m\u001b[0;34m,\u001b[0m \u001b[0mwidth\u001b[0m \u001b[0;34m=\u001b[0m \u001b[0;36m0.25\u001b[0m\u001b[0;34m,\u001b[0m \u001b[0mlabel\u001b[0m\u001b[0;34m=\u001b[0m\u001b[0;34m\"Subscriber\"\u001b[0m\u001b[0;34m)\u001b[0m \u001b[0;31m#subscriptos, rojo\u001b[0m\u001b[0;34m\u001b[0m\u001b[0m\n\u001b[0m\u001b[1;32m     13\u001b[0m \u001b[0;34m\u001b[0m\u001b[0m\n\u001b[1;32m     14\u001b[0m \u001b[0;34m\u001b[0m\u001b[0m\n",
      "\u001b[0;32m/usr/lib/pymodules/python2.7/matplotlib/pyplot.pyc\u001b[0m in \u001b[0;36mbar\u001b[0;34m(left, height, width, bottom, hold, **kwargs)\u001b[0m\n\u001b[1;32m   2513\u001b[0m         \u001b[0max\u001b[0m\u001b[0;34m.\u001b[0m\u001b[0mhold\u001b[0m\u001b[0;34m(\u001b[0m\u001b[0mhold\u001b[0m\u001b[0;34m)\u001b[0m\u001b[0;34m\u001b[0m\u001b[0m\n\u001b[1;32m   2514\u001b[0m     \u001b[0;32mtry\u001b[0m\u001b[0;34m:\u001b[0m\u001b[0;34m\u001b[0m\u001b[0m\n\u001b[0;32m-> 2515\u001b[0;31m         \u001b[0mret\u001b[0m \u001b[0;34m=\u001b[0m \u001b[0max\u001b[0m\u001b[0;34m.\u001b[0m\u001b[0mbar\u001b[0m\u001b[0;34m(\u001b[0m\u001b[0mleft\u001b[0m\u001b[0;34m,\u001b[0m \u001b[0mheight\u001b[0m\u001b[0;34m,\u001b[0m \u001b[0mwidth\u001b[0m\u001b[0;34m=\u001b[0m\u001b[0mwidth\u001b[0m\u001b[0;34m,\u001b[0m \u001b[0mbottom\u001b[0m\u001b[0;34m=\u001b[0m\u001b[0mbottom\u001b[0m\u001b[0;34m,\u001b[0m \u001b[0;34m**\u001b[0m\u001b[0mkwargs\u001b[0m\u001b[0;34m)\u001b[0m\u001b[0;34m\u001b[0m\u001b[0m\n\u001b[0m\u001b[1;32m   2516\u001b[0m         \u001b[0mdraw_if_interactive\u001b[0m\u001b[0;34m(\u001b[0m\u001b[0;34m)\u001b[0m\u001b[0;34m\u001b[0m\u001b[0m\n\u001b[1;32m   2517\u001b[0m     \u001b[0;32mfinally\u001b[0m\u001b[0;34m:\u001b[0m\u001b[0;34m\u001b[0m\u001b[0m\n",
      "\u001b[0;32m/usr/lib/pymodules/python2.7/matplotlib/axes.pyc\u001b[0m in \u001b[0;36mbar\u001b[0;34m(self, left, height, width, bottom, **kwargs)\u001b[0m\n\u001b[1;32m   4997\u001b[0m         assert len(height) == nbars, (\"incompatible sizes: argument 'height' \"\n\u001b[1;32m   4998\u001b[0m                                       \u001b[0;34m\"must be length %d or scalar\"\u001b[0m \u001b[0;34m%\u001b[0m\u001b[0;34m\u001b[0m\u001b[0m\n\u001b[0;32m-> 4999\u001b[0;31m                                       nbars)\n\u001b[0m\u001b[1;32m   5000\u001b[0m         assert len(width) == nbars, (\"incompatible sizes: argument 'width' \"\n\u001b[1;32m   5001\u001b[0m                                      \u001b[0;34m\"must be length %d or scalar\"\u001b[0m \u001b[0;34m%\u001b[0m\u001b[0;34m\u001b[0m\u001b[0m\n",
      "\u001b[0;31mAssertionError\u001b[0m: incompatible sizes: argument 'height' must be length 966 or scalar"
     ]
    },
    {
     "data": {
      "image/png": "[encoded data removed]",
      "text/plain": [
       "<matplotlib.figure.Figure at 0x7faa68e07910>"
      ]
     },
     "metadata": {},
     "output_type": "display_data"
    }
   ],
   "source": [
    "#ESTE NO FUNCIONA PORQUE HAY MUCHOS DATOS\n",
    "\n",
    "from numpy import ma\n",
    "%matplotlib inline\n",
    "\n",
    "X = np.arange(len(cantidad_viajes_C.index))\n",
    "Y1 = cantidad_viajes_C.loc[:,'id']\n",
    "Y2 = cantidad_viajes_S.loc[:,'id']\n",
    "Y3 = cantidad_viajes_totales.loc[:,'id']\n",
    "\n",
    "plot.axes([0.025, 0.025, 2, 2])\n",
    "#plot.bar(X + 0.25, Y3, width = 0.5, align=\"center\")\n",
    "#plot.bar(X - 0.12, Y1, facecolor='#9999ff', edgecolor='white',  alpha=.5, width = 0.25, align=\"center\", label=\"Customers\") #no subscriptos, azul #alpha es la opacidad\n",
    "plot.bar(X , Y2, facecolor='#ff9999', edgecolor='white',  alpha=.5, width = 0.25, label=\"Subscriber\") #subscriptos, rojo\n",
    "\n",
    "\n",
    "#for x, y in zip(X, Y1):\n",
    "#    plot.text(x + 0.4, y + 0.05, '%.2f' % y, ha='right', va= 'bottom')\n",
    "\n",
    "#for x, y in zip(X, Y2):\n",
    "#    plot.text(x + 0.4, y + 0.05, '%.2f' % y, ha='right', va= 'top')\n",
    "\n",
    "plot.xlim(-.5,len(cantidad_viajes_C.index)-0.5)\n",
    "#plot.xticks(X, cantidad_viajes_C.index, fontsize = 13)\n",
    "plot.xlabel('Duracion', fontsize = 15)\n",
    "\n",
    "#plot.ylim(0, 5400) #solo para que quede lindo, igual deberia ser segun los valores blabla..\n",
    "#plot.yticks((Y1))\n",
    "plot.ylabel('Cantidad de viajes', fontsize = 15)\n",
    "\n",
    "plot.title('Cantidad de viajes por duracion\\n', fontsize = 18)\n",
    "\n",
    "plot.legend(loc=\"upper left\")\n",
    "plot.show()"
   ]
  },
  {
   "cell_type": "code",
   "execution_count": null,
   "metadata": {
    "collapsed": true
   },
   "outputs": [],
   "source": []
  }
 ],
 "metadata": {
  "kernelspec": {
   "display_name": "Python 2",
   "language": "python",
   "name": "python2"
  },
  "language_info": {
   "codemirror_mode": {
    "name": "ipython",
    "version": 2
   },
   "file_extension": ".py",
   "mimetype": "text/x-python",
   "name": "python",
   "nbconvert_exporter": "python",
   "pygments_lexer": "ipython2",
   "version": "2.7.6"
  }
 },
 "nbformat": 4,
 "nbformat_minor": 2
}
