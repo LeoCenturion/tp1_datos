{
 "cells": [
  {
   "cell_type": "code",
   "execution_count": 1,
   "metadata": {
    "collapsed": false
   },
   "outputs": [],
   "source": [
    "import numpy as np\n",
    "import matplotlib.pyplot as plot\n",
    "import pandas as pd\n"
   ]
  },
  {
   "cell_type": "code",
   "execution_count": 2,
   "metadata": {
    "collapsed": false,
    "scrolled": true
   },
   "outputs": [],
   "source": [
    "import pyspark\n",
    "\n",
    "try: \n",
    "    type(sc)\n",
    "except NameError:\n",
    "    sc = pyspark.SparkContext('local[*]')\n",
    "    \n",
    "import pyspark_csv as pycsv\n",
    "sc.addPyFile('pyspark_csv.py')"
   ]
  },
  {
   "cell_type": "code",
   "execution_count": 3,
   "metadata": {
    "collapsed": false
   },
   "outputs": [],
   "source": [
    "import pyspark.sql as pysql\n",
    "\n",
    "sqlCtx = pysql.SQLContext(sc)\n",
    "\n",
    "trip_rdd=sc.textFile('trip.csv')\n",
    "trips_df =pycsv.csvToDataFrame(sqlCtx,trip_rdd)"
   ]
  },
  {
   "cell_type": "code",
   "execution_count": 4,
   "metadata": {
    "collapsed": false
   },
   "outputs": [],
   "source": [
    "#el rdd de los trips\n",
    "trips_data=trips_df.rdd"
   ]
  },
  {
   "cell_type": "code",
   "execution_count": 5,
   "metadata": {
    "collapsed": false
   },
   "outputs": [],
   "source": [
    "#de la forma ( (start_station_id,end_station_id) , 1)  \n",
    "frecuency=trips_data.map(lambda x: ((x[4],x[7]),1) ).reduceByKey(lambda x,y:x+y).collect()"
   ]
  },
  {
   "cell_type": "code",
   "execution_count": 6,
   "metadata": {
    "collapsed": false
   },
   "outputs": [],
   "source": [
    "#pandas_df\n",
    "stations=pd.read_csv('station.csv')\n",
    "stations_sf=sorted(stations.loc[stations.city=='San Francisco','id'].values)\n",
    "stations_sj=sorted(stations.loc[stations.city=='San Jose','id'].values)\n",
    "stations_pa=sorted(stations.loc[stations.city=='Palo Alto','id'].values)\n",
    "stations_rw=sorted(stations.loc[stations.city=='Redwood City','id'].values)\n",
    "stations_mv=sorted(stations.loc[stations.city=='Mountain View','id'].values)\n"
   ]
  },
  {
   "cell_type": "code",
   "execution_count": 7,
   "metadata": {
    "collapsed": true
   },
   "outputs": [],
   "source": [
    "# frecuency_sf=data.filter(lambda x: (x[4]  in stations_sf) and(x[7]  in stations_sf) )\\\n",
    "#             .map(lambda x: ((x[4],x[7]),1) )\\\n",
    "#             .reduceByKey(lambda x,y:x+y).collect()"
   ]
  },
  {
   "cell_type": "code",
   "execution_count": 8,
   "metadata": {
    "collapsed": true
   },
   "outputs": [],
   "source": [
    "matrix_sf=[ np.zeros(len(stations_sf)) for i in range(len(stations_sf))]\n",
    "matrix_sj=[ np.zeros(len(stations_sj)) for i in range(len(stations_sj))]\n",
    "matrix_pa=[ np.zeros(len(stations_pa)) for i in range(len(stations_pa))]\n",
    "matrix_rw=[ np.zeros(len(stations_rw)) for i in range(len(stations_rw))]\n",
    "matrix_mv=[ np.zeros(len(stations_mv)) for i in range(len(stations_mv))]\n"
   ]
  },
  {
   "cell_type": "code",
   "execution_count": 60,
   "metadata": {
    "collapsed": true
   },
   "outputs": [],
   "source": [
    "def asign_value_to_matrix(city_matrix,city_stations,start_id,end_id,val):\n",
    "    if (city_matrix is not None )and (city_stations is not None):\n",
    "        row=city_stations.index(start_id)\n",
    "        col=city_stations.index(end_id)\n",
    "        city_matrix[row][col]=val\n",
    "\n",
    "def get_trip_city(satrt_id,end_id,cities):\n",
    "    for matrix,stations_list in cities:\n",
    "        if (start_id in stations_list) and (end_id in stations_list):\n",
    "            return matrix,stations_list\n",
    "    return None,None"
   ]
  },
  {
   "cell_type": "code",
   "execution_count": 61,
   "metadata": {
    "collapsed": false,
    "scrolled": false
   },
   "outputs": [],
   "source": [
    "cities=[(matrix_mv,stations_mv),(matrix_pa,stations_pa),\\\n",
    "        (matrix_rw,stations_rw),(matrix_sf,stations_sf),\\\n",
    "        (matrix_sj,stations_sj)]\n",
    "for (start_id,end_id),val in frecuency:\n",
    "    city_matrix,city_stations = get_trip_city(start_id,end_id,cities)\n",
    "    asign_value_to_matrix(city_matrix,city_stations,start_id,end_id,val)\n",
    "        "
   ]
  },
  {
   "cell_type": "code",
   "execution_count": 71,
   "metadata": {
    "collapsed": false
   },
   "outputs": [
    {
     "data": {
      "text/html": [
       "<iframe id=\"igraph\" scrolling=\"no\" style=\"border:none;\" seamless=\"seamless\" src=\"https://plot.ly/~leocenturion/64.embed\" height=\"850px\" width=\"850px\"></iframe>"
      ],
      "text/plain": [
       "<plotly.tools.PlotlyDisplay object>"
      ]
     },
     "execution_count": 71,
     "metadata": {},
     "output_type": "execute_result"
    }
   ],
   "source": [
    "import plotly.plotly as py\n",
    "import plotly.graph_objs as go\n",
    "\n",
    "\n",
    "trace_sf = go.Heatmap(\n",
    "    x=stations.sort_values('id').loc[stations.city=='San Francisco', ['name']].values,\n",
    "    y=stations.sort_values('id').loc[stations.city=='San Francisco', ['name']].values,\n",
    "    z=matrix_sf,\n",
    "    autocolorscale=True\n",
    ")\n",
    "trace_sj = go.Heatmap(\n",
    "    x=stations.sort_values('id').loc[stations.city=='San Jose', ['name']].values,\n",
    "    y=stations.sort_values('id').loc[stations.city=='San Jose', ['name']].values,\n",
    "    z=matrix_sj,\n",
    "    autocolorscale=True\n",
    ")\n",
    "trace_rw = go.Heatmap(\n",
    "    x=stations.sort_values('id').loc[stations.city=='Redwood City', ['name']].values,\n",
    "    y=stations.sort_values('id').loc[stations.city=='Redwood City', ['name']].values,\n",
    "    z=matrix_rw,\n",
    "    autocolorscale=True\n",
    ")\n",
    "trace_pa = go.Heatmap(\n",
    "    x=stations.sort_values('id').loc[stations.city=='Palo Alto', ['name']].values,\n",
    "    y=stations.sort_values('id').loc[stations.city=='Palo Alto', ['name']].values,\n",
    "    z=matrix_pa,\n",
    "    autocolorscale=True\n",
    ")\n",
    "trace_mv = go.Heatmap(\n",
    "    x=stations.sort_values('id').loc[stations.city=='Mountain View', ['name']].values,\n",
    "    y=stations.sort_values('id').loc[stations.city=='Mountain View', ['name']].values,\n",
    "    z=matrix_mv,\n",
    "    autocolorscale=True\n",
    ")\n",
    "\n",
    "# layout = go.Layout(\n",
    "#     xaxis=dict( ticks='', showgrid=False, zeroline=False, nticks=20 ),\n",
    "#     yaxis=dict( ticks='', showgrid=False, zeroline=False, nticks=20 ),\n",
    "#     autosize=True,\n",
    "#     height=850,\n",
    "#     width=850,\n",
    "#     hovermode='closest',\n",
    "\n",
    "# )\n",
    "layout = go.Layout(\n",
    "    xaxis=dict( ticks='', showgrid=False, zeroline=False, nticks=20 ),\n",
    "    yaxis=dict( ticks='', showgrid=False, zeroline=False, nticks=20 ),\n",
    "    autosize=True,\n",
    "    height=850,\n",
    "    width=850,\n",
    "    hovermode='closest',\n",
    "    updatemenus=list([\n",
    "        dict(\n",
    "            x=1,\n",
    "            y=1.06,\n",
    "            buttons=list([\n",
    "                dict(\n",
    "                    args=['visible', [True, False, False, False,False]],\n",
    "                    label='San Francisco',\n",
    "                    \n",
    "                    method='restyle'\n",
    "                ),\n",
    "                dict(\n",
    "                    args=['visible', [False, True, False, False,False]],\n",
    "                    label='San Jose',\n",
    "                    method='restyle'\n",
    "                ),\n",
    "                dict(\n",
    "                    args=['visible', [False, False, True, False,False]],\n",
    "                    label='Palo Alto',\n",
    "                    method='restyle'\n",
    "                ),\n",
    "                dict(\n",
    "                    args=['visible', [False, False, False, True,False]],\n",
    "                    label='Mountain View',\n",
    "                    method='restyle'\n",
    "                ),\n",
    "                dict(\n",
    "                    args=['visible', [False, False, False, False,True]],\n",
    "                    label='Redwood City',\n",
    "                    method='restyle'\n",
    "                )\n",
    "            ]),\n",
    "            yanchor='top'\n",
    "        )\n",
    "    ]),\n",
    ")\n",
    "\n",
    "\n",
    "\n",
    "\n",
    "data = [trace_sf,trace_sj,trace_pa,trace_mv,trace_rw]\n",
    "fig = go.Figure(data=data, layout=layout)\n",
    "\n",
    "py.iplot(fig,filename='datetime-heatmap')\n"
   ]
  },
  {
   "cell_type": "code",
   "execution_count": null,
   "metadata": {
    "collapsed": false
   },
   "outputs": [],
   "source": []
  },
  {
   "cell_type": "code",
   "execution_count": null,
   "metadata": {
    "collapsed": false
   },
   "outputs": [],
   "source": []
  },
  {
   "cell_type": "code",
   "execution_count": null,
   "metadata": {
    "collapsed": false
   },
   "outputs": [],
   "source": []
  },
  {
   "cell_type": "code",
   "execution_count": null,
   "metadata": {
    "collapsed": true
   },
   "outputs": [],
   "source": []
  }
 ],
 "metadata": {
  "kernelspec": {
   "display_name": "Python 2",
   "language": "python",
   "name": "python2"
  },
  "language_info": {
   "codemirror_mode": {
    "name": "ipython",
    "version": 2
   },
   "file_extension": ".py",
   "mimetype": "text/x-python",
   "name": "python",
   "nbconvert_exporter": "python",
   "pygments_lexer": "ipython2",
   "version": "2.7.13"
  }
 },
 "nbformat": 4,
 "nbformat_minor": 2
}
