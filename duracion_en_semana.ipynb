{
 "cells": [
  {
   "cell_type": "code",
   "execution_count": 5,
   "metadata": {
    "collapsed": true
   },
   "outputs": [],
   "source": [
    "import numpy as np\n",
    "import matplotlib.pyplot as plot\n",
    "import pandas as pd\n",
    "import datetime as dt"
   ]
  },
  {
   "cell_type": "code",
   "execution_count": 6,
   "metadata": {
    "collapsed": false
   },
   "outputs": [
    {
     "data": {
      "text/html": [
       "<div>\n",
       "<table border=\"1\" class=\"dataframe\">\n",
       "  <thead>\n",
       "    <tr style=\"text-align: right;\">\n",
       "      <th></th>\n",
       "      <th>id</th>\n",
       "      <th>duration</th>\n",
       "      <th>start_date</th>\n",
       "      <th>start_station_name</th>\n",
       "      <th>start_station_id</th>\n",
       "      <th>end_date</th>\n",
       "      <th>end_station_name</th>\n",
       "      <th>end_station_id</th>\n",
       "      <th>bike_id</th>\n",
       "      <th>subscription_type</th>\n",
       "      <th>zip_code</th>\n",
       "    </tr>\n",
       "  </thead>\n",
       "  <tbody>\n",
       "    <tr>\n",
       "      <th>283460</th>\n",
       "      <td>243090</td>\n",
       "      <td>186</td>\n",
       "      <td>4/9/2014 23:33</td>\n",
       "      <td>Commercial at Montgomery</td>\n",
       "      <td>45</td>\n",
       "      <td>4/9/2014 23:36</td>\n",
       "      <td>Market at Sansome</td>\n",
       "      <td>77</td>\n",
       "      <td>397</td>\n",
       "      <td>Subscriber</td>\n",
       "      <td>94112</td>\n",
       "    </tr>\n",
       "    <tr>\n",
       "      <th>283461</th>\n",
       "      <td>243089</td>\n",
       "      <td>184</td>\n",
       "      <td>4/9/2014 23:32</td>\n",
       "      <td>Redwood City Caltrain Station</td>\n",
       "      <td>22</td>\n",
       "      <td>4/9/2014 23:35</td>\n",
       "      <td>Mezes Park</td>\n",
       "      <td>83</td>\n",
       "      <td>216</td>\n",
       "      <td>Subscriber</td>\n",
       "      <td>94063</td>\n",
       "    </tr>\n",
       "    <tr>\n",
       "      <th>283462</th>\n",
       "      <td>243088</td>\n",
       "      <td>765</td>\n",
       "      <td>4/9/2014 23:31</td>\n",
       "      <td>Embarcadero at Sansome</td>\n",
       "      <td>60</td>\n",
       "      <td>4/9/2014 23:43</td>\n",
       "      <td>Market at 4th</td>\n",
       "      <td>76</td>\n",
       "      <td>267</td>\n",
       "      <td>Subscriber</td>\n",
       "      <td>94108</td>\n",
       "    </tr>\n",
       "    <tr>\n",
       "      <th>283463</th>\n",
       "      <td>243087</td>\n",
       "      <td>1006</td>\n",
       "      <td>4/9/2014 23:29</td>\n",
       "      <td>San Francisco Caltrain (Townsend at 4th)</td>\n",
       "      <td>70</td>\n",
       "      <td>4/9/2014 23:46</td>\n",
       "      <td>San Francisco Caltrain (Townsend at 4th)</td>\n",
       "      <td>70</td>\n",
       "      <td>512</td>\n",
       "      <td>Customer</td>\n",
       "      <td>94127</td>\n",
       "    </tr>\n",
       "    <tr>\n",
       "      <th>283464</th>\n",
       "      <td>243086</td>\n",
       "      <td>328</td>\n",
       "      <td>4/9/2014 23:21</td>\n",
       "      <td>Steuart at Market</td>\n",
       "      <td>74</td>\n",
       "      <td>4/9/2014 23:26</td>\n",
       "      <td>Davis at Jackson</td>\n",
       "      <td>42</td>\n",
       "      <td>620</td>\n",
       "      <td>Subscriber</td>\n",
       "      <td>94111</td>\n",
       "    </tr>\n",
       "  </tbody>\n",
       "</table>\n",
       "</div>"
      ],
      "text/plain": [
       "            id  duration      start_date  \\\n",
       "283460  243090       186  4/9/2014 23:33   \n",
       "283461  243089       184  4/9/2014 23:32   \n",
       "283462  243088       765  4/9/2014 23:31   \n",
       "283463  243087      1006  4/9/2014 23:29   \n",
       "283464  243086       328  4/9/2014 23:21   \n",
       "\n",
       "                              start_station_name  start_station_id  \\\n",
       "283460                  Commercial at Montgomery                45   \n",
       "283461             Redwood City Caltrain Station                22   \n",
       "283462                    Embarcadero at Sansome                60   \n",
       "283463  San Francisco Caltrain (Townsend at 4th)                70   \n",
       "283464                         Steuart at Market                74   \n",
       "\n",
       "              end_date                          end_station_name  \\\n",
       "283460  4/9/2014 23:36                         Market at Sansome   \n",
       "283461  4/9/2014 23:35                                Mezes Park   \n",
       "283462  4/9/2014 23:43                             Market at 4th   \n",
       "283463  4/9/2014 23:46  San Francisco Caltrain (Townsend at 4th)   \n",
       "283464  4/9/2014 23:26                          Davis at Jackson   \n",
       "\n",
       "        end_station_id  bike_id subscription_type zip_code  \n",
       "283460              77      397        Subscriber    94112  \n",
       "283461              83      216        Subscriber    94063  \n",
       "283462              76      267        Subscriber    94108  \n",
       "283463              70      512          Customer    94127  \n",
       "283464              42      620        Subscriber    94111  "
      ]
     },
     "execution_count": 6,
     "metadata": {},
     "output_type": "execute_result"
    }
   ],
   "source": [
    "trips_all=pd.read_csv(\"trip.csv\")\n",
    "trips=trips_all.loc[trips_all.start_date.str.contains('4/'+'\\S'+'/2014')]\n",
    "trips.head()"
   ]
  },
  {
   "cell_type": "code",
   "execution_count": 7,
   "metadata": {
    "collapsed": false
   },
   "outputs": [
    {
     "name": "stderr",
     "output_type": "stream",
     "text": [
      "/usr/local/lib/python2.7/dist-packages/ipykernel/__main__.py:1: SettingWithCopyWarning: \n",
      "A value is trying to be set on a copy of a slice from a DataFrame.\n",
      "Try using .loc[row_indexer,col_indexer] = value instead\n",
      "\n",
      "See the caveats in the documentation: http://pandas.pydata.org/pandas-docs/stable/indexing.html#indexing-view-versus-copy\n",
      "  if __name__ == '__main__':\n",
      "/usr/local/lib/python2.7/dist-packages/ipykernel/__main__.py:2: SettingWithCopyWarning: \n",
      "A value is trying to be set on a copy of a slice from a DataFrame.\n",
      "Try using .loc[row_indexer,col_indexer] = value instead\n",
      "\n",
      "See the caveats in the documentation: http://pandas.pydata.org/pandas-docs/stable/indexing.html#indexing-view-versus-copy\n",
      "  from ipykernel import kernelapp as app\n"
     ]
    },
    {
     "data": {
      "text/html": [
       "<div>\n",
       "<table border=\"1\" class=\"dataframe\">\n",
       "  <thead>\n",
       "    <tr style=\"text-align: right;\">\n",
       "      <th></th>\n",
       "      <th>id</th>\n",
       "      <th>duration</th>\n",
       "      <th>start_date</th>\n",
       "      <th>start_station_name</th>\n",
       "      <th>start_station_id</th>\n",
       "      <th>end_date</th>\n",
       "      <th>end_station_name</th>\n",
       "      <th>end_station_id</th>\n",
       "      <th>bike_id</th>\n",
       "      <th>subscription_type</th>\n",
       "      <th>zip_code</th>\n",
       "      <th>dayofweek</th>\n",
       "    </tr>\n",
       "  </thead>\n",
       "  <tbody>\n",
       "    <tr>\n",
       "      <th>283460</th>\n",
       "      <td>243090</td>\n",
       "      <td>186</td>\n",
       "      <td>2014-04-09 23:33:00</td>\n",
       "      <td>Commercial at Montgomery</td>\n",
       "      <td>45</td>\n",
       "      <td>4/9/2014 23:36</td>\n",
       "      <td>Market at Sansome</td>\n",
       "      <td>77</td>\n",
       "      <td>397</td>\n",
       "      <td>Subscriber</td>\n",
       "      <td>94112</td>\n",
       "      <td>2</td>\n",
       "    </tr>\n",
       "    <tr>\n",
       "      <th>283461</th>\n",
       "      <td>243089</td>\n",
       "      <td>184</td>\n",
       "      <td>2014-04-09 23:32:00</td>\n",
       "      <td>Redwood City Caltrain Station</td>\n",
       "      <td>22</td>\n",
       "      <td>4/9/2014 23:35</td>\n",
       "      <td>Mezes Park</td>\n",
       "      <td>83</td>\n",
       "      <td>216</td>\n",
       "      <td>Subscriber</td>\n",
       "      <td>94063</td>\n",
       "      <td>2</td>\n",
       "    </tr>\n",
       "    <tr>\n",
       "      <th>283462</th>\n",
       "      <td>243088</td>\n",
       "      <td>765</td>\n",
       "      <td>2014-04-09 23:31:00</td>\n",
       "      <td>Embarcadero at Sansome</td>\n",
       "      <td>60</td>\n",
       "      <td>4/9/2014 23:43</td>\n",
       "      <td>Market at 4th</td>\n",
       "      <td>76</td>\n",
       "      <td>267</td>\n",
       "      <td>Subscriber</td>\n",
       "      <td>94108</td>\n",
       "      <td>2</td>\n",
       "    </tr>\n",
       "    <tr>\n",
       "      <th>283463</th>\n",
       "      <td>243087</td>\n",
       "      <td>1006</td>\n",
       "      <td>2014-04-09 23:29:00</td>\n",
       "      <td>San Francisco Caltrain (Townsend at 4th)</td>\n",
       "      <td>70</td>\n",
       "      <td>4/9/2014 23:46</td>\n",
       "      <td>San Francisco Caltrain (Townsend at 4th)</td>\n",
       "      <td>70</td>\n",
       "      <td>512</td>\n",
       "      <td>Customer</td>\n",
       "      <td>94127</td>\n",
       "      <td>2</td>\n",
       "    </tr>\n",
       "    <tr>\n",
       "      <th>283464</th>\n",
       "      <td>243086</td>\n",
       "      <td>328</td>\n",
       "      <td>2014-04-09 23:21:00</td>\n",
       "      <td>Steuart at Market</td>\n",
       "      <td>74</td>\n",
       "      <td>4/9/2014 23:26</td>\n",
       "      <td>Davis at Jackson</td>\n",
       "      <td>42</td>\n",
       "      <td>620</td>\n",
       "      <td>Subscriber</td>\n",
       "      <td>94111</td>\n",
       "      <td>2</td>\n",
       "    </tr>\n",
       "  </tbody>\n",
       "</table>\n",
       "</div>"
      ],
      "text/plain": [
       "            id  duration          start_date  \\\n",
       "283460  243090       186 2014-04-09 23:33:00   \n",
       "283461  243089       184 2014-04-09 23:32:00   \n",
       "283462  243088       765 2014-04-09 23:31:00   \n",
       "283463  243087      1006 2014-04-09 23:29:00   \n",
       "283464  243086       328 2014-04-09 23:21:00   \n",
       "\n",
       "                              start_station_name  start_station_id  \\\n",
       "283460                  Commercial at Montgomery                45   \n",
       "283461             Redwood City Caltrain Station                22   \n",
       "283462                    Embarcadero at Sansome                60   \n",
       "283463  San Francisco Caltrain (Townsend at 4th)                70   \n",
       "283464                         Steuart at Market                74   \n",
       "\n",
       "              end_date                          end_station_name  \\\n",
       "283460  4/9/2014 23:36                         Market at Sansome   \n",
       "283461  4/9/2014 23:35                                Mezes Park   \n",
       "283462  4/9/2014 23:43                             Market at 4th   \n",
       "283463  4/9/2014 23:46  San Francisco Caltrain (Townsend at 4th)   \n",
       "283464  4/9/2014 23:26                          Davis at Jackson   \n",
       "\n",
       "        end_station_id  bike_id subscription_type zip_code  dayofweek  \n",
       "283460              77      397        Subscriber    94112          2  \n",
       "283461              83      216        Subscriber    94063          2  \n",
       "283462              76      267        Subscriber    94108          2  \n",
       "283463              70      512          Customer    94127          2  \n",
       "283464              42      620        Subscriber    94111          2  "
      ]
     },
     "execution_count": 7,
     "metadata": {},
     "output_type": "execute_result"
    }
   ],
   "source": [
    "trips['start_date'] = pd.to_datetime((trips['start_date']))\n",
    "trips['dayofweek'] = trips.start_date.dt.dayofweek #nro 5 es sabado, 6 es domingo\n",
    "trips.head()"
   ]
  },
  {
   "cell_type": "code",
   "execution_count": 10,
   "metadata": {
    "collapsed": true
   },
   "outputs": [],
   "source": [
    "trips_week = trips[(trips['dayofweek']!=5) & (trips['dayofweek']!=6)]"
   ]
  },
  {
   "cell_type": "code",
   "execution_count": 11,
   "metadata": {
    "collapsed": false
   },
   "outputs": [
    {
     "data": {
      "text/plain": [
       "<matplotlib.collections.PathCollection at 0x7f0c4cc11610>"
      ]
     },
     "execution_count": 11,
     "metadata": {},
     "output_type": "execute_result"
    },
    {
     "name": "stderr",
     "output_type": "stream",
     "text": [
      "/usr/lib/pymodules/python2.7/matplotlib/collections.py:548: FutureWarning: elementwise comparison failed; returning scalar instead, but in the future will perform elementwise comparison\n",
      "  if self._edgecolors == 'face':\n"
     ]
    },
    {
     "data": {
      "image/png": "[encoded data removed]",
      "text/plain": [
       "<matplotlib.figure.Figure at 0x7f0c4e134110>"
      ]
     },
     "metadata": {},
     "output_type": "display_data"
    }
   ],
   "source": [
    "%matplotlib inline\n",
    "plot.scatter(trips_week['dayofweek'], trips_week['duration'])"
   ]
  },
  {
   "cell_type": "code",
   "execution_count": null,
   "metadata": {
    "collapsed": true
   },
   "outputs": [],
   "source": []
  }
 ],
 "metadata": {
  "kernelspec": {
   "display_name": "Python 2",
   "language": "python",
   "name": "python2"
  },
  "language_info": {
   "codemirror_mode": {
    "name": "ipython",
    "version": 2
   },
   "file_extension": ".py",
   "mimetype": "text/x-python",
   "name": "python",
   "nbconvert_exporter": "python",
   "pygments_lexer": "ipython2",
   "version": "2.7.6"
  }
 },
 "nbformat": 4,
 "nbformat_minor": 2
}
